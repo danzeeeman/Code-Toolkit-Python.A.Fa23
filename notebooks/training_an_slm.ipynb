{
  "cells": [
    {
      "attachments": {},
      "cell_type": "markdown",
      "metadata": {},
      "source": [
        "## Install Everything You Need"
      ]
    },
    {
      "cell_type": "code",
      "execution_count": null,
      "metadata": {},
      "outputs": [],
      "source": [
        "!pip install tokenizers\n",
        "!pip install transformers"
      ]
    },
    {
      "attachments": {},
      "cell_type": "markdown",
      "metadata": {
        "colab_type": "text",
        "id": "IQ7hj9kuhBIj"
      },
      "source": [
        "## Load and Preprocess data"
      ]
    },
    {
      "attachments": {},
      "cell_type": "markdown",
      "metadata": {},
      "source": [
        "#### Helper Functions you might need\n",
        "\n"
      ]
    },
    {
      "cell_type": "code",
      "execution_count": 1,
      "metadata": {
        "colab": {},
        "colab_type": "code",
        "id": "HOG-fl1cGhJ4"
      },
      "outputs": [],
      "source": [
        "import regex as re\n",
        "def basicPreprocess(text):\n",
        "  try:\n",
        "    processed_text = text.lower()\n",
        "    processed_text = re.sub(r'\\W +', ' ', processed_text)\n",
        "  except Exception as e:\n",
        "    print(\"Exception:\",e,\",on text:\", text)\n",
        "    return None\n",
        "  return processed_text"
      ]
    },
    {
      "attachments": {},
      "cell_type": "markdown",
      "metadata": {},
      "source": [
        "### Convert CSV file to JSON"
      ]
    },
    {
      "cell_type": "code",
      "execution_count": 89,
      "metadata": {},
      "outputs": [
        {
          "name": "stdout",
          "output_type": "stream",
          "text": [
            "Conversion completed. JSON data:\n",
            "[\n",
            "    {\n",
            "        \"Draw Date\": \"08/09/2023\",\n",
            "        \"Winning Numbers\": \"10 15 21 67 69 03\",\n",
            "        \"Multiplier\": \"2\"\n",
            "    },\n",
            "    {\n",
            "        \"Draw Date\": \"08/07/2023\",\n",
            "        \"Winning Numbers\": \"06 13 20 35 54 22\",\n",
            "        \"Multiplier\": \"2\"\n",
            "    },\n",
            "    {\n",
            "        \"Draw Date\": \"08/05/2023\",\n",
            "        \"Winning Numbers\": \"18 42 44 62 65 23\",\n",
            "        \"Multiplier\": \"2\"\n",
            "    },\n",
            "    {\n",
            "        \"Draw Date\": \"08/02/2023\",\n",
            "        \"Winning Numbers\": \"23 24 33 51 64 05\",\n",
            "        \"Multiplier\": \"2\"\n",
            "    },\n",
            "    {\n",
            "        \"Draw Date\": \"07/31/2023\",\n",
            "        \"Winning Numbers\": \"02 11 48 58 65 13\",\n",
            "        \"Multiplier\": \"2\"\n",
            "    },\n",
            "    {\n",
            "        \"Draw Date\": \"07/29/2023\",\n",
            "        \"Winning Numbers\": \"10 25 27 34 38 02\",\n",
            "        \"Multiplier\": \"3\"\n",
            "    },\n",
            "    {\n",
            "        \"Draw Date\": \"07/26/2023\",\n",
            "        \"Winning Numbers\": \"03 16 40 48 60 14\",\n",
            "        \"Multiplier\": \"2\"\n",
            "    },\n",
            "    {\n",
            "        \"Draw Date\": \"07/24/2023\",\n",
            "        \"Winning Numbers\": \"03 04 12 28 49 25\",\n",
            "        \"Multiplier\": \"2\"\n",
            "    },\n",
            "    {\n",
            "        \"Draw Date\": \"07/22/2023\",\n",
            "        \"Winning Numbers\": \"25 27 36 37 63 07\",\n",
            "        \"Multiplier\": \"2\"\n",
            "    },\n",
            "    {\n",
            "        \"Draw Date\": \"07/19/2023\",\n",
            "        \"Winning Numbers\": \"07 10 11 13 24 24\",\n",
            "        \"Multiplier\": \"2\"\n",
            "    },\n",
            "    {\n",
            "        \"Draw Date\": \"07/17/2023\",\n",
            "        \"Winning Numbers\": \"05 08 09 17 41 21\",\n",
            "        \"Multiplier\": \"4\"\n",
            "    },\n",
            "    {\n",
            "        \"Draw Date\": \"07/15/2023\",\n",
            "        \"Winning Numbers\": \"02 09 43 55 57 18\",\n",
            "        \"Multiplier\": \"2\"\n",
            "    },\n",
            "    {\n",
            "        \"Draw Date\": \"07/12/2023\",\n",
            "        \"Winning Numbers\": \"23 35 45 66 67 20\",\n",
            "        \"Multiplier\": \"3\"\n",
            "    }\n",
            "]\n"
          ]
        }
      ],
      "source": [
        "import csv\n",
        "import json\n",
        "def convert_csv_to_json(csv_file_path):\n",
        "    # Read CSV file\n",
        "    with open(csv_file_path, 'r') as file:\n",
        "        reader = csv.DictReader(file)\n",
        "        rows = list(reader)\n",
        "\n",
        "    # Convert CSV data to JSON\n",
        "    json_data = json.dumps(rows, indent=4)\n",
        "\n",
        "    # Save JSON data to a file (optional)\n",
        "    with open('07-12-08-10.json', 'w') as json_file:\n",
        "        json_file.write(json_data)\n",
        "\n",
        "    return json_data\n",
        "\n",
        "# Specify the path to your CSV file\n",
        "csv_file_path = './data_sources/Lottery_Powerball_Winning_Numbers__Beginning_2010-08-10-2023.csv'\n",
        "\n",
        "# Convert CSV to JSON\n",
        "json_data = convert_csv_to_json(csv_file_path)\n",
        "\n",
        "print(\"Conversion completed. JSON data:\")\n",
        "print(json_data)\n"
      ]
    },
    {
      "attachments": {},
      "cell_type": "markdown",
      "metadata": {},
      "source": [
        "### Convert JSON to Prompt List and llama input JSON"
      ]
    },
    {
      "cell_type": "code",
      "execution_count": 273,
      "metadata": {},
      "outputs": [
        {
          "name": "stdout",
          "output_type": "stream",
          "text": [
            "{datetime.datetime(2010, 2, 3, 0, 0): '17 22 36 37 52 24', datetime.datetime(2010, 2, 6, 0, 0): '14 22 52 54 59 04', datetime.datetime(2010, 2, 10, 0, 0): '05 08 29 37 38 34', datetime.datetime(2010, 2, 13, 0, 0): '10 14 30 40 51 01', datetime.datetime(2010, 2, 17, 0, 0): '07 08 19 26 36 15', datetime.datetime(2010, 2, 20, 0, 0): '13 27 37 41 54 32', datetime.datetime(2010, 2, 24, 0, 0): '04 17 35 50 57 12', datetime.datetime(2010, 2, 27, 0, 0): '18 47 51 53 58 30', datetime.datetime(2010, 3, 3, 0, 0): '07 09 14 45 49 23', datetime.datetime(2010, 3, 6, 0, 0): '10 29 33 41 59 15', datetime.datetime(2010, 3, 10, 0, 0): '17 21 37 41 50 01', datetime.datetime(2010, 3, 13, 0, 0): '06 16 20 31 36 08', datetime.datetime(2010, 3, 17, 0, 0): '24 26 45 48 55 08', datetime.datetime(2010, 3, 20, 0, 0): '09 36 39 44 45 09', datetime.datetime(2010, 3, 24, 0, 0): '14 20 24 39 49 07', datetime.datetime(2010, 3, 27, 0, 0): '07 21 32 44 52 10', datetime.datetime(2010, 3, 31, 0, 0): '05 13 17 45 54 12', datetime.datetime(2010, 4, 3, 0, 0): '10 15 31 52 59 04', datetime.datetime(2010, 4, 7, 0, 0): '04 36 40 44 52 33', datetime.datetime(2010, 4, 10, 0, 0): '21 22 49 52 58 34', datetime.datetime(2010, 4, 14, 0, 0): '06 14 32 38 52 20', datetime.datetime(2010, 4, 17, 0, 0): '05 21 22 41 49 15', datetime.datetime(2010, 4, 21, 0, 0): '11 34 41 49 55 20', datetime.datetime(2010, 4, 24, 0, 0): '01 12 53 56 57 05', datetime.datetime(2010, 4, 28, 0, 0): '12 22 25 28 44 24', datetime.datetime(2010, 5, 1, 0, 0): '16 23 25 49 58 20', datetime.datetime(2010, 5, 5, 0, 0): '13 34 40 47 57 11', datetime.datetime(2010, 5, 8, 0, 0): '05 22 34 41 57 31', datetime.datetime(2010, 5, 12, 0, 0): '37 51 52 53 58 38', datetime.datetime(2010, 5, 15, 0, 0): '15 21 23 28 36 20', datetime.datetime(2010, 5, 19, 0, 0): '02 07 29 55 58 27', datetime.datetime(2010, 5, 22, 0, 0): '19 20 40 47 57 29', datetime.datetime(2010, 5, 26, 0, 0): '01 06 10 13 20 32', datetime.datetime(2010, 5, 29, 0, 0): '01 03 24 28 41 10', datetime.datetime(2010, 6, 2, 0, 0): '04 09 14 39 43 38', datetime.datetime(2010, 6, 5, 0, 0): '18 34 40 48 59 25', datetime.datetime(2010, 6, 9, 0, 0): '14 22 27 32 49 05', datetime.datetime(2010, 6, 12, 0, 0): '09 12 13 35 38 30', datetime.datetime(2010, 6, 16, 0, 0): '08 11 18 29 36 06', datetime.datetime(2010, 6, 19, 0, 0): '09 30 31 50 54 39', datetime.datetime(2010, 6, 23, 0, 0): '11 30 45 47 48 10', datetime.datetime(2010, 6, 26, 0, 0): '13 30 32 38 57 25', datetime.datetime(2010, 6, 30, 0, 0): '06 38 43 47 48 27', datetime.datetime(2010, 7, 3, 0, 0): '03 10 14 52 53 03', datetime.datetime(2010, 7, 7, 0, 0): '10 41 44 48 56 04', datetime.datetime(2010, 7, 10, 0, 0): '20 21 27 28 56 04', datetime.datetime(2010, 7, 14, 0, 0): '20 21 23 38 42 06', datetime.datetime(2010, 7, 17, 0, 0): '22 27 35 37 45 03', datetime.datetime(2010, 7, 21, 0, 0): '16 22 30 51 58 25', datetime.datetime(2010, 7, 24, 0, 0): '20 30 38 46 59 27', datetime.datetime(2010, 7, 28, 0, 0): '01 11 20 25 27 02', datetime.datetime(2010, 7, 31, 0, 0): '01 16 17 41 57 15', datetime.datetime(2010, 8, 4, 0, 0): '19 28 30 37 53 36', datetime.datetime(2010, 8, 7, 0, 0): '04 22 26 31 52 30', datetime.datetime(2010, 8, 11, 0, 0): '07 10 22 23 52 29', datetime.datetime(2010, 8, 14, 0, 0): '09 33 36 50 58 31', datetime.datetime(2010, 8, 18, 0, 0): '04 32 33 47 55 39', datetime.datetime(2010, 8, 21, 0, 0): '07 10 12 22 27 26', datetime.datetime(2010, 8, 25, 0, 0): '16 17 29 31 36 23', datetime.datetime(2010, 8, 28, 0, 0): '04 22 27 32 56 13', datetime.datetime(2010, 9, 1, 0, 0): '17 20 21 40 51 19', datetime.datetime(2010, 9, 4, 0, 0): '11 14 22 33 42 38', datetime.datetime(2010, 9, 8, 0, 0): '10 35 39 51 57 20', datetime.datetime(2010, 9, 11, 0, 0): '07 17 20 36 59 33', datetime.datetime(2010, 9, 15, 0, 0): '07 20 21 34 43 34', datetime.datetime(2010, 9, 18, 0, 0): '01 18 37 39 44 13', datetime.datetime(2010, 9, 22, 0, 0): '10 24 36 52 55 15', datetime.datetime(2010, 9, 25, 0, 0): '08 16 27 35 42 30', datetime.datetime(2010, 9, 29, 0, 0): '13 44 51 52 55 30', datetime.datetime(2010, 10, 2, 0, 0): '12 20 30 36 47 25', datetime.datetime(2010, 10, 6, 0, 0): '14 26 37 41 46 24', datetime.datetime(2010, 10, 9, 0, 0): '02 06 32 42 49 35', datetime.datetime(2010, 10, 13, 0, 0): '12 22 32 34 46 02', datetime.datetime(2010, 10, 16, 0, 0): '11 12 15 16 28 11', datetime.datetime(2010, 10, 20, 0, 0): '07 17 20 39 59 17', datetime.datetime(2010, 10, 23, 0, 0): '02 07 16 20 46 34', datetime.datetime(2010, 10, 27, 0, 0): '20 24 25 53 59 15', datetime.datetime(2010, 10, 30, 0, 0): '01 07 27 36 49 39', datetime.datetime(2010, 11, 3, 0, 0): '34 38 39 45 50 33', datetime.datetime(2010, 11, 6, 0, 0): '07 12 23 34 38 33', datetime.datetime(2010, 11, 10, 0, 0): '05 08 11 40 44 10', datetime.datetime(2010, 11, 13, 0, 0): '17 30 48 51 54 29', datetime.datetime(2010, 11, 17, 0, 0): '14 16 53 54 59 05', datetime.datetime(2010, 11, 20, 0, 0): '10 12 38 53 57 01', datetime.datetime(2010, 11, 24, 0, 0): '08 20 21 32 37 04', datetime.datetime(2010, 11, 27, 0, 0): '10 30 37 47 54 39', datetime.datetime(2010, 12, 1, 0, 0): '05 10 11 12 20 02', datetime.datetime(2010, 12, 4, 0, 0): '13 24 27 31 42 22', datetime.datetime(2010, 12, 8, 0, 0): '08 11 25 41 58 16', datetime.datetime(2010, 12, 11, 0, 0): '01 08 10 19 20 23', datetime.datetime(2010, 12, 15, 0, 0): '10 11 18 32 45 18', datetime.datetime(2010, 12, 18, 0, 0): '04 11 19 33 43 14', datetime.datetime(2010, 12, 22, 0, 0): '11 33 44 46 47 12', datetime.datetime(2010, 12, 25, 0, 0): '01 17 38 50 52 24', datetime.datetime(2010, 12, 29, 0, 0): '03 16 18 20 37 30', datetime.datetime(2011, 1, 1, 0, 0): '18 22 37 47 54 36', datetime.datetime(2011, 1, 5, 0, 0): '22 26 32 38 40 07', datetime.datetime(2011, 1, 8, 0, 0): '06 07 26 33 52 24', datetime.datetime(2011, 1, 12, 0, 0): '19 21 23 40 48 27', datetime.datetime(2011, 1, 15, 0, 0): '09 13 22 23 37 31', datetime.datetime(2011, 1, 19, 0, 0): '22 36 51 56 59 32', datetime.datetime(2011, 1, 22, 0, 0): '30 31 34 45 51 23', datetime.datetime(2011, 1, 26, 0, 0): '04 05 36 47 58 06', datetime.datetime(2011, 1, 29, 0, 0): '24 28 45 49 52 02', datetime.datetime(2011, 2, 2, 0, 0): '03 14 33 53 57 36', datetime.datetime(2011, 2, 5, 0, 0): '15 37 41 56 59 05', datetime.datetime(2011, 2, 9, 0, 0): '07 11 39 42 51 30', datetime.datetime(2011, 2, 12, 0, 0): '11 32 36 48 52 19', datetime.datetime(2011, 2, 16, 0, 0): '09 13 21 23 48 24', datetime.datetime(2011, 2, 19, 0, 0): '03 12 34 37 42 36', datetime.datetime(2011, 2, 23, 0, 0): '29 32 36 39 49 29', datetime.datetime(2011, 2, 26, 0, 0): '04 13 17 21 45 10', datetime.datetime(2011, 3, 2, 0, 0): '07 31 50 51 58 06', datetime.datetime(2011, 3, 5, 0, 0): '02 23 31 42 48 21', datetime.datetime(2011, 3, 9, 0, 0): '12 20 28 40 48 08', datetime.datetime(2011, 3, 12, 0, 0): '01 04 12 41 47 03', datetime.datetime(2011, 3, 16, 0, 0): '28 39 40 48 53 09', datetime.datetime(2011, 3, 19, 0, 0): '03 11 20 27 46 08', datetime.datetime(2011, 3, 23, 0, 0): '05 15 26 28 32 09', datetime.datetime(2011, 3, 26, 0, 0): '04 10 11 19 33 27', datetime.datetime(2011, 3, 30, 0, 0): '19 20 42 56 58 37', datetime.datetime(2011, 4, 2, 0, 0): '06 22 34 43 45 23', datetime.datetime(2011, 4, 6, 0, 0): '10 18 41 55 56 15', datetime.datetime(2011, 4, 9, 0, 0): '05 14 32 53 56 11', datetime.datetime(2011, 4, 13, 0, 0): '04 23 39 49 50 39', datetime.datetime(2011, 4, 16, 0, 0): '21 33 44 45 55 07', datetime.datetime(2011, 4, 20, 0, 0): '09 24 34 36 43 27', datetime.datetime(2011, 4, 23, 0, 0): '03 11 47 48 58 19', datetime.datetime(2011, 4, 27, 0, 0): '04 24 40 44 55 05', datetime.datetime(2011, 4, 30, 0, 0): '06 13 15 32 41 03', datetime.datetime(2011, 5, 4, 0, 0): '03 15 27 29 41 24', datetime.datetime(2011, 5, 7, 0, 0): '02 11 27 47 55 15', datetime.datetime(2011, 5, 11, 0, 0): '09 17 32 43 45 31', datetime.datetime(2011, 5, 14, 0, 0): '08 17 18 40 44 16', datetime.datetime(2011, 5, 18, 0, 0): '07 12 13 42 49 16', datetime.datetime(2011, 5, 21, 0, 0): '02 08 40 49 50 36', datetime.datetime(2011, 5, 25, 0, 0): '04 23 31 42 50 23', datetime.datetime(2011, 5, 28, 0, 0): '12 20 43 51 55 11', datetime.datetime(2011, 6, 1, 0, 0): '08 18 38 46 56 31', datetime.datetime(2011, 6, 4, 0, 0): '17 19 39 41 58 21', datetime.datetime(2011, 6, 8, 0, 0): '14 37 44 45 53 29', datetime.datetime(2011, 6, 11, 0, 0): '16 18 27 36 50 08', datetime.datetime(2011, 6, 15, 0, 0): '19 20 38 41 43 29', datetime.datetime(2011, 6, 18, 0, 0): '12 21 22 38 41 18', datetime.datetime(2011, 6, 22, 0, 0): '12 15 19 46 59 12', datetime.datetime(2011, 6, 25, 0, 0): '18 36 39 41 57 12', datetime.datetime(2011, 6, 29, 0, 0): '24 30 45 57 59 26', datetime.datetime(2011, 7, 2, 0, 0): '01 11 18 29 51 32', datetime.datetime(2011, 7, 6, 0, 0): '11 15 24 50 55 08', datetime.datetime(2011, 7, 9, 0, 0): '01 09 11 23 31 06', datetime.datetime(2011, 7, 13, 0, 0): '08 18 19 32 54 08', datetime.datetime(2011, 7, 16, 0, 0): '24 28 48 50 54 25', datetime.datetime(2011, 7, 20, 0, 0): '01 04 38 40 42 17', datetime.datetime(2011, 7, 23, 0, 0): '01 07 27 38 48 30', datetime.datetime(2011, 7, 27, 0, 0): '38 40 41 51 59 33', datetime.datetime(2011, 7, 30, 0, 0): '20 40 41 47 55 19', datetime.datetime(2011, 8, 3, 0, 0): '13 19 21 28 49 11', datetime.datetime(2011, 8, 6, 0, 0): '25 30 54 57 59 06', datetime.datetime(2011, 8, 10, 0, 0): '11 18 36 41 46 38', datetime.datetime(2011, 8, 13, 0, 0): '09 12 35 50 58 04', datetime.datetime(2011, 8, 17, 0, 0): '18 28 31 48 52 37', datetime.datetime(2011, 8, 20, 0, 0): '02 17 23 28 47 36', datetime.datetime(2011, 8, 24, 0, 0): '09 13 47 49 53 39', datetime.datetime(2011, 8, 27, 0, 0): '02 12 25 54 58 14', datetime.datetime(2011, 8, 31, 0, 0): '13 19 35 47 57 29', datetime.datetime(2011, 9, 3, 0, 0): '15 25 52 53 54 02', datetime.datetime(2011, 9, 7, 0, 0): '03 05 18 27 54 13', datetime.datetime(2011, 9, 10, 0, 0): '04 19 22 32 53 24', datetime.datetime(2011, 9, 14, 0, 0): '16 41 42 50 59 05', datetime.datetime(2011, 9, 17, 0, 0): '06 20 22 32 43 11', datetime.datetime(2011, 9, 21, 0, 0): '12 47 48 52 55 13', datetime.datetime(2011, 9, 24, 0, 0): '03 04 12 27 44 26', datetime.datetime(2011, 9, 28, 0, 0): '30 41 50 51 53 08', datetime.datetime(2011, 10, 1, 0, 0): '01 12 23 27 43 31', datetime.datetime(2011, 10, 5, 0, 0): '07 20 43 46 54 17', datetime.datetime(2011, 10, 8, 0, 0): '03 27 35 37 45 31', datetime.datetime(2011, 10, 12, 0, 0): '10 12 23 43 47 18', datetime.datetime(2011, 10, 15, 0, 0): '05 10 24 38 43 01', datetime.datetime(2011, 10, 19, 0, 0): '16 26 35 52 58 02', datetime.datetime(2011, 10, 22, 0, 0): '03 08 23 30 58 13', datetime.datetime(2011, 10, 26, 0, 0): '01 18 21 39 55 06', datetime.datetime(2011, 10, 29, 0, 0): '11 16 40 51 56 38', datetime.datetime(2011, 11, 2, 0, 0): '12 14 34 39 46 36', datetime.datetime(2011, 11, 5, 0, 0): '02 33 39 40 43 26', datetime.datetime(2011, 11, 9, 0, 0): '05 35 57 58 59 12', datetime.datetime(2011, 11, 12, 0, 0): '04 35 36 51 56 08', datetime.datetime(2011, 11, 16, 0, 0): '13 22 25 39 51 28', datetime.datetime(2011, 11, 19, 0, 0): '09 16 17 28 30 11', datetime.datetime(2011, 11, 23, 0, 0): '04 30 35 57 59 25', datetime.datetime(2011, 11, 26, 0, 0): '20 37 39 45 55 28', datetime.datetime(2011, 11, 30, 0, 0): '02 06 34 35 47 22', datetime.datetime(2011, 12, 3, 0, 0): '05 18 33 43 45 08', datetime.datetime(2011, 12, 7, 0, 0): '03 14 20 39 40 37', datetime.datetime(2011, 12, 10, 0, 0): '04 19 33 41 59 09', datetime.datetime(2011, 12, 14, 0, 0): '02 24 46 52 56 19', datetime.datetime(2011, 12, 17, 0, 0): '13 28 49 51 59 33', datetime.datetime(2011, 12, 21, 0, 0): '10 13 15 31 54 18', datetime.datetime(2011, 12, 24, 0, 0): '14 16 30 51 52 19', datetime.datetime(2011, 12, 28, 0, 0): '16 21 27 41 45 14', datetime.datetime(2011, 12, 31, 0, 0): '05 23 25 28 40 34', datetime.datetime(2012, 1, 4, 0, 0): '21 35 46 47 50 02', datetime.datetime(2012, 1, 7, 0, 0): '03 21 24 38 39 24', datetime.datetime(2012, 1, 11, 0, 0): '05 19 29 45 47 25', datetime.datetime(2012, 1, 14, 0, 0): '10 30 36 38 41 01', datetime.datetime(2012, 1, 18, 0, 0): '06 29 34 44 50 28', datetime.datetime(2012, 1, 21, 0, 0): '12 24 43 44 45 07', datetime.datetime(2012, 1, 25, 0, 0): '04 19 28 29 47 05', datetime.datetime(2012, 1, 28, 0, 0): '05 33 41 54 59 13', datetime.datetime(2012, 2, 1, 0, 0): '08 13 17 34 59 35', datetime.datetime(2012, 2, 4, 0, 0): '15 23 43 45 56 07', datetime.datetime(2012, 2, 8, 0, 0): '17 28 38 39 51 33', datetime.datetime(2012, 2, 11, 0, 0): '01 10 37 52 57 11', datetime.datetime(2012, 2, 15, 0, 0): '11 12 32 52 56 11', datetime.datetime(2012, 2, 18, 0, 0): '23 28 50 56 59 05', datetime.datetime(2012, 2, 22, 0, 0): '07 16 17 39 51 32', datetime.datetime(2012, 2, 25, 0, 0): '06 11 42 53 54 07', datetime.datetime(2012, 2, 29, 0, 0): '01 04 11 23 26 14', datetime.datetime(2012, 3, 3, 0, 0): '29 30 45 47 49 35', datetime.datetime(2012, 3, 7, 0, 0): '12 35 45 46 47 12', datetime.datetime(2012, 3, 10, 0, 0): '05 14 17 20 41 05', datetime.datetime(2012, 3, 14, 0, 0): '01 08 41 46 59 24', datetime.datetime(2012, 3, 17, 0, 0): '11 14 49 55 58 30', datetime.datetime(2012, 3, 21, 0, 0): '32 43 53 55 56 06', datetime.datetime(2012, 3, 24, 0, 0): '01 15 35 37 47 08', datetime.datetime(2012, 3, 28, 0, 0): '11 16 29 50 58 33', datetime.datetime(2012, 3, 31, 0, 0): '05 14 36 54 58 27', datetime.datetime(2012, 4, 4, 0, 0): '01 24 33 45 49 06', datetime.datetime(2012, 4, 7, 0, 0): '05 13 17 20 30 18', datetime.datetime(2012, 4, 11, 0, 0): '16 23 42 44 47 02', datetime.datetime(2012, 4, 14, 0, 0): '14 15 16 19 24 02', datetime.datetime(2012, 4, 18, 0, 0): '20 22 39 46 49 29', datetime.datetime(2012, 4, 21, 0, 0): '06 08 20 42 51 16', datetime.datetime(2012, 4, 25, 0, 0): '04 25 29 34 43 29', datetime.datetime(2012, 4, 28, 0, 0): '31 39 40 57 58 33', datetime.datetime(2012, 5, 2, 0, 0): '07 08 33 38 50 29', datetime.datetime(2012, 5, 5, 0, 0): '09 12 20 44 59 23', datetime.datetime(2012, 5, 9, 0, 0): '01 07 11 55 56 01', datetime.datetime(2012, 5, 12, 0, 0): '10 24 35 53 58 22', datetime.datetime(2012, 5, 16, 0, 0): '03 07 21 28 43 02', datetime.datetime(2012, 5, 19, 0, 0): '08 13 35 46 51 30', datetime.datetime(2012, 5, 23, 0, 0): '04 07 26 53 59 32', datetime.datetime(2012, 5, 26, 0, 0): '13 14 41 49 59 14', datetime.datetime(2012, 5, 30, 0, 0): '09 10 24 52 56 14', datetime.datetime(2012, 6, 2, 0, 0): '09 10 17 29 45 33', datetime.datetime(2012, 6, 6, 0, 0): '19 30 33 48 59 27', datetime.datetime(2012, 6, 9, 0, 0): '18 22 45 56 57 27', datetime.datetime(2012, 6, 13, 0, 0): '07 10 14 33 57 18', datetime.datetime(2012, 6, 16, 0, 0): '08 14 15 16 27 26', datetime.datetime(2012, 6, 20, 0, 0): '11 17 29 56 57 14', datetime.datetime(2012, 6, 23, 0, 0): '01 03 41 44 53 30', datetime.datetime(2012, 6, 27, 0, 0): '06 34 40 46 58 06', datetime.datetime(2012, 6, 30, 0, 0): '07 15 20 41 44 22', datetime.datetime(2012, 7, 4, 0, 0): '14 19 35 39 56 33', datetime.datetime(2012, 7, 7, 0, 0): '03 05 29 39 59 29', datetime.datetime(2012, 7, 11, 0, 0): '05 22 36 49 55 23', datetime.datetime(2012, 7, 14, 0, 0): '04 16 32 37 46 13', datetime.datetime(2012, 7, 18, 0, 0): '02 05 20 23 57 03', datetime.datetime(2012, 7, 21, 0, 0): '09 31 38 54 56 20', datetime.datetime(2012, 7, 25, 0, 0): '03 14 35 38 46 16', datetime.datetime(2012, 7, 28, 0, 0): '05 06 13 36 50 13', datetime.datetime(2012, 8, 1, 0, 0): '03 16 48 56 58 04', datetime.datetime(2012, 8, 4, 0, 0): '19 30 48 53 55 18', datetime.datetime(2012, 8, 8, 0, 0): '03 07 11 15 28 12', datetime.datetime(2012, 8, 11, 0, 0): '04 13 39 46 51 01', datetime.datetime(2012, 8, 15, 0, 0): '06 27 46 51 56 21', datetime.datetime(2012, 8, 18, 0, 0): '14 26 41 55 59 01', datetime.datetime(2012, 8, 22, 0, 0): '22 29 31 47 55 19', datetime.datetime(2012, 8, 25, 0, 0): '01 06 07 20 49 23', datetime.datetime(2012, 8, 29, 0, 0): '25 28 49 54 56 28', datetime.datetime(2012, 9, 1, 0, 0): '08 11 21 44 49 22', datetime.datetime(2012, 9, 5, 0, 0): '04 19 26 42 51 29', datetime.datetime(2012, 9, 8, 0, 0): '06 20 34 44 48 29', datetime.datetime(2012, 9, 12, 0, 0): '24 33 36 48 56 06', datetime.datetime(2012, 9, 15, 0, 0): '03 20 26 43 48 01', datetime.datetime(2012, 9, 19, 0, 0): '01 05 08 39 50 23', datetime.datetime(2012, 9, 22, 0, 0): '02 16 18 40 42 33', datetime.datetime(2012, 9, 26, 0, 0): '13 26 39 41 42 10', datetime.datetime(2012, 9, 29, 0, 0): '14 18 28 29 57 08', datetime.datetime(2012, 10, 3, 0, 0): '17 23 36 55 59 10', datetime.datetime(2012, 10, 6, 0, 0): '15 26 34 36 59 35', datetime.datetime(2012, 10, 10, 0, 0): '18 26 29 35 43 28', datetime.datetime(2012, 10, 13, 0, 0): '02 05 25 26 49 18', datetime.datetime(2012, 10, 17, 0, 0): '01 07 10 23 42 35', datetime.datetime(2012, 10, 20, 0, 0): '04 21 28 31 44 10', datetime.datetime(2012, 10, 24, 0, 0): '03 18 21 23 50 04', datetime.datetime(2012, 10, 27, 0, 0): '22 32 34 36 56 33', datetime.datetime(2012, 10, 31, 0, 0): '01 27 31 45 48 05', datetime.datetime(2012, 11, 3, 0, 0): '04 07 09 30 54 25', datetime.datetime(2012, 11, 7, 0, 0): '32 34 45 52 58 20', datetime.datetime(2012, 11, 10, 0, 0): '32 42 50 54 55 32', datetime.datetime(2012, 11, 14, 0, 0): '08 10 30 44 58 13', datetime.datetime(2012, 11, 17, 0, 0): '03 15 27 58 59 20', datetime.datetime(2012, 11, 21, 0, 0): '08 18 24 30 39 26', datetime.datetime(2012, 11, 24, 0, 0): '22 32 37 44 50 34', datetime.datetime(2012, 11, 28, 0, 0): '05 16 22 23 29 06', datetime.datetime(2012, 12, 1, 0, 0): '03 10 19 36 46 03', datetime.datetime(2012, 12, 5, 0, 0): '13 17 19 27 38 12', datetime.datetime(2012, 12, 8, 0, 0): '07 23 26 40 53 21', datetime.datetime(2012, 12, 12, 0, 0): '08 10 25 36 44 28', datetime.datetime(2012, 12, 15, 0, 0): '15 23 40 44 55 14', datetime.datetime(2012, 12, 19, 0, 0): '05 08 20 23 30 03', datetime.datetime(2012, 12, 22, 0, 0): '01 18 35 39 44 11', datetime.datetime(2012, 12, 26, 0, 0): '11 13 23 43 54 04', datetime.datetime(2012, 12, 29, 0, 0): '36 46 50 52 55 14', datetime.datetime(2013, 1, 2, 0, 0): '18 20 28 35 53 20', datetime.datetime(2013, 1, 5, 0, 0): '26 30 49 51 54 25', datetime.datetime(2013, 1, 9, 0, 0): '11 13 20 27 59 26', datetime.datetime(2013, 1, 12, 0, 0): '10 14 21 23 47 07', datetime.datetime(2013, 1, 16, 0, 0): '09 21 28 32 51 35', datetime.datetime(2013, 1, 19, 0, 0): '08 28 29 34 38 35', datetime.datetime(2013, 1, 23, 0, 0): '11 12 24 43 45 09', datetime.datetime(2013, 1, 26, 0, 0): '03 22 26 41 49 18', datetime.datetime(2013, 1, 30, 0, 0): '14 16 32 47 52 16', datetime.datetime(2013, 2, 2, 0, 0): '11 16 33 40 41 34', datetime.datetime(2013, 2, 6, 0, 0): '05 27 36 38 41 12', datetime.datetime(2013, 2, 9, 0, 0): '05 06 16 36 58 03', datetime.datetime(2013, 2, 13, 0, 0): '12 23 25 27 43 29', datetime.datetime(2013, 2, 16, 0, 0): '15 16 46 50 58 29', datetime.datetime(2013, 2, 20, 0, 0): '03 17 19 25 32 17', datetime.datetime(2013, 2, 23, 0, 0): '02 05 31 39 41 29', datetime.datetime(2013, 2, 27, 0, 0): '03 14 20 34 48 21', datetime.datetime(2013, 3, 2, 0, 0): '03 08 13 41 56 16', datetime.datetime(2013, 3, 6, 0, 0): '06 10 23 41 45 01', datetime.datetime(2013, 3, 9, 0, 0): '10 37 40 46 52 12', datetime.datetime(2013, 3, 13, 0, 0): '05 09 28 32 38 29', datetime.datetime(2013, 3, 16, 0, 0): '03 07 21 44 53 16', datetime.datetime(2013, 3, 20, 0, 0): '13 14 17 43 54 15', datetime.datetime(2013, 3, 23, 0, 0): '17 29 31 52 53 31', datetime.datetime(2013, 3, 27, 0, 0): '07 37 43 48 52 16', datetime.datetime(2013, 3, 30, 0, 0): '11 23 26 46 55 27', datetime.datetime(2013, 4, 3, 0, 0): '01 06 08 12 35 03', datetime.datetime(2013, 4, 6, 0, 0): '04 07 08 29 39 24', datetime.datetime(2013, 4, 10, 0, 0): '01 36 40 52 53 20', datetime.datetime(2013, 4, 13, 0, 0): '10 12 31 56 57 33', datetime.datetime(2013, 4, 17, 0, 0): '13 18 36 48 58 28', datetime.datetime(2013, 4, 20, 0, 0): '06 08 30 39 48 20', datetime.datetime(2013, 4, 24, 0, 0): '09 19 31 56 59 02', datetime.datetime(2013, 4, 27, 0, 0): '03 23 48 54 55 05', datetime.datetime(2013, 5, 1, 0, 0): '22 26 31 54 55 18', datetime.datetime(2013, 5, 4, 0, 0): '07 12 26 36 40 17', datetime.datetime(2013, 5, 8, 0, 0): '21 22 26 30 57 27', datetime.datetime(2013, 5, 11, 0, 0): '06 13 19 23 43 16', datetime.datetime(2013, 5, 15, 0, 0): '02 11 26 34 41 32', datetime.datetime(2013, 5, 18, 0, 0): '10 13 14 22 52 11', datetime.datetime(2013, 5, 22, 0, 0): '09 31 35 41 57 26', datetime.datetime(2013, 5, 25, 0, 0): '02 06 19 21 27 25', datetime.datetime(2013, 5, 29, 0, 0): '09 14 17 49 57 02', datetime.datetime(2013, 6, 1, 0, 0): '22 28 33 53 59 14', datetime.datetime(2013, 6, 5, 0, 0): '04 26 33 36 55 32', datetime.datetime(2013, 6, 8, 0, 0): '02 11 22 26 32 19', datetime.datetime(2013, 6, 12, 0, 0): '16 22 23 42 55 32', datetime.datetime(2013, 6, 15, 0, 0): '28 36 40 48 55 01', datetime.datetime(2013, 6, 19, 0, 0): '07 46 47 52 57 17', datetime.datetime(2013, 6, 22, 0, 0): '13 19 23 33 57 28', datetime.datetime(2013, 6, 26, 0, 0): '01 18 33 39 46 33', datetime.datetime(2013, 6, 29, 0, 0): '08 28 30 53 56 16', datetime.datetime(2013, 7, 3, 0, 0): '03 06 29 40 51 04', datetime.datetime(2013, 7, 6, 0, 0): '02 13 35 36 52 11', datetime.datetime(2013, 7, 10, 0, 0): '30 31 45 55 59 27', datetime.datetime(2013, 7, 13, 0, 0): '02 08 22 35 37 06', datetime.datetime(2013, 7, 17, 0, 0): '01 22 34 38 42 17', datetime.datetime(2013, 7, 20, 0, 0): '14 25 27 38 58 06', datetime.datetime(2013, 7, 24, 0, 0): '09 29 40 44 54 07', datetime.datetime(2013, 7, 27, 0, 0): '09 23 40 53 58 06', datetime.datetime(2013, 7, 31, 0, 0): '08 24 39 49 59 05', datetime.datetime(2013, 8, 3, 0, 0): '21 24 36 42 45 15', datetime.datetime(2013, 8, 7, 0, 0): '05 25 30 58 59 32', datetime.datetime(2013, 8, 10, 0, 0): '04 12 14 37 58 13', datetime.datetime(2013, 8, 14, 0, 0): '04 11 17 43 51 20', datetime.datetime(2013, 8, 17, 0, 0): '18 21 46 54 56 23', datetime.datetime(2013, 8, 21, 0, 0): '30 40 42 46 48 23', datetime.datetime(2013, 8, 24, 0, 0): '12 17 25 45 59 19', datetime.datetime(2013, 8, 28, 0, 0): '06 07 09 19 32 13', datetime.datetime(2013, 8, 31, 0, 0): '02 07 25 40 56 20', datetime.datetime(2013, 9, 4, 0, 0): '02 09 26 45 47 11', datetime.datetime(2013, 9, 7, 0, 0): '02 19 22 26 45 24', datetime.datetime(2013, 9, 11, 0, 0): '11 19 33 42 52 33', datetime.datetime(2013, 9, 14, 0, 0): '01 17 25 37 44 20', datetime.datetime(2013, 9, 18, 0, 0): '07 10 22 32 35 19', datetime.datetime(2013, 9, 21, 0, 0): '12 17 45 54 58 13', datetime.datetime(2013, 9, 25, 0, 0): '02 07 17 49 53 23', datetime.datetime(2013, 9, 28, 0, 0): '14 47 52 53 54 05', datetime.datetime(2013, 10, 2, 0, 0): '04 06 25 42 51 17', datetime.datetime(2013, 10, 5, 0, 0): '11 12 17 39 40 05', datetime.datetime(2013, 10, 9, 0, 0): '03 09 19 33 38 18', datetime.datetime(2013, 10, 12, 0, 0): '08 10 26 57 58 04', datetime.datetime(2013, 10, 16, 0, 0): '03 26 28 34 42 28', datetime.datetime(2013, 10, 19, 0, 0): '09 33 54 56 57 05', datetime.datetime(2013, 10, 23, 0, 0): '03 23 31 34 47 13', datetime.datetime(2013, 10, 26, 0, 0): '04 06 34 49 56 29', datetime.datetime(2013, 10, 30, 0, 0): '02 36 40 49 54 10', datetime.datetime(2013, 11, 2, 0, 0): '13 23 24 27 40 17', datetime.datetime(2013, 11, 6, 0, 0): '01 05 10 15 49 22', datetime.datetime(2013, 11, 9, 0, 0): '03 09 37 49 56 32', datetime.datetime(2013, 11, 13, 0, 0): '05 31 50 55 56 09', datetime.datetime(2013, 11, 16, 0, 0): '10 29 37 44 59 10', datetime.datetime(2013, 11, 20, 0, 0): '04 18 23 32 45 07', datetime.datetime(2013, 11, 23, 0, 0): '05 12 43 52 55 10', datetime.datetime(2013, 11, 27, 0, 0): '18 25 50 55 57 17', datetime.datetime(2013, 11, 30, 0, 0): '05 26 44 45 57 29', datetime.datetime(2013, 12, 4, 0, 0): '06 09 11 31 44 25', datetime.datetime(2013, 12, 7, 0, 0): '13 20 32 45 48 17', datetime.datetime(2013, 12, 11, 0, 0): '01 10 13 18 19 27', datetime.datetime(2013, 12, 14, 0, 0): '14 25 32 33 41 34', datetime.datetime(2013, 12, 18, 0, 0): '07 24 37 39 40 01', datetime.datetime(2013, 12, 21, 0, 0): '25 36 40 45 51 08', datetime.datetime(2013, 12, 25, 0, 0): '23 28 38 39 56 32', datetime.datetime(2013, 12, 28, 0, 0): '08 35 44 51 56 18', datetime.datetime(2014, 1, 1, 0, 0): '15 24 40 48 52 23', datetime.datetime(2014, 1, 4, 0, 0): '19 20 37 41 58 14', datetime.datetime(2014, 1, 8, 0, 0): '10 28 39 47 58 22', datetime.datetime(2014, 1, 11, 0, 0): '10 15 33 48 54 34', datetime.datetime(2014, 1, 15, 0, 0): '07 08 09 24 29 25', datetime.datetime(2014, 1, 18, 0, 0): '13 14 19 31 38 25', datetime.datetime(2014, 1, 22, 0, 0): '01 02 07 09 55 29', datetime.datetime(2014, 1, 25, 0, 0): '08 12 18 55 57 02', datetime.datetime(2014, 1, 29, 0, 0): '11 23 28 32 47 20', datetime.datetime(2014, 2, 1, 0, 0): '05 12 15 27 38 07', datetime.datetime(2014, 2, 5, 0, 0): '08 17 32 57 59 24', datetime.datetime(2014, 2, 8, 0, 0): '24 25 34 37 54 29', datetime.datetime(2014, 2, 12, 0, 0): '36 44 49 52 57 01', datetime.datetime(2014, 2, 15, 0, 0): '02 09 14 21 23 03', datetime.datetime(2014, 2, 19, 0, 0): '01 17 35 49 54 34', datetime.datetime(2014, 2, 22, 0, 0): '02 03 13 14 54 04', datetime.datetime(2014, 2, 26, 0, 0): '11 12 17 38 42 02', datetime.datetime(2014, 3, 1, 0, 0): '03 08 25 30 47 13', datetime.datetime(2014, 3, 5, 0, 0): '03 07 09 26 54 19', datetime.datetime(2014, 3, 8, 0, 0): '10 14 24 32 41 30', datetime.datetime(2014, 3, 12, 0, 0): '14 15 28 37 54 10', datetime.datetime(2014, 3, 15, 0, 0): '02 05 34 51 58 09', datetime.datetime(2014, 3, 19, 0, 0): '02 19 23 34 43 14', datetime.datetime(2014, 3, 22, 0, 0): '13 28 31 55 58 15', datetime.datetime(2014, 3, 26, 0, 0): '28 33 41 44 59 21', datetime.datetime(2014, 3, 29, 0, 0): '02 03 12 27 38 17', datetime.datetime(2014, 4, 2, 0, 0): '08 13 19 22 53 24', datetime.datetime(2014, 4, 5, 0, 0): '11 21 26 33 34 29', datetime.datetime(2014, 4, 9, 0, 0): '09 14 44 48 49 29', datetime.datetime(2014, 4, 12, 0, 0): '14 26 45 54 55 20', datetime.datetime(2014, 4, 16, 0, 0): '34 39 42 44 59 08', datetime.datetime(2014, 4, 19, 0, 0): '05 06 29 35 51 21', datetime.datetime(2014, 4, 23, 0, 0): '19 25 29 36 48 12', datetime.datetime(2014, 4, 26, 0, 0): '03 07 22 30 33 20', datetime.datetime(2014, 4, 30, 0, 0): '02 09 11 19 50 32', datetime.datetime(2014, 5, 3, 0, 0): '05 15 16 46 49 26', datetime.datetime(2014, 5, 7, 0, 0): '17 29 31 48 49 34', datetime.datetime(2014, 5, 10, 0, 0): '04 31 41 47 55 01', datetime.datetime(2014, 5, 14, 0, 0): '07 33 39 52 55 33', datetime.datetime(2014, 5, 17, 0, 0): '23 32 39 47 49 22', datetime.datetime(2014, 5, 21, 0, 0): '04 20 34 39 58 31', datetime.datetime(2014, 5, 24, 0, 0): '15 16 28 49 55 18', datetime.datetime(2014, 5, 28, 0, 0): '02 24 28 32 59 25', datetime.datetime(2014, 5, 31, 0, 0): '15 27 31 34 48 01', datetime.datetime(2014, 6, 4, 0, 0): '01 07 10 22 49 24', datetime.datetime(2014, 6, 7, 0, 0): '28 30 35 58 59 15', datetime.datetime(2014, 6, 11, 0, 0): '14 18 25 33 49 23', datetime.datetime(2014, 6, 14, 0, 0): '09 33 42 45 54 30', datetime.datetime(2014, 6, 18, 0, 0): '06 09 29 52 59 07', datetime.datetime(2014, 6, 21, 0, 0): '05 06 37 41 54 26', datetime.datetime(2014, 6, 25, 0, 0): '10 20 25 50 53 35', datetime.datetime(2014, 7, 2, 0, 0): '08 18 45 53 58 35', datetime.datetime(2014, 7, 5, 0, 0): '24 34 36 57 58 11', datetime.datetime(2014, 7, 9, 0, 0): '09 25 42 55 57 14', datetime.datetime(2014, 7, 12, 0, 0): '02 03 07 23 51 26', datetime.datetime(2014, 7, 16, 0, 0): '05 15 18 26 32 35', datetime.datetime(2014, 7, 19, 0, 0): '10 17 25 45 53 09', datetime.datetime(2014, 7, 23, 0, 0): '04 10 12 22 31 03', datetime.datetime(2014, 7, 26, 0, 0): '24 28 30 38 39 16', datetime.datetime(2014, 7, 30, 0, 0): '13 30 42 49 53 29', datetime.datetime(2014, 8, 2, 0, 0): '12 26 44 46 47 29', datetime.datetime(2014, 8, 6, 0, 0): '01 08 24 28 49 24', datetime.datetime(2014, 8, 9, 0, 0): '03 12 31 34 51 24', datetime.datetime(2014, 8, 13, 0, 0): '08 37 39 40 52 24', datetime.datetime(2014, 8, 16, 0, 0): '07 08 17 48 59 09', datetime.datetime(2014, 8, 20, 0, 0): '04 08 21 38 40 03', datetime.datetime(2014, 8, 23, 0, 0): '28 32 35 36 52 31', datetime.datetime(2014, 8, 27, 0, 0): '17 24 26 45 46 19', datetime.datetime(2014, 8, 30, 0, 0): '05 28 31 52 59 27', datetime.datetime(2014, 9, 3, 0, 0): '02 16 43 45 51 35', datetime.datetime(2014, 9, 6, 0, 0): '09 29 31 43 50 18', datetime.datetime(2014, 9, 10, 0, 0): '02 14 39 40 43 13', datetime.datetime(2014, 9, 13, 0, 0): '01 06 16 37 53 27', datetime.datetime(2014, 9, 17, 0, 0): '18 25 36 48 50 23', datetime.datetime(2014, 9, 20, 0, 0): '22 23 30 37 39 16', datetime.datetime(2014, 9, 24, 0, 0): '07 14 21 24 41 26', datetime.datetime(2014, 9, 27, 0, 0): '02 11 35 52 54 13', datetime.datetime(2014, 10, 1, 0, 0): '01 04 18 20 45 07', datetime.datetime(2014, 10, 4, 0, 0): '13 18 24 25 33 31', datetime.datetime(2014, 10, 8, 0, 0): '05 16 31 46 50 18', datetime.datetime(2014, 10, 11, 0, 0): '10 19 37 38 39 28', datetime.datetime(2014, 10, 15, 0, 0): '05 07 19 27 28 20', datetime.datetime(2014, 10, 18, 0, 0): '20 26 27 36 54 19', datetime.datetime(2014, 10, 22, 0, 0): '29 30 40 42 50 16', datetime.datetime(2014, 10, 25, 0, 0): '06 10 51 54 57 12', datetime.datetime(2014, 10, 29, 0, 0): '25 28 48 57 59 16', datetime.datetime(2014, 11, 1, 0, 0): '01 03 13 25 38 17', datetime.datetime(2014, 11, 5, 0, 0): '02 11 19 21 42 34', datetime.datetime(2014, 11, 8, 0, 0): '09 19 33 38 54 15', datetime.datetime(2014, 11, 12, 0, 0): '37 39 51 52 55 11', datetime.datetime(2014, 11, 15, 0, 0): '13 16 33 35 51 28', datetime.datetime(2014, 11, 19, 0, 0): '06 36 38 48 51 17', datetime.datetime(2014, 11, 22, 0, 0): '23 49 53 54 57 35', datetime.datetime(2014, 11, 26, 0, 0): '16 17 22 46 54 35', datetime.datetime(2014, 11, 29, 0, 0): '13 24 30 42 48 27', datetime.datetime(2014, 12, 3, 0, 0): '25 30 32 46 54 26', datetime.datetime(2014, 12, 6, 0, 0): '12 15 22 43 49 14', datetime.datetime(2014, 12, 10, 0, 0): '34 44 48 54 55 10', datetime.datetime(2014, 12, 13, 0, 0): '05 13 28 43 55 33', datetime.datetime(2014, 12, 17, 0, 0): '22 31 38 47 48 15', datetime.datetime(2014, 12, 20, 0, 0): '14 15 19 31 56 05', datetime.datetime(2014, 12, 24, 0, 0): '11 12 46 47 50 22', datetime.datetime(2014, 12, 27, 0, 0): '07 10 11 14 36 15', datetime.datetime(2014, 12, 31, 0, 0): '17 27 37 40 53 35', datetime.datetime(2015, 1, 3, 0, 0): '04 18 43 46 55 25', datetime.datetime(2015, 1, 7, 0, 0): '14 15 47 49 59 10', datetime.datetime(2015, 1, 10, 0, 0): '02 09 19 28 29 19', datetime.datetime(2015, 1, 14, 0, 0): '02 04 10 41 53 22', datetime.datetime(2015, 1, 17, 0, 0): '15 16 23 27 36 09', datetime.datetime(2015, 1, 21, 0, 0): '11 12 15 28 57 23', datetime.datetime(2015, 1, 24, 0, 0): '16 19 20 29 33 10', datetime.datetime(2015, 1, 28, 0, 0): '12 24 35 36 49 01', datetime.datetime(2015, 1, 31, 0, 0): '05 11 16 26 50 34', datetime.datetime(2015, 2, 4, 0, 0): '24 36 51 52 56 22', datetime.datetime(2015, 2, 7, 0, 0): '05 10 21 34 58 33', datetime.datetime(2015, 2, 11, 0, 0): '11 13 25 39 54 19', datetime.datetime(2015, 2, 14, 0, 0): '01 24 44 45 51 28', datetime.datetime(2015, 2, 18, 0, 0): '01 09 29 32 49 22', datetime.datetime(2015, 2, 21, 0, 0): '10 14 18 34 51 26', datetime.datetime(2015, 2, 25, 0, 0): '17 19 21 32 39 08', datetime.datetime(2015, 2, 28, 0, 0): '11 17 25 28 46 12', datetime.datetime(2015, 3, 4, 0, 0): '08 12 15 35 50 32', datetime.datetime(2015, 3, 7, 0, 0): '34 36 38 42 50 33', datetime.datetime(2015, 3, 11, 0, 0): '11 24 31 40 44 27', datetime.datetime(2015, 3, 14, 0, 0): '08 14 39 46 47 18', datetime.datetime(2015, 3, 18, 0, 0): '14 25 30 33 47 08', datetime.datetime(2015, 3, 21, 0, 0): '11 16 30 38 42 07', datetime.datetime(2015, 3, 25, 0, 0): '07 19 23 50 54 14', datetime.datetime(2015, 3, 28, 0, 0): '02 04 06 12 38 17', datetime.datetime(2015, 4, 1, 0, 0): '02 30 33 39 44 01', datetime.datetime(2015, 4, 4, 0, 0): '33 39 40 41 54 28', datetime.datetime(2015, 4, 8, 0, 0): '01 19 45 46 58 29', datetime.datetime(2015, 4, 11, 0, 0): '01 12 32 42 58 12', datetime.datetime(2015, 4, 15, 0, 0): '01 16 21 29 40 30', datetime.datetime(2015, 4, 18, 0, 0): '13 22 23 29 31 17', datetime.datetime(2015, 4, 22, 0, 0): '10 14 25 39 53 18', datetime.datetime(2015, 4, 25, 0, 0): '21 33 35 38 45 12', datetime.datetime(2015, 4, 29, 0, 0): '01 26 34 38 51 06', datetime.datetime(2015, 5, 2, 0, 0): '02 06 11 30 31 33', datetime.datetime(2015, 5, 6, 0, 0): '23 24 27 39 41 30', datetime.datetime(2015, 5, 9, 0, 0): '04 15 17 35 58 17', datetime.datetime(2015, 5, 13, 0, 0): '01 25 29 31 47 07', datetime.datetime(2015, 5, 16, 0, 0): '24 29 38 48 52 32', datetime.datetime(2015, 5, 20, 0, 0): '01 12 28 35 44 25', datetime.datetime(2015, 5, 23, 0, 0): '09 15 17 31 43 16', datetime.datetime(2015, 5, 27, 0, 0): '08 15 34 53 59 23', datetime.datetime(2015, 5, 30, 0, 0): '08 09 25 56 57 22', datetime.datetime(2015, 6, 3, 0, 0): '06 08 13 37 40 11', datetime.datetime(2015, 6, 6, 0, 0): '08 13 18 27 43 15', datetime.datetime(2015, 6, 10, 0, 0): '31 32 48 49 53 25', datetime.datetime(2015, 6, 13, 0, 0): '29 41 48 52 54 29', datetime.datetime(2015, 6, 17, 0, 0): '20 21 22 41 54 07', datetime.datetime(2015, 6, 20, 0, 0): '09 10 16 20 57 15', datetime.datetime(2015, 6, 24, 0, 0): '03 05 10 22 32 07', datetime.datetime(2015, 6, 27, 0, 0): '18 28 35 46 49 27', datetime.datetime(2015, 7, 1, 0, 0): '07 24 26 31 41 25', datetime.datetime(2015, 7, 4, 0, 0): '03 06 14 18 24 21', datetime.datetime(2015, 7, 8, 0, 0): '04 15 25 27 30 18', datetime.datetime(2015, 7, 11, 0, 0): '11 39 46 52 54 03', datetime.datetime(2015, 7, 15, 0, 0): '13 16 34 45 50 11', datetime.datetime(2015, 7, 18, 0, 0): '06 37 39 45 55 33', datetime.datetime(2015, 7, 22, 0, 0): '12 31 43 44 57 11', datetime.datetime(2015, 7, 25, 0, 0): '27 29 34 41 44 02', datetime.datetime(2015, 7, 29, 0, 0): '04 22 27 28 52 35', datetime.datetime(2015, 8, 1, 0, 0): '07 13 24 49 57 15', datetime.datetime(2015, 8, 5, 0, 0): '09 11 14 16 42 19', datetime.datetime(2015, 8, 8, 0, 0): '09 34 48 52 54 15', datetime.datetime(2015, 8, 12, 0, 0): '08 13 29 38 52 28', datetime.datetime(2015, 8, 15, 0, 0): '03 13 17 42 52 24', datetime.datetime(2015, 8, 19, 0, 0): '06 08 43 48 50 07', datetime.datetime(2015, 8, 22, 0, 0): '04 12 14 21 55 07', datetime.datetime(2015, 8, 26, 0, 0): '02 22 32 45 56 12', datetime.datetime(2015, 8, 29, 0, 0): '18 21 25 28 29 16', datetime.datetime(2015, 9, 2, 0, 0): '17 22 30 46 56 16', datetime.datetime(2015, 9, 5, 0, 0): '10 16 18 29 45 19', datetime.datetime(2015, 9, 9, 0, 0): '44 45 47 50 51 08', datetime.datetime(2015, 9, 12, 0, 0): '02 03 13 16 35 27', datetime.datetime(2015, 9, 16, 0, 0): '05 07 24 31 39 07', datetime.datetime(2015, 9, 19, 0, 0): '12 17 26 43 48 24', datetime.datetime(2015, 9, 23, 0, 0): '08 29 41 51 58 05', datetime.datetime(2015, 9, 26, 0, 0): '23 31 42 50 57 05', datetime.datetime(2015, 9, 30, 0, 0): '21 39 40 55 59 17', datetime.datetime(2015, 10, 3, 0, 0): '06 26 33 44 46 04', datetime.datetime(2015, 10, 7, 0, 0): '18 30 40 48 52 09', datetime.datetime(2015, 10, 10, 0, 0): '12 27 29 43 68 01', datetime.datetime(2015, 10, 14, 0, 0): '15 20 29 31 40 01', datetime.datetime(2015, 10, 17, 0, 0): '48 49 57 62 69 19', datetime.datetime(2015, 10, 21, 0, 0): '30 32 42 56 57 11', datetime.datetime(2015, 10, 24, 0, 0): '20 31 56 60 64 02', datetime.datetime(2015, 10, 28, 0, 0): '04 54 56 62 63 10', datetime.datetime(2015, 10, 31, 0, 0): '09 20 25 47 68 07', datetime.datetime(2015, 11, 4, 0, 0): '02 12 17 20 65 17', datetime.datetime(2015, 11, 7, 0, 0): '07 16 25 50 53 15', datetime.datetime(2015, 11, 11, 0, 0): '04 26 32 55 64 18', datetime.datetime(2015, 11, 14, 0, 0): '14 22 37 45 66 05', datetime.datetime(2015, 11, 18, 0, 0): '17 40 41 46 69 06', datetime.datetime(2015, 11, 21, 0, 0): '37 47 50 52 57 21', datetime.datetime(2015, 11, 25, 0, 0): '16 29 53 58 69 21', datetime.datetime(2015, 11, 28, 0, 0): '02 06 47 66 67 02', datetime.datetime(2015, 12, 2, 0, 0): '14 18 19 32 64 09', datetime.datetime(2015, 12, 5, 0, 0): '13 27 33 47 68 13', datetime.datetime(2015, 12, 9, 0, 0): '07 10 16 46 56 01', datetime.datetime(2015, 12, 12, 0, 0): '02 14 19 30 62 22', datetime.datetime(2015, 12, 16, 0, 0): '09 10 32 42 55 06', datetime.datetime(2015, 12, 19, 0, 0): '28 30 41 59 68 10', datetime.datetime(2015, 12, 23, 0, 0): '16 38 55 63 67 25', datetime.datetime(2015, 12, 26, 0, 0): '27 40 44 59 65 20', datetime.datetime(2015, 12, 30, 0, 0): '12 36 38 54 61 22', datetime.datetime(2016, 1, 2, 0, 0): '05 06 15 29 42 10', datetime.datetime(2016, 1, 6, 0, 0): '02 11 47 62 63 17', datetime.datetime(2016, 1, 9, 0, 0): '16 19 32 34 57 13', datetime.datetime(2016, 1, 13, 0, 0): '04 08 19 27 34 10', datetime.datetime(2016, 1, 16, 0, 0): '03 51 52 61 64 06', datetime.datetime(2016, 1, 20, 0, 0): '05 39 44 47 69 24', datetime.datetime(2016, 1, 23, 0, 0): '22 32 34 40 69 19', datetime.datetime(2016, 1, 27, 0, 0): '03 12 40 52 67 21', datetime.datetime(2016, 1, 30, 0, 0): '05 12 16 31 43 18', datetime.datetime(2016, 2, 3, 0, 0): '26 28 31 60 67 23', datetime.datetime(2016, 2, 6, 0, 0): '04 13 31 36 52 08', datetime.datetime(2016, 2, 10, 0, 0): '02 03 40 50 62 05', datetime.datetime(2016, 2, 13, 0, 0): '07 15 18 19 36 20', datetime.datetime(2016, 2, 17, 0, 0): '07 17 27 29 40 25', datetime.datetime(2016, 2, 20, 0, 0): '11 12 15 16 54 25', datetime.datetime(2016, 2, 24, 0, 0): '21 31 64 65 67 05', datetime.datetime(2016, 2, 27, 0, 0): '10 11 21 22 53 18', datetime.datetime(2016, 3, 2, 0, 0): '12 13 44 52 62 06', datetime.datetime(2016, 3, 5, 0, 0): '03 27 34 59 69 19', datetime.datetime(2016, 3, 9, 0, 0): '14 23 32 34 68 03', datetime.datetime(2016, 3, 12, 0, 0): '11 28 50 57 62 23', datetime.datetime(2016, 3, 16, 0, 0): '10 12 13 46 50 21', datetime.datetime(2016, 3, 19, 0, 0): '11 23 43 54 60 03', datetime.datetime(2016, 3, 23, 0, 0): '05 08 15 22 49 25', datetime.datetime(2016, 3, 26, 0, 0): '11 23 42 52 68 06', datetime.datetime(2016, 3, 30, 0, 0): '24 44 53 55 63 19', datetime.datetime(2016, 4, 2, 0, 0): '09 28 30 40 61 03', datetime.datetime(2016, 4, 6, 0, 0): '04 28 49 60 65 25', datetime.datetime(2016, 4, 9, 0, 0): '14 22 23 41 61 09', datetime.datetime(2016, 4, 13, 0, 0): '30 33 35 38 64 22', datetime.datetime(2016, 4, 16, 0, 0): '03 18 25 32 51 03', datetime.datetime(2016, 4, 20, 0, 0): '12 25 30 52 62 08', datetime.datetime(2016, 4, 23, 0, 0): '19 35 46 59 62 13', datetime.datetime(2016, 4, 27, 0, 0): '02 25 33 39 64 17', datetime.datetime(2016, 4, 30, 0, 0): '03 12 16 32 34 14', datetime.datetime(2016, 5, 4, 0, 0): '30 47 57 66 69 03', datetime.datetime(2016, 5, 7, 0, 0): '05 25 26 44 66 09', datetime.datetime(2016, 5, 11, 0, 0): '20 32 52 66 69 23', datetime.datetime(2016, 5, 14, 0, 0): '13 27 47 64 65 09', datetime.datetime(2016, 5, 18, 0, 0): '23 25 39 54 67 11', datetime.datetime(2016, 5, 21, 0, 0): '05 07 09 23 32 26', datetime.datetime(2016, 5, 25, 0, 0): '11 24 41 59 64 15', datetime.datetime(2016, 5, 28, 0, 0): '06 33 34 58 59 12', datetime.datetime(2016, 6, 1, 0, 0): '23 30 33 40 69 12', datetime.datetime(2016, 6, 4, 0, 0): '16 20 22 43 64 17', datetime.datetime(2016, 6, 8, 0, 0): '12 25 37 60 69 20', datetime.datetime(2016, 6, 11, 0, 0): '20 27 36 41 58 07', datetime.datetime(2016, 6, 15, 0, 0): '04 22 24 31 33 10', datetime.datetime(2016, 6, 18, 0, 0): '02 23 41 53 63 11', datetime.datetime(2016, 6, 22, 0, 0): '14 40 42 43 52 17', datetime.datetime(2016, 6, 25, 0, 0): '03 27 36 56 69 25', datetime.datetime(2016, 6, 29, 0, 0): '23 29 37 60 64 06', datetime.datetime(2016, 7, 2, 0, 0): '10 34 39 59 63 04', datetime.datetime(2016, 7, 6, 0, 0): '02 24 31 57 66 18', datetime.datetime(2016, 7, 9, 0, 0): '10 28 32 61 64 12', datetime.datetime(2016, 7, 13, 0, 0): '03 15 29 54 57 10', datetime.datetime(2016, 7, 16, 0, 0): '11 17 40 50 62 26', datetime.datetime(2016, 7, 20, 0, 0): '06 25 35 58 66 05', datetime.datetime(2016, 7, 23, 0, 0): '05 07 23 35 39 11', datetime.datetime(2016, 7, 27, 0, 0): '10 47 50 65 68 24', datetime.datetime(2016, 7, 30, 0, 0): '11 17 21 23 32 05', datetime.datetime(2016, 8, 3, 0, 0): '09 11 27 66 67 02', datetime.datetime(2016, 8, 6, 0, 0): '20 33 36 47 52 12', datetime.datetime(2016, 8, 10, 0, 0): '23 56 61 64 67 12', datetime.datetime(2016, 8, 13, 0, 0): '38 44 60 64 69 06', datetime.datetime(2016, 8, 17, 0, 0): '33 44 49 50 52 08', datetime.datetime(2016, 8, 20, 0, 0): '03 06 21 60 68 24', datetime.datetime(2016, 8, 24, 0, 0): '09 11 25 64 65 16', datetime.datetime(2016, 8, 27, 0, 0): '04 32 48 49 63 20', datetime.datetime(2016, 8, 31, 0, 0): '05 10 24 56 61 12', datetime.datetime(2016, 9, 3, 0, 0): '07 39 50 59 67 25', datetime.datetime(2016, 9, 7, 0, 0): '22 23 29 33 55 21', datetime.datetime(2016, 9, 10, 0, 0): '03 17 49 55 68 08', datetime.datetime(2016, 9, 14, 0, 0): '10 11 23 28 31 14', datetime.datetime(2016, 9, 17, 0, 0): '09 19 51 55 62 14', datetime.datetime(2016, 9, 21, 0, 0): '01 28 63 67 69 17', datetime.datetime(2016, 9, 24, 0, 0): '07 15 20 29 41 22', datetime.datetime(2016, 9, 28, 0, 0): '30 38 52 53 62 01', datetime.datetime(2016, 10, 1, 0, 0): '02 12 50 61 64 01', datetime.datetime(2016, 10, 5, 0, 0): '08 18 27 29 60 15', datetime.datetime(2016, 10, 8, 0, 0): '03 54 61 64 68 09', datetime.datetime(2016, 10, 12, 0, 0): '16 30 34 37 44 16', datetime.datetime(2016, 10, 15, 0, 0): '23 49 57 64 67 20', datetime.datetime(2016, 10, 19, 0, 0): '10 16 38 43 63 23', datetime.datetime(2016, 10, 22, 0, 0): '01 28 33 55 56 22', datetime.datetime(2016, 10, 26, 0, 0): '02 03 16 48 56 24', datetime.datetime(2016, 10, 29, 0, 0): '19 20 21 42 48 23', datetime.datetime(2016, 11, 2, 0, 0): '13 18 37 54 61 05', datetime.datetime(2016, 11, 5, 0, 0): '21 31 50 51 69 08', datetime.datetime(2016, 11, 9, 0, 0): '01 25 28 31 54 02', datetime.datetime(2016, 11, 12, 0, 0): '08 17 20 27 52 24', datetime.datetime(2016, 11, 16, 0, 0): '28 41 61 63 65 07', datetime.datetime(2016, 11, 19, 0, 0): '16 24 28 43 61 21', datetime.datetime(2016, 11, 23, 0, 0): '07 32 41 47 61 03', datetime.datetime(2016, 11, 26, 0, 0): '17 19 21 37 44 16', datetime.datetime(2016, 11, 30, 0, 0): '03 14 18 25 45 07', datetime.datetime(2016, 12, 3, 0, 0): '08 10 26 27 33 22', datetime.datetime(2016, 12, 7, 0, 0): '41 48 49 53 64 20', datetime.datetime(2016, 12, 10, 0, 0): '12 21 32 44 66 15', datetime.datetime(2016, 12, 14, 0, 0): '18 26 37 39 66 15', datetime.datetime(2016, 12, 17, 0, 0): '01 08 16 40 48 10', datetime.datetime(2016, 12, 21, 0, 0): '25 33 40 54 68 03', datetime.datetime(2016, 12, 24, 0, 0): '28 38 42 51 52 21', datetime.datetime(2016, 12, 28, 0, 0): '16 23 30 44 58 04', datetime.datetime(2016, 12, 31, 0, 0): '01 03 28 57 67 09', datetime.datetime(2017, 1, 4, 0, 0): '16 17 29 41 42 04', datetime.datetime(2017, 1, 7, 0, 0): '03 12 24 37 63 10', datetime.datetime(2017, 1, 11, 0, 0): '01 03 13 16 43 24', datetime.datetime(2017, 1, 14, 0, 0): '23 55 59 64 69 13', datetime.datetime(2017, 1, 18, 0, 0): '09 40 41 53 58 12', datetime.datetime(2017, 1, 21, 0, 0): '23 25 45 52 67 02', datetime.datetime(2017, 1, 25, 0, 0): '18 28 62 66 68 22', datetime.datetime(2017, 1, 28, 0, 0): '12 20 39 49 69 17', datetime.datetime(2017, 2, 1, 0, 0): '09 43 57 60 64 10', datetime.datetime(2017, 2, 4, 0, 0): '06 13 16 17 52 25', datetime.datetime(2017, 2, 8, 0, 0): '14 20 42 49 66 05', datetime.datetime(2017, 2, 11, 0, 0): '05 09 17 37 64 02', datetime.datetime(2017, 2, 15, 0, 0): '05 28 33 38 42 19', datetime.datetime(2017, 2, 18, 0, 0): '03 07 09 31 33 20', datetime.datetime(2017, 2, 22, 0, 0): '10 13 28 52 61 02', datetime.datetime(2017, 2, 25, 0, 0): '06 32 47 62 65 19', datetime.datetime(2017, 3, 1, 0, 0): '10 16 40 52 55 17', datetime.datetime(2017, 3, 4, 0, 0): '02 18 19 22 63 19', datetime.datetime(2017, 3, 8, 0, 0): '23 33 42 46 59 04', datetime.datetime(2017, 3, 11, 0, 0): '01 26 41 50 57 11', datetime.datetime(2017, 3, 15, 0, 0): '16 30 41 48 53 16', datetime.datetime(2017, 3, 18, 0, 0): '13 25 44 54 67 05', datetime.datetime(2017, 3, 22, 0, 0): '02 09 27 29 42 09', datetime.datetime(2017, 3, 25, 0, 0): '18 31 32 45 48 16', datetime.datetime(2017, 3, 29, 0, 0): '08 15 31 36 62 11', datetime.datetime(2017, 4, 1, 0, 0): '09 32 36 44 65 01', datetime.datetime(2017, 4, 5, 0, 0): '08 20 46 53 54 13', datetime.datetime(2017, 4, 8, 0, 0): '23 36 51 53 60 15', datetime.datetime(2017, 4, 12, 0, 0): '08 14 61 63 68 24', datetime.datetime(2017, 4, 15, 0, 0): '05 22 26 45 61 13', datetime.datetime(2017, 4, 19, 0, 0): '01 19 37 40 52 15', datetime.datetime(2017, 4, 22, 0, 0): '21 39 41 48 63 06', datetime.datetime(2017, 4, 26, 0, 0): '01 15 18 26 51 26', datetime.datetime(2017, 4, 29, 0, 0): '22 23 24 45 62 05', datetime.datetime(2017, 5, 3, 0, 0): '17 18 49 59 66 09', datetime.datetime(2017, 5, 6, 0, 0): '11 21 31 41 59 21', datetime.datetime(2017, 5, 10, 0, 0): '29 31 46 56 62 08', datetime.datetime(2017, 5, 13, 0, 0): '17 20 32 63 68 19', datetime.datetime(2017, 5, 17, 0, 0): '04 11 39 45 48 09', datetime.datetime(2017, 5, 20, 0, 0): '05 22 45 47 54 03', datetime.datetime(2017, 5, 24, 0, 0): '28 32 33 38 62 15', datetime.datetime(2017, 5, 27, 0, 0): '05 10 28 55 67 09', datetime.datetime(2017, 5, 31, 0, 0): '04 33 39 46 60 06', datetime.datetime(2017, 6, 3, 0, 0): '03 09 21 41 54 25', datetime.datetime(2017, 6, 7, 0, 0): '05 21 57 66 69 13', datetime.datetime(2017, 6, 14, 0, 0): '05 22 43 57 63 24', datetime.datetime(2017, 6, 17, 0, 0): '10 13 32 53 62 21', datetime.datetime(2017, 6, 21, 0, 0): '14 46 61 65 68 13', datetime.datetime(2017, 6, 24, 0, 0): '10 22 32 36 58 10', datetime.datetime(2017, 6, 28, 0, 0): '29 37 46 53 68 08', datetime.datetime(2017, 7, 1, 0, 0): '19 42 45 48 53 16', datetime.datetime(2017, 7, 5, 0, 0): '04 09 16 54 68 21', datetime.datetime(2017, 7, 8, 0, 0): '08 10 29 40 59 26', datetime.datetime(2017, 7, 12, 0, 0): '01 02 18 23 61 09', datetime.datetime(2017, 7, 15, 0, 0): '09 40 63 64 66 17', datetime.datetime(2017, 7, 19, 0, 0): '50 51 59 61 63 04', datetime.datetime(2017, 7, 22, 0, 0): '05 32 44 53 60 09', datetime.datetime(2017, 7, 26, 0, 0): '07 19 21 42 69 12', datetime.datetime(2017, 7, 29, 0, 0): '01 28 40 45 48 12', datetime.datetime(2017, 8, 2, 0, 0): '01 16 54 63 69 18', datetime.datetime(2017, 8, 5, 0, 0): '11 21 28 33 45 11', datetime.datetime(2017, 8, 9, 0, 0): '12 30 36 47 62 09', datetime.datetime(2017, 8, 12, 0, 0): '20 24 26 35 49 19', datetime.datetime(2017, 8, 16, 0, 0): '09 15 43 60 64 04', datetime.datetime(2017, 8, 19, 0, 0): '17 19 39 43 68 13', datetime.datetime(2017, 8, 23, 0, 0): '06 07 16 23 26 04', datetime.datetime(2017, 8, 26, 0, 0): '07 15 32 38 66 15', datetime.datetime(2017, 8, 30, 0, 0): '19 28 43 67 69 07', datetime.datetime(2017, 9, 2, 0, 0): '06 21 41 52 62 26', datetime.datetime(2017, 9, 6, 0, 0): '08 14 32 58 67 17', datetime.datetime(2017, 9, 9, 0, 0): '06 20 29 57 59 22', datetime.datetime(2017, 9, 13, 0, 0): '17 24 35 57 63 19', datetime.datetime(2017, 9, 16, 0, 0): '17 18 24 25 31 24', datetime.datetime(2017, 9, 20, 0, 0): '39 48 53 67 68 26', datetime.datetime(2017, 9, 23, 0, 0): '24 45 55 56 57 19', datetime.datetime(2017, 9, 27, 0, 0): '08 10 21 23 25 22', datetime.datetime(2017, 9, 30, 0, 0): '08 12 25 41 64 15', datetime.datetime(2017, 10, 4, 0, 0): '22 23 62 63 66 24', datetime.datetime(2017, 10, 7, 0, 0): '10 49 61 63 65 07', datetime.datetime(2017, 10, 11, 0, 0): '01 03 13 19 69 23', datetime.datetime(2017, 10, 14, 0, 0): '32 37 56 66 69 11', datetime.datetime(2017, 10, 18, 0, 0): '30 49 54 66 69 08', datetime.datetime(2017, 10, 21, 0, 0): '14 41 42 45 69 04', datetime.datetime(2017, 10, 25, 0, 0): '18 22 29 54 57 08', datetime.datetime(2017, 10, 28, 0, 0): '27 35 38 57 66 10', datetime.datetime(2017, 11, 1, 0, 0): '03 06 19 26 44 01', datetime.datetime(2017, 11, 4, 0, 0): '12 14 26 48 51 13', datetime.datetime(2017, 11, 8, 0, 0): '12 14 20 21 34 22', datetime.datetime(2017, 11, 11, 0, 0): '04 06 16 30 56 18', datetime.datetime(2017, 11, 15, 0, 0): '23 32 44 48 50 25', datetime.datetime(2017, 11, 18, 0, 0): '17 28 31 32 39 26', datetime.datetime(2017, 11, 22, 0, 0): '35 37 46 51 61 13', datetime.datetime(2017, 11, 25, 0, 0): '08 13 27 53 54 04', datetime.datetime(2017, 11, 29, 0, 0): '24 26 28 59 63 16', datetime.datetime(2017, 12, 2, 0, 0): '28 30 32 36 58 06', datetime.datetime(2017, 12, 6, 0, 0): '19 20 50 55 62 09', datetime.datetime(2017, 12, 9, 0, 0): '25 36 37 55 60 06', datetime.datetime(2017, 12, 13, 0, 0): '02 24 28 51 58 07', datetime.datetime(2017, 12, 16, 0, 0): '09 35 37 50 63 11', datetime.datetime(2017, 12, 20, 0, 0): '01 20 61 64 69 20', datetime.datetime(2017, 12, 23, 0, 0): '01 03 13 15 44 25', datetime.datetime(2017, 12, 27, 0, 0): '03 09 16 56 60 03', datetime.datetime(2017, 12, 30, 0, 0): '28 36 41 51 58 24', datetime.datetime(2018, 1, 3, 0, 0): '02 18 37 39 42 12', datetime.datetime(2018, 1, 6, 0, 0): '12 61 30 29 33 26', datetime.datetime(2018, 1, 10, 0, 0): '07 24 33 49 50 04', datetime.datetime(2018, 1, 13, 0, 0): '14 25 35 58 69 24', datetime.datetime(2018, 1, 17, 0, 0): '03 33 37 51 57 21', datetime.datetime(2018, 1, 20, 0, 0): '26 28 47 49 58 03', datetime.datetime(2018, 1, 24, 0, 0): '05 09 11 33 64 21', datetime.datetime(2018, 1, 27, 0, 0): '17 21 26 47 54 07', datetime.datetime(2018, 1, 31, 0, 0): '04 07 14 46 59 22', datetime.datetime(2018, 2, 3, 0, 0): '15 23 27 48 53 06', datetime.datetime(2018, 2, 7, 0, 0): '23 34 35 40 47 10', datetime.datetime(2018, 2, 10, 0, 0): '01 13 27 41 59 20', datetime.datetime(2018, 2, 14, 0, 0): '37 39 44 46 69 26', datetime.datetime(2018, 2, 17, 0, 0): '13 26 39 44 62 02', datetime.datetime(2018, 2, 21, 0, 0): '07 15 31 34 36 08', datetime.datetime(2018, 2, 24, 0, 0): '24 25 38 62 63 06', datetime.datetime(2018, 2, 28, 0, 0): '12 30 59 65 69 16', datetime.datetime(2018, 3, 3, 0, 0): '13 17 25 36 40 05', datetime.datetime(2018, 3, 7, 0, 0): '06 13 19 36 51 18', datetime.datetime(2018, 3, 10, 0, 0): '43 44 54 61 69 22', datetime.datetime(2018, 3, 14, 0, 0): '06 12 24 41 68 09', datetime.datetime(2018, 3, 17, 0, 0): '22 57 59 60 66 07', datetime.datetime(2018, 3, 21, 0, 0): '03 04 18 29 61 25', datetime.datetime(2018, 3, 24, 0, 0): '10 33 45 53 56 24', datetime.datetime(2018, 3, 28, 0, 0): '06 08 26 52 53 21', datetime.datetime(2018, 3, 31, 0, 0): '08 24 52 55 61 21', datetime.datetime(2018, 4, 4, 0, 0): '08 24 42 54 64 24', datetime.datetime(2018, 4, 7, 0, 0): '02 17 20 38 39 20', datetime.datetime(2018, 4, 11, 0, 0): '16 18 27 55 67 18', datetime.datetime(2018, 4, 14, 0, 0): '17 19 26 61 62 15', datetime.datetime(2018, 4, 18, 0, 0): '09 10 12 17 23 09', datetime.datetime(2018, 4, 21, 0, 0): '40 50 54 62 69 19', datetime.datetime(2018, 4, 25, 0, 0): '17 18 39 56 64 12', datetime.datetime(2018, 4, 28, 0, 0): '20 22 28 45 50 08', datetime.datetime(2018, 5, 2, 0, 0): '05 14 31 40 50 06', datetime.datetime(2018, 5, 5, 0, 0): '14 29 36 57 61 17', datetime.datetime(2018, 5, 9, 0, 0): '11 16 38 50 69 19', datetime.datetime(2018, 5, 12, 0, 0): '22 42 45 55 56 14', datetime.datetime(2018, 5, 16, 0, 0): '17 19 21 22 51 19', datetime.datetime(2018, 5, 19, 0, 0): '03 06 09 17 56 25', datetime.datetime(2018, 5, 23, 0, 0): '20 54 56 61 64 07', datetime.datetime(2018, 5, 26, 0, 0): '01 21 31 45 49 21', datetime.datetime(2018, 5, 30, 0, 0): '17 23 26 46 68 20', datetime.datetime(2018, 6, 2, 0, 0): '23 25 37 44 64 07', datetime.datetime(2018, 6, 6, 0, 0): '23 28 41 53 56 14', datetime.datetime(2018, 6, 9, 0, 0): '06 10 15 25 36 14', datetime.datetime(2018, 6, 13, 0, 0): '13 20 38 45 55 01', datetime.datetime(2018, 6, 16, 0, 0): '09 45 57 58 65 09', datetime.datetime(2018, 6, 20, 0, 0): '04 14 23 27 56 13', datetime.datetime(2018, 6, 23, 0, 0): '16 29 43 45 56 25', datetime.datetime(2018, 6, 27, 0, 0): '07 28 37 62 63 15', datetime.datetime(2018, 6, 30, 0, 0): '03 09 20 42 61 24', datetime.datetime(2018, 7, 4, 0, 0): '04 07 15 41 44 10', datetime.datetime(2018, 7, 7, 0, 0): '01 10 43 45 64 22', datetime.datetime(2018, 7, 11, 0, 0): '19 21 27 46 47 07', datetime.datetime(2018, 7, 14, 0, 0): '22 41 42 49 67 11', datetime.datetime(2018, 7, 18, 0, 0): '01 10 27 28 36 12', datetime.datetime(2018, 7, 21, 0, 0): '09 23 56 58 68 01', datetime.datetime(2018, 7, 25, 0, 0): '02 18 41 44 64 26', datetime.datetime(2018, 7, 28, 0, 0): '22 27 46 56 65 13', datetime.datetime(2018, 8, 1, 0, 0): '05 22 32 38 58 26', datetime.datetime(2018, 8, 4, 0, 0): '03 11 38 44 58 02', datetime.datetime(2018, 8, 8, 0, 0): '10 21 30 43 63 17', datetime.datetime(2018, 8, 11, 0, 0): '05 43 56 62 68 24', datetime.datetime(2018, 8, 15, 0, 0): '12 15 28 47 48 16', datetime.datetime(2018, 8, 18, 0, 0): '24 34 52 61 67 16', datetime.datetime(2018, 8, 22, 0, 0): '01 07 45 47 69 13', datetime.datetime(2018, 8, 25, 0, 0): '20 25 54 57 63 08', datetime.datetime(2018, 8, 29, 0, 0): '25 41 53 57 67 12', datetime.datetime(2018, 9, 1, 0, 0): '11 54 55 61 66 09', datetime.datetime(2018, 9, 5, 0, 0): '06 15 50 59 60 13', datetime.datetime(2018, 9, 8, 0, 0): '03 13 20 32 33 21', datetime.datetime(2018, 9, 12, 0, 0): '06 28 48 63 64 24', datetime.datetime(2018, 9, 15, 0, 0): '02 18 19 24 34 03', datetime.datetime(2018, 9, 19, 0, 0): '04 39 48 50 51 11', datetime.datetime(2018, 9, 22, 0, 0): '24 61 63 64 69 18', datetime.datetime(2018, 9, 26, 0, 0): '01 02 07 30 50 08', datetime.datetime(2018, 9, 29, 0, 0): '09 17 34 59 64 22', datetime.datetime(2018, 10, 3, 0, 0): '41 53 59 63 66 03', datetime.datetime(2018, 10, 6, 0, 0): '01 22 27 53 67 15', datetime.datetime(2018, 10, 10, 0, 0): '08 23 27 42 60 07', datetime.datetime(2018, 10, 13, 0, 0): '11 14 32 43 65 15', datetime.datetime(2018, 10, 17, 0, 0): '03 57 64 68 69 15', datetime.datetime(2018, 10, 20, 0, 0): '16 54 57 62 69 23', datetime.datetime(2018, 10, 24, 0, 0): '03 21 45 53 56 22', datetime.datetime(2018, 10, 27, 0, 0): '08 12 13 19 27 04', datetime.datetime(2018, 10, 31, 0, 0): '07 25 39 40 47 20', datetime.datetime(2018, 11, 3, 0, 0): '15 21 24 32 65 11', datetime.datetime(2018, 11, 7, 0, 0): '26 28 34 42 50 25', datetime.datetime(2018, 11, 10, 0, 0): '05 29 34 53 57 24', datetime.datetime(2018, 11, 14, 0, 0): '07 42 49 62 69 23', datetime.datetime(2018, 11, 17, 0, 0): '06 08 20 52 68 05', datetime.datetime(2018, 11, 21, 0, 0): '07 14 23 38 55 18', datetime.datetime(2018, 11, 24, 0, 0): '11 33 51 56 58 18', datetime.datetime(2018, 11, 28, 0, 0): '04 19 59 68 69 21', datetime.datetime(2018, 12, 1, 0, 0): '10 11 47 55 58 26', datetime.datetime(2018, 12, 5, 0, 0): '09 11 36 37 38 11', datetime.datetime(2018, 12, 8, 0, 0): '14 32 34 46 61 10', datetime.datetime(2018, 12, 12, 0, 0): '04 09 21 29 64 26', datetime.datetime(2018, 12, 15, 0, 0): '08 38 43 52 55 17', datetime.datetime(2018, 12, 19, 0, 0): '15 29 31 37 43 16', datetime.datetime(2018, 12, 22, 0, 0): '21 28 30 40 59 26', datetime.datetime(2018, 12, 26, 0, 0): '05 25 38 52 67 24', datetime.datetime(2018, 12, 29, 0, 0): '12 42 51 53 62 25', datetime.datetime(2019, 1, 2, 0, 0): '08 12 42 46 56 12', datetime.datetime(2019, 1, 5, 0, 0): '03 07 15 27 69 19', datetime.datetime(2019, 1, 9, 0, 0): '06 19 37 49 59 22', datetime.datetime(2019, 1, 12, 0, 0): '07 36 48 57 58 24', datetime.datetime(2019, 1, 16, 0, 0): '14 29 31 56 61 01', datetime.datetime(2019, 1, 19, 0, 0): '05 08 41 65 66 20', datetime.datetime(2019, 1, 23, 0, 0): '23 25 47 48 50 24', datetime.datetime(2019, 1, 26, 0, 0): '08 12 20 21 32 10', datetime.datetime(2019, 1, 30, 0, 0): '02 12 16 29 54 06', datetime.datetime(2019, 2, 2, 0, 0): '10 17 18 43 65 13', datetime.datetime(2019, 2, 6, 0, 0): '05 13 28 38 63 21', datetime.datetime(2019, 2, 9, 0, 0): '01 02 03 07 39 25', datetime.datetime(2019, 2, 13, 0, 0): '02 08 14 24 69 26', datetime.datetime(2019, 2, 16, 0, 0): '29 30 41 48 64 01', datetime.datetime(2019, 2, 20, 0, 0): '27 49 50 51 52 02', datetime.datetime(2019, 2, 23, 0, 0): '04 06 14 20 32 13', datetime.datetime(2019, 2, 27, 0, 0): '21 31 42 49 59 23', datetime.datetime(2019, 3, 2, 0, 0): '01 19 25 27 68 21', datetime.datetime(2019, 3, 6, 0, 0): '06 10 21 35 46 23', datetime.datetime(2019, 3, 9, 0, 0): '05 06 45 55 59 14', datetime.datetime(2019, 3, 13, 0, 0): '18 36 45 47 69 14', datetime.datetime(2019, 3, 16, 0, 0): '30 34 39 53 67 11', datetime.datetime(2019, 3, 20, 0, 0): '10 14 50 53 63 21', datetime.datetime(2019, 3, 23, 0, 0): '24 25 52 60 66 05', datetime.datetime(2019, 3, 27, 0, 0): '16 20 37 44 62 12', datetime.datetime(2019, 3, 30, 0, 0): '21 52 54 64 68 04', datetime.datetime(2019, 4, 3, 0, 0): '16 19 25 32 49 18', datetime.datetime(2019, 4, 6, 0, 0): '15 33 43 59 60 08', datetime.datetime(2019, 4, 10, 0, 0): '12 21 23 39 67 06', datetime.datetime(2019, 4, 13, 0, 0): '04 17 26 32 49 10', datetime.datetime(2019, 4, 17, 0, 0): '01 15 17 46 66 15', datetime.datetime(2019, 4, 20, 0, 0): '03 27 30 63 65 01', datetime.datetime(2019, 4, 24, 0, 0): '06 32 35 36 65 04', datetime.datetime(2019, 4, 27, 0, 0): '02 29 41 45 62 06', datetime.datetime(2019, 5, 1, 0, 0): '05 23 28 56 66 17', datetime.datetime(2019, 5, 4, 0, 0): '06 16 23 30 61 02', datetime.datetime(2019, 5, 8, 0, 0): '01 45 53 64 66 03', datetime.datetime(2019, 5, 11, 0, 0): '06 08 09 37 40 26', datetime.datetime(2019, 5, 15, 0, 0): '07 17 33 61 68 04', datetime.datetime(2019, 5, 18, 0, 0): '02 10 25 66 67 26', datetime.datetime(2019, 5, 22, 0, 0): '07 10 20 44 57 03', datetime.datetime(2019, 5, 25, 0, 0): '01 02 39 43 66 02', datetime.datetime(2019, 5, 29, 0, 0): '03 32 34 42 61 07', datetime.datetime(2019, 6, 1, 0, 0): '06 15 34 45 52 08', datetime.datetime(2019, 6, 5, 0, 0): '17 23 28 34 38 08', datetime.datetime(2019, 6, 8, 0, 0): '09 13 42 48 60 18', datetime.datetime(2019, 6, 12, 0, 0): '05 35 38 42 57 13', datetime.datetime(2019, 6, 15, 0, 0): '08 11 14 16 49 14', datetime.datetime(2019, 6, 19, 0, 0): '04 18 21 26 38 01', datetime.datetime(2019, 6, 22, 0, 0): '03 06 11 14 66 21', datetime.datetime(2019, 6, 26, 0, 0): '01 05 16 22 54 24', datetime.datetime(2019, 6, 29, 0, 0): '13 17 24 59 62 08', datetime.datetime(2019, 7, 3, 0, 0): '40 43 45 50 61 25', datetime.datetime(2019, 7, 6, 0, 0): '04 08 23 46 65 01', datetime.datetime(2019, 7, 10, 0, 0): '07 09 26 44 68 03', datetime.datetime(2019, 7, 13, 0, 0): '13 23 32 35 68 21', datetime.datetime(2019, 7, 17, 0, 0): '19 43 47 60 68 10', datetime.datetime(2019, 7, 20, 0, 0): '05 26 36 64 69 19', datetime.datetime(2019, 7, 24, 0, 0): '22 29 35 53 56 13', datetime.datetime(2019, 7, 27, 0, 0): '01 19 31 48 61 06', datetime.datetime(2019, 7, 31, 0, 0): '14 37 47 55 67 06', datetime.datetime(2019, 8, 3, 0, 0): '03 06 45 66 68 13', datetime.datetime(2019, 8, 7, 0, 0): '08 32 47 53 59 03', datetime.datetime(2019, 8, 10, 0, 0): '35 41 44 58 59 03', datetime.datetime(2019, 8, 14, 0, 0): '10 13 30 51 69 10', datetime.datetime(2019, 8, 17, 0, 0): '18 21 24 30 60 20', datetime.datetime(2019, 8, 21, 0, 0): '12 21 22 29 32 21', datetime.datetime(2019, 8, 24, 0, 0): '05 12 20 21 47 01', datetime.datetime(2019, 8, 28, 0, 0): '09 32 37 41 56 14', datetime.datetime(2019, 8, 31, 0, 0): '14 41 50 56 57 18', datetime.datetime(2019, 9, 4, 0, 0): '04 08 30 52 59 02', datetime.datetime(2019, 9, 7, 0, 0): '11 20 41 42 56 06', datetime.datetime(2019, 9, 11, 0, 0): '06 17 24 53 57 03', datetime.datetime(2019, 9, 14, 0, 0): '11 27 31 36 67 11', datetime.datetime(2019, 9, 18, 0, 0): '14 19 39 47 51 15', datetime.datetime(2019, 9, 21, 0, 0): '01 09 22 36 68 22', datetime.datetime(2019, 9, 25, 0, 0): '37 43 44 45 53 25', datetime.datetime(2019, 9, 28, 0, 0): '15 23 34 51 55 04', datetime.datetime(2019, 10, 2, 0, 0): '04 08 10 43 53 07', datetime.datetime(2019, 10, 5, 0, 0): '06 14 36 51 54 04', datetime.datetime(2019, 10, 9, 0, 0): '05 18 33 43 65 02', datetime.datetime(2019, 10, 12, 0, 0): '12 29 34 53 65 23', datetime.datetime(2019, 10, 16, 0, 0): '01 05 25 63 67 03', datetime.datetime(2019, 10, 19, 0, 0): '14 27 29 59 65 12', datetime.datetime(2019, 10, 23, 0, 0): '05 12 50 61 69 23', datetime.datetime(2019, 10, 26, 0, 0): '03 20 48 54 59 04', datetime.datetime(2019, 10, 30, 0, 0): '19 22 52 56 67 21', datetime.datetime(2019, 11, 2, 0, 0): '03 23 32 37 58 22', datetime.datetime(2019, 11, 6, 0, 0): '15 28 46 62 64 17', datetime.datetime(2019, 11, 9, 0, 0): '14 17 35 38 60 25', datetime.datetime(2019, 11, 13, 0, 0): '23 26 27 28 66 11', datetime.datetime(2019, 11, 16, 0, 0): '14 22 26 55 63 26', datetime.datetime(2019, 11, 20, 0, 0): '07 15 39 40 57 12', datetime.datetime(2019, 11, 23, 0, 0): '28 35 38 61 66 23', datetime.datetime(2019, 11, 27, 0, 0): '15 26 37 53 55 21', datetime.datetime(2019, 11, 30, 0, 0): '15 35 42 63 68 18', datetime.datetime(2019, 12, 4, 0, 0): '08 27 44 51 61 14', datetime.datetime(2019, 12, 7, 0, 0): '18 42 53 62 66 25', datetime.datetime(2019, 12, 11, 0, 0): '24 29 42 44 63 10', datetime.datetime(2019, 12, 14, 0, 0): '03 06 12 32 64 19', datetime.datetime(2019, 12, 18, 0, 0): '14 18 26 39 68 09', datetime.datetime(2019, 12, 21, 0, 0): '19 31 35 50 67 14', datetime.datetime(2019, 12, 25, 0, 0): '02 04 16 30 46 20', datetime.datetime(2019, 12, 28, 0, 0): '20 23 39 59 60 18', datetime.datetime(2020, 1, 1, 0, 0): '49 53 57 59 62 26', datetime.datetime(2020, 1, 4, 0, 0): '01 11 21 25 54 07', datetime.datetime(2020, 1, 8, 0, 0): '02 04 07 43 56 22', datetime.datetime(2020, 1, 11, 0, 0): '03 21 23 31 59 03', datetime.datetime(2020, 1, 15, 0, 0): '39 41 53 55 68 19', datetime.datetime(2020, 1, 18, 0, 0): '20 24 38 56 68 18', datetime.datetime(2020, 1, 22, 0, 0): '11 33 44 59 67 08', datetime.datetime(2020, 1, 25, 0, 0): '02 09 17 36 67 18', datetime.datetime(2020, 1, 29, 0, 0): '09 12 15 31 60 02', datetime.datetime(2020, 2, 1, 0, 0): '12 33 54 57 60 13', datetime.datetime(2020, 2, 5, 0, 0): '23 30 35 41 57 02', datetime.datetime(2020, 2, 8, 0, 0): '35 49 50 59 66 06', datetime.datetime(2020, 2, 12, 0, 0): '14 47 54 55 68 25', datetime.datetime(2020, 2, 15, 0, 0): '16 32 35 36 46 03', datetime.datetime(2020, 2, 19, 0, 0): '10 12 15 19 56 19', datetime.datetime(2020, 2, 22, 0, 0): '25 37 39 61 62 11', datetime.datetime(2020, 2, 26, 0, 0): '08 27 29 36 47 24', datetime.datetime(2020, 2, 29, 0, 0): '24 44 46 50 51 13', datetime.datetime(2020, 3, 4, 0, 0): '18 43 58 60 68 14', datetime.datetime(2020, 3, 7, 0, 0): '07 15 21 33 62 23', datetime.datetime(2020, 3, 11, 0, 0): '04 29 49 50 67 02', datetime.datetime(2020, 3, 14, 0, 0): '09 23 26 30 32 08', datetime.datetime(2020, 3, 18, 0, 0): '15 27 44 59 63 08', datetime.datetime(2020, 3, 21, 0, 0): '02 23 40 59 69 13', datetime.datetime(2020, 3, 25, 0, 0): '05 09 27 39 42 16', datetime.datetime(2020, 3, 28, 0, 0): '07 40 48 55 66 11', datetime.datetime(2020, 4, 1, 0, 0): '33 35 45 48 60 16', datetime.datetime(2020, 4, 4, 0, 0): '08 31 39 40 43 04', datetime.datetime(2020, 4, 8, 0, 0): '02 37 39 48 54 05', datetime.datetime(2020, 4, 11, 0, 0): '22 29 30 42 47 17', datetime.datetime(2020, 4, 15, 0, 0): '10 12 33 36 41 02', datetime.datetime(2020, 4, 18, 0, 0): '04 44 46 56 63 19', datetime.datetime(2020, 4, 22, 0, 0): '01 33 35 40 69 24', datetime.datetime(2020, 4, 25, 0, 0): '01 03 21 47 57 18', datetime.datetime(2020, 4, 29, 0, 0): '02 20 49 61 67 20', datetime.datetime(2020, 5, 2, 0, 0): '13 16 33 58 68 24', datetime.datetime(2020, 5, 6, 0, 0): '07 08 35 50 65 20', datetime.datetime(2020, 5, 9, 0, 0): '12 18 42 48 65 19', datetime.datetime(2020, 5, 13, 0, 0): '39 53 54 56 57 20', datetime.datetime(2020, 5, 16, 0, 0): '08 12 26 39 42 11', datetime.datetime(2020, 5, 20, 0, 0): '18 34 40 42 50 09', datetime.datetime(2020, 5, 23, 0, 0): '02 08 18 21 23 16', datetime.datetime(2020, 5, 27, 0, 0): '38 58 59 64 68 21', datetime.datetime(2020, 5, 30, 0, 0): '13 32 41 58 60 14', datetime.datetime(2020, 6, 3, 0, 0): '01 03 26 41 64 17', datetime.datetime(2020, 6, 6, 0, 0): '01 17 38 68 69 18', datetime.datetime(2020, 6, 10, 0, 0): '10 33 41 52 54 18', datetime.datetime(2020, 6, 13, 0, 0): '02 12 32 50 65 05', datetime.datetime(2020, 6, 17, 0, 0): '07 10 63 64 68 10', datetime.datetime(2020, 6, 20, 0, 0): '10 31 41 63 67 05', datetime.datetime(2020, 6, 24, 0, 0): '15 22 27 33 46 23', datetime.datetime(2020, 6, 27, 0, 0): '09 36 49 56 62 08', datetime.datetime(2020, 7, 1, 0, 0): '15 28 52 53 63 18', datetime.datetime(2020, 7, 4, 0, 0): '16 21 27 60 61 06', datetime.datetime(2020, 7, 8, 0, 0): '03 10 34 36 62 05', datetime.datetime(2020, 7, 11, 0, 0): '14 19 61 62 64 04', datetime.datetime(2020, 7, 15, 0, 0): '27 47 61 62 69 04', datetime.datetime(2020, 7, 18, 0, 0): '13 16 32 58 59 09', datetime.datetime(2020, 7, 22, 0, 0): '16 25 36 44 55 14', datetime.datetime(2020, 7, 25, 0, 0): '05 21 36 61 62 18', datetime.datetime(2020, 7, 29, 0, 0): '07 29 35 40 45 26', datetime.datetime(2020, 8, 1, 0, 0): '06 25 36 43 48 24', datetime.datetime(2020, 8, 5, 0, 0): '07 14 17 57 65 24', datetime.datetime(2020, 8, 8, 0, 0): '02 03 14 40 51 24', datetime.datetime(2020, 8, 12, 0, 0): '02 06 18 36 37 21', datetime.datetime(2020, 8, 15, 0, 0): '05 12 34 45 56 03', datetime.datetime(2020, 8, 19, 0, 0): '13 23 47 55 58 23', datetime.datetime(2020, 8, 22, 0, 0): '19 30 36 42 66 14', datetime.datetime(2020, 8, 26, 0, 0): '08 12 19 47 58 02', datetime.datetime(2020, 8, 29, 0, 0): '05 21 22 29 43 10', datetime.datetime(2020, 9, 2, 0, 0): '01 04 11 20 69 18', datetime.datetime(2020, 9, 5, 0, 0): '15 21 22 27 47 07', datetime.datetime(2020, 9, 9, 0, 0): '27 52 55 60 64 21', datetime.datetime(2020, 9, 12, 0, 0): '16 17 20 53 67 04', datetime.datetime(2020, 9, 16, 0, 0): '10 17 31 51 53 01', datetime.datetime(2020, 9, 19, 0, 0): '11 14 23 47 57 14', datetime.datetime(2020, 9, 23, 0, 0): '08 17 49 52 59 01', datetime.datetime(2020, 9, 26, 0, 0): '11 21 27 36 62 24', datetime.datetime(2020, 9, 30, 0, 0): '14 18 36 49 67 18', datetime.datetime(2020, 10, 3, 0, 0): '18 31 36 43 47 20', datetime.datetime(2020, 10, 7, 0, 0): '06 24 30 53 56 19', datetime.datetime(2020, 10, 10, 0, 0): '05 18 23 40 50 18', datetime.datetime(2020, 10, 14, 0, 0): '21 37 52 53 58 05', datetime.datetime(2020, 10, 17, 0, 0): '06 10 31 37 44 23', datetime.datetime(2020, 10, 21, 0, 0): '01 03 13 44 56 26', datetime.datetime(2020, 10, 24, 0, 0): '18 20 27 45 65 06', datetime.datetime(2020, 10, 28, 0, 0): '11 28 37 40 53 13', datetime.datetime(2020, 10, 31, 0, 0): '02 06 40 42 55 24', datetime.datetime(2020, 11, 4, 0, 0): '23 32 33 45 49 14', datetime.datetime(2020, 11, 7, 0, 0): '14 16 37 48 58 18', datetime.datetime(2020, 11, 11, 0, 0): '13 15 17 45 63 13', datetime.datetime(2020, 11, 14, 0, 0): '07 15 18 32 45 20', datetime.datetime(2020, 11, 18, 0, 0): '04 05 17 43 52 05', datetime.datetime(2020, 11, 21, 0, 0): '51 54 57 60 69 11', datetime.datetime(2020, 11, 25, 0, 0): '02 57 58 60 65 26', datetime.datetime(2020, 11, 28, 0, 0): '08 12 18 44 51 18', datetime.datetime(2020, 12, 2, 0, 0): '28 31 40 41 46 04', datetime.datetime(2020, 12, 5, 0, 0): '03 04 06 48 53 10', datetime.datetime(2020, 12, 9, 0, 0): '11 14 31 47 48 04', datetime.datetime(2020, 12, 12, 0, 0): '17 54 56 63 69 20', datetime.datetime(2020, 12, 16, 0, 0): '04 23 37 61 67 07', datetime.datetime(2020, 12, 19, 0, 0): '27 32 34 43 52 13', datetime.datetime(2020, 12, 23, 0, 0): '06 13 38 39 53 06', datetime.datetime(2020, 12, 26, 0, 0): '10 24 27 35 53 18', datetime.datetime(2020, 12, 30, 0, 0): '03 43 45 61 65 14', datetime.datetime(2021, 1, 2, 0, 0): '03 04 11 41 67 05', datetime.datetime(2021, 1, 6, 0, 0): '01 20 22 60 66 03', datetime.datetime(2021, 1, 9, 0, 0): '14 26 38 45 46 13', datetime.datetime(2021, 1, 13, 0, 0): '04 19 23 25 49 14', datetime.datetime(2021, 1, 16, 0, 0): '14 20 39 65 67 02', datetime.datetime(2021, 1, 20, 0, 0): '40 53 60 68 69 22', datetime.datetime(2021, 1, 23, 0, 0): '05 08 17 27 28 14', datetime.datetime(2021, 1, 27, 0, 0): '17 33 35 42 52 09', datetime.datetime(2021, 1, 30, 0, 0): '01 02 07 52 61 04', datetime.datetime(2021, 2, 3, 0, 0): '05 37 40 64 66 05', datetime.datetime(2021, 2, 6, 0, 0): '01 16 48 49 65 08', datetime.datetime(2021, 2, 10, 0, 0): '15 39 58 63 67 07', datetime.datetime(2021, 2, 13, 0, 0): '20 28 33 63 68 20', datetime.datetime(2021, 2, 17, 0, 0): '01 15 21 32 46 01', datetime.datetime(2021, 2, 20, 0, 0): '04 08 22 32 58 04', datetime.datetime(2021, 2, 24, 0, 0): '04 33 43 53 65 21', datetime.datetime(2021, 2, 27, 0, 0): '02 28 31 44 52 18', datetime.datetime(2021, 3, 3, 0, 0): '21 40 44 50 55 16', datetime.datetime(2021, 3, 6, 0, 0): '11 31 50 52 58 18', datetime.datetime(2021, 3, 10, 0, 0): '17 18 37 44 53 18', datetime.datetime(2021, 3, 13, 0, 0): '05 11 51 56 61 02', datetime.datetime(2021, 3, 17, 0, 0): '34 38 42 61 62 19', datetime.datetime(2021, 3, 20, 0, 0): '01 06 22 42 61 04', datetime.datetime(2021, 3, 24, 0, 0): '04 09 17 27 38 18', datetime.datetime(2021, 3, 27, 0, 0): '06 14 38 39 65 06', datetime.datetime(2021, 3, 31, 0, 0): '03 10 44 55 68 24', datetime.datetime(2021, 4, 3, 0, 0): '01 12 17 39 53 05', datetime.datetime(2021, 4, 7, 0, 0): '27 35 39 51 66 16', datetime.datetime(2021, 4, 10, 0, 0): '14 16 23 50 53 03', datetime.datetime(2021, 4, 14, 0, 0): '13 30 33 45 61 14', datetime.datetime(2021, 4, 17, 0, 0): '10 21 26 41 49 25', datetime.datetime(2021, 4, 21, 0, 0): '21 25 32 63 67 06', datetime.datetime(2021, 4, 24, 0, 0): '22 36 48 59 61 22', datetime.datetime(2021, 5, 1, 0, 0): '35 36 47 61 63 03', datetime.datetime(2021, 5, 5, 0, 0): '16 23 28 40 63 01', datetime.datetime(2021, 5, 8, 0, 0): '12 17 20 21 26 08', datetime.datetime(2021, 5, 12, 0, 0): '01 19 20 38 54 17', datetime.datetime(2021, 5, 15, 0, 0): '04 10 37 39 69 24', datetime.datetime(2021, 5, 19, 0, 0): '11 13 55 56 69 04', datetime.datetime(2021, 5, 22, 0, 0): '03 19 27 37 40 08', datetime.datetime(2021, 5, 26, 0, 0): '02 08 21 34 62 16', datetime.datetime(2021, 5, 29, 0, 0): '11 13 22 27 46 20', datetime.datetime(2021, 6, 2, 0, 0): '06 07 11 66 67 19', datetime.datetime(2021, 6, 5, 0, 0): '44 52 54 64 69 26', datetime.datetime(2021, 6, 12, 0, 0): '08 25 34 38 41 10', datetime.datetime(2021, 6, 16, 0, 0): '19 29 34 44 50 25', datetime.datetime(2021, 6, 19, 0, 0): '04 22 35 38 39 20', datetime.datetime(2021, 6, 23, 0, 0): '13 20 40 51 63 01', datetime.datetime(2021, 6, 26, 0, 0): '08 31 39 43 60 17', datetime.datetime(2021, 6, 30, 0, 0): '24 29 50 65 66 14', datetime.datetime(2021, 7, 3, 0, 0): '26 40 41 55 65 24', datetime.datetime(2021, 7, 7, 0, 0): '08 21 30 49 57 08', datetime.datetime(2021, 7, 10, 0, 0): '01 05 29 54 62 03', datetime.datetime(2021, 7, 14, 0, 0): '33 46 52 59 62 10', datetime.datetime(2021, 7, 17, 0, 0): '15 22 38 54 66 03', datetime.datetime(2021, 7, 21, 0, 0): '27 28 44 67 68 11', datetime.datetime(2021, 7, 24, 0, 0): '01 04 11 59 67 10', datetime.datetime(2021, 7, 28, 0, 0): '25 30 53 59 60 05', datetime.datetime(2021, 7, 31, 0, 0): '01 21 22 34 47 04', datetime.datetime(2021, 8, 4, 0, 0): '05 21 32 36 58 14', datetime.datetime(2021, 8, 7, 0, 0): '07 24 36 54 60 23', datetime.datetime(2021, 8, 11, 0, 0): '12 18 20 29 30 16', datetime.datetime(2021, 8, 14, 0, 0): '06 21 49 65 67 18', datetime.datetime(2021, 8, 18, 0, 0): '35 36 51 55 61 26', datetime.datetime(2021, 8, 21, 0, 0): '16 28 36 39 59 04', datetime.datetime(2021, 8, 23, 0, 0): '17 36 47 60 61 15', datetime.datetime(2021, 8, 25, 0, 0): '27 39 54 56 59 24', datetime.datetime(2021, 8, 28, 0, 0): '12 22 26 46 59 26', datetime.datetime(2021, 8, 30, 0, 0): '03 15 45 51 61 08', datetime.datetime(2021, 9, 1, 0, 0): '10 20 29 48 51 17', datetime.datetime(2021, 9, 4, 0, 0): '32 35 40 52 54 01', datetime.datetime(2021, 9, 6, 0, 0): '11 20 22 33 54 24', datetime.datetime(2021, 9, 8, 0, 0): '09 22 41 47 61 21', datetime.datetime(2021, 9, 11, 0, 0): '20 31 38 40 49 21', datetime.datetime(2021, 9, 13, 0, 0): '37 40 50 61 63 21', datetime.datetime(2021, 9, 15, 0, 0): '01 04 18 46 62 25', datetime.datetime(2021, 9, 18, 0, 0): '05 36 39 45 57 11', datetime.datetime(2021, 9, 20, 0, 0): '37 51 54 58 60 19', datetime.datetime(2021, 9, 22, 0, 0): '20 40 47 55 63 05', datetime.datetime(2021, 9, 25, 0, 0): '22 23 37 62 63 19', datetime.datetime(2021, 9, 27, 0, 0): '21 22 39 44 60 12', datetime.datetime(2021, 9, 29, 0, 0): '02 07 11 17 32 11', datetime.datetime(2021, 10, 2, 0, 0): '28 38 42 47 52 01', datetime.datetime(2021, 10, 4, 0, 0): '12 22 54 66 69 15', datetime.datetime(2021, 10, 6, 0, 0): '01 17 52 58 64 01', datetime.datetime(2021, 10, 9, 0, 0): '12 17 30 45 62 05', datetime.datetime(2021, 10, 11, 0, 0): '11 20 33 39 65 24', datetime.datetime(2021, 10, 13, 0, 0): '23 29 47 59 60 15', datetime.datetime(2021, 10, 16, 0, 0): '30 31 41 42 48 03', datetime.datetime(2021, 10, 18, 0, 0): '30 32 48 53 63 12', datetime.datetime(2021, 10, 20, 0, 0): '07 29 36 41 43 05', datetime.datetime(2021, 10, 23, 0, 0): '10 30 51 57 63 20', datetime.datetime(2021, 10, 25, 0, 0): '10 27 29 44 58 24', datetime.datetime(2021, 10, 27, 0, 0): '03 06 26 35 51 17', datetime.datetime(2021, 10, 30, 0, 0): '05 23 28 43 56 19', datetime.datetime(2021, 11, 1, 0, 0): '09 25 34 44 45 08', datetime.datetime(2021, 11, 3, 0, 0): '01 02 24 50 57 26', datetime.datetime(2021, 11, 6, 0, 0): '08 30 48 57 64 09', datetime.datetime(2021, 11, 8, 0, 0): '21 46 47 57 62 08', datetime.datetime(2021, 11, 10, 0, 0): '19 25 43 46 48 14', datetime.datetime(2021, 11, 13, 0, 0): '08 15 26 35 45 09', datetime.datetime(2021, 11, 15, 0, 0): '05 31 34 51 53 23', datetime.datetime(2021, 11, 17, 0, 0): '03 16 48 52 60 01', datetime.datetime(2021, 11, 20, 0, 0): '40 43 48 59 69 19', datetime.datetime(2021, 11, 22, 0, 0): '07 20 29 38 67 22', datetime.datetime(2021, 11, 24, 0, 0): '10 16 32 63 65 17', datetime.datetime(2021, 11, 27, 0, 0): '08 32 55 64 66 10', datetime.datetime(2021, 11, 29, 0, 0): '18 26 28 38 47 17', datetime.datetime(2021, 12, 1, 0, 0): '12 15 38 57 63 24', datetime.datetime(2021, 12, 4, 0, 0): '10 40 45 56 67 02', datetime.datetime(2021, 12, 6, 0, 0): '03 21 38 50 59 06', datetime.datetime(2021, 12, 8, 0, 0): '03 07 33 50 69 24', datetime.datetime(2021, 12, 11, 0, 0): '03 25 44 53 64 10', datetime.datetime(2021, 12, 13, 0, 0): '10 30 37 53 59 04', datetime.datetime(2021, 12, 15, 0, 0): '19 20 40 42 59 15', datetime.datetime(2021, 12, 18, 0, 0): '02 06 24 51 61 01', datetime.datetime(2021, 12, 20, 0, 0): '02 13 23 34 66 02', datetime.datetime(2021, 12, 22, 0, 0): '07 16 19 48 68 15', datetime.datetime(2021, 12, 25, 0, 0): '27 29 45 55 58 02', datetime.datetime(2021, 12, 27, 0, 0): '36 38 45 62 64 19', datetime.datetime(2021, 12, 29, 0, 0): '02 06 09 33 39 11', datetime.datetime(2022, 1, 1, 0, 0): '06 12 39 48 50 07', datetime.datetime(2022, 1, 3, 0, 0): '02 13 32 33 48 22', datetime.datetime(2022, 1, 5, 0, 0): '06 14 25 33 46 17', datetime.datetime(2022, 1, 8, 0, 0): '20 21 36 60 65 13', datetime.datetime(2022, 1, 10, 0, 0): '14 17 18 21 27 09', datetime.datetime(2022, 1, 12, 0, 0): '12 21 22 30 33 24', datetime.datetime(2022, 1, 15, 0, 0): '03 18 37 51 59 13', datetime.datetime(2022, 1, 17, 0, 0): '09 24 35 46 65 22', datetime.datetime(2022, 1, 19, 0, 0): '11 15 43 55 61 10', datetime.datetime(2022, 1, 22, 0, 0): '08 14 33 36 67 17', datetime.datetime(2022, 1, 24, 0, 0): '11 29 30 47 53 16', datetime.datetime(2022, 1, 26, 0, 0): '04 11 38 49 69 16', datetime.datetime(2022, 1, 29, 0, 0): '02 15 38 54 65 11', datetime.datetime(2022, 1, 31, 0, 0): '10 15 51 61 69 14', datetime.datetime(2022, 2, 2, 0, 0): '18 29 33 62 63 15', datetime.datetime(2022, 2, 5, 0, 0): '05 16 27 39 61 24', datetime.datetime(2022, 2, 7, 0, 0): '05 15 38 47 65 10', datetime.datetime(2022, 2, 9, 0, 0): '02 17 33 51 63 26', datetime.datetime(2022, 2, 12, 0, 0): '08 10 21 41 62 07', datetime.datetime(2022, 2, 14, 0, 0): '16 25 27 49 55 17', datetime.datetime(2022, 2, 16, 0, 0): '22 30 40 42 48 16', datetime.datetime(2022, 2, 19, 0, 0): '03 10 15 33 42 11', datetime.datetime(2022, 2, 21, 0, 0): '02 36 37 45 69 03', datetime.datetime(2022, 2, 23, 0, 0): '06 17 21 35 64 18', datetime.datetime(2022, 2, 26, 0, 0): '15 32 36 48 64 19', datetime.datetime(2022, 2, 28, 0, 0): '07 21 39 47 55 19', datetime.datetime(2022, 3, 2, 0, 0): '19 37 48 61 63 12', datetime.datetime(2022, 3, 5, 0, 0): '08 23 37 52 63 13', datetime.datetime(2022, 3, 7, 0, 0): '10 43 55 59 67 02', datetime.datetime(2022, 3, 9, 0, 0): '13 22 34 51 67 10', datetime.datetime(2022, 3, 14, 0, 0): '21 28 32 44 49 06', datetime.datetime(2022, 3, 16, 0, 0): '03 28 34 35 58 17', datetime.datetime(2022, 3, 19, 0, 0): '08 09 18 48 52 06', datetime.datetime(2022, 3, 21, 0, 0): '01 15 26 63 65 16', datetime.datetime(2022, 3, 23, 0, 0): '31 32 37 38 48 24', datetime.datetime(2022, 3, 26, 0, 0): '02 10 50 59 61 06', datetime.datetime(2022, 3, 28, 0, 0): '11 18 39 58 62 03', datetime.datetime(2022, 3, 30, 0, 0): '03 07 21 31 37 11', datetime.datetime(2022, 4, 2, 0, 0): '06 28 47 58 59 18', datetime.datetime(2022, 4, 4, 0, 0): '02 32 39 46 69 06', datetime.datetime(2022, 4, 6, 0, 0): '06 42 45 47 64 18', datetime.datetime(2022, 4, 11, 0, 0): '05 07 24 31 34 04', datetime.datetime(2022, 4, 13, 0, 0): '14 16 41 63 68 26', datetime.datetime(2022, 4, 16, 0, 0): '15 21 32 62 65 26', datetime.datetime(2022, 4, 18, 0, 0): '08 33 55 59 62 18', datetime.datetime(2022, 4, 20, 0, 0): '20 30 45 55 56 14', datetime.datetime(2022, 4, 23, 0, 0): '10 39 47 49 56 08', datetime.datetime(2022, 4, 25, 0, 0): '12 18 20 39 61 10', datetime.datetime(2022, 4, 27, 0, 0): '11 36 61 62 68 04', datetime.datetime(2022, 4, 30, 0, 0): '14 21 37 44 63 01', datetime.datetime(2022, 5, 2, 0, 0): '18 27 33 39 44 08', datetime.datetime(2022, 5, 4, 0, 0): '37 39 55 63 69 23', datetime.datetime(2022, 5, 7, 0, 0): '04 05 06 28 67 10', datetime.datetime(2022, 5, 9, 0, 0): '18 30 35 52 56 05', datetime.datetime(2022, 5, 11, 0, 0): '05 07 61 63 69 18', datetime.datetime(2022, 5, 14, 0, 0): '06 40 41 45 52 09', datetime.datetime(2022, 5, 16, 0, 0): '07 15 22 36 64 13', datetime.datetime(2022, 5, 18, 0, 0): '40 41 58 64 65 17', datetime.datetime(2022, 5, 21, 0, 0): '14 15 25 52 58 11', datetime.datetime(2022, 5, 23, 0, 0): '01 33 37 39 42 26', datetime.datetime(2022, 5, 25, 0, 0): '19 28 39 42 57 17', datetime.datetime(2022, 5, 28, 0, 0): '02 39 50 61 66 15', datetime.datetime(2022, 5, 30, 0, 0): '27 28 51 68 69 22', datetime.datetime(2022, 6, 1, 0, 0): '11 41 56 57 63 02', datetime.datetime(2022, 6, 4, 0, 0): '14 16 36 52 60 16', datetime.datetime(2022, 6, 6, 0, 0): '02 10 35 44 46 04', datetime.datetime(2022, 6, 8, 0, 0): '22 39 43 62 64 07', datetime.datetime(2022, 6, 11, 0, 0): '18 20 26 53 69 05', datetime.datetime(2022, 6, 13, 0, 0): '02 27 42 44 51 25', datetime.datetime(2022, 6, 15, 0, 0): '19 28 41 42 51 07', datetime.datetime(2022, 6, 18, 0, 0): '10 19 40 45 58 25', datetime.datetime(2022, 6, 20, 0, 0): '03 44 61 63 69 13', datetime.datetime(2022, 6, 22, 0, 0): '06 10 31 48 56 12', datetime.datetime(2022, 6, 25, 0, 0): '06 12 20 27 32 04', datetime.datetime(2022, 6, 27, 0, 0): '11 13 18 30 37 16', datetime.datetime(2022, 6, 29, 0, 0): '08 40 49 58 63 14', datetime.datetime(2022, 7, 2, 0, 0): '09 10 37 59 62 26', datetime.datetime(2022, 7, 4, 0, 0): '15 16 24 31 56 04', datetime.datetime(2022, 7, 6, 0, 0): '32 36 49 62 69 13', datetime.datetime(2022, 7, 9, 0, 0): '14 22 42 46 52 24', datetime.datetime(2022, 7, 11, 0, 0): '04 26 34 37 52 09', datetime.datetime(2022, 7, 13, 0, 0): '22 23 36 47 63 02', datetime.datetime(2022, 7, 16, 0, 0): '03 18 23 32 57 21', datetime.datetime(2022, 7, 18, 0, 0): '14 34 36 50 58 05', datetime.datetime(2022, 7, 20, 0, 0): '10 20 23 49 65 22', datetime.datetime(2022, 7, 23, 0, 0): '39 41 54 59 62 12', datetime.datetime(2022, 7, 25, 0, 0): '25 37 38 39 65 05', datetime.datetime(2022, 7, 27, 0, 0): '01 25 44 55 57 26', datetime.datetime(2022, 7, 30, 0, 0): '04 17 57 58 68 12', datetime.datetime(2022, 8, 1, 0, 0): '15 21 31 36 65 16', datetime.datetime(2022, 8, 3, 0, 0): '09 21 56 57 66 11', datetime.datetime(2022, 8, 6, 0, 0): '08 15 46 56 68 03', datetime.datetime(2022, 8, 8, 0, 0): '32 45 51 57 58 12', datetime.datetime(2022, 8, 10, 0, 0): '29 44 59 61 68 19', datetime.datetime(2022, 8, 13, 0, 0): '19 24 35 43 62 02', datetime.datetime(2022, 8, 15, 0, 0): '20 24 47 50 63 05', datetime.datetime(2022, 8, 17, 0, 0): '23 28 41 50 55 24', datetime.datetime(2022, 8, 20, 0, 0): '05 09 11 16 66 07', datetime.datetime(2022, 8, 22, 0, 0): '12 27 34 55 67 09', datetime.datetime(2022, 8, 24, 0, 0): '06 24 35 37 44 22', datetime.datetime(2022, 8, 27, 0, 0): '02 18 56 60 65 14', datetime.datetime(2022, 8, 29, 0, 0): '13 36 43 61 69 18', datetime.datetime(2022, 8, 31, 0, 0): '07 08 19 24 28 01', datetime.datetime(2022, 9, 3, 0, 0): '18 27 49 65 69 09', datetime.datetime(2022, 9, 5, 0, 0): '04 07 32 55 64 25', datetime.datetime(2022, 9, 7, 0, 0): '03 16 30 33 36 20', datetime.datetime(2022, 9, 10, 0, 0): '38 42 56 68 69 04', datetime.datetime(2022, 9, 12, 0, 0): '06 14 16 34 66 25', datetime.datetime(2022, 9, 14, 0, 0): '09 10 20 22 52 25', datetime.datetime(2022, 9, 17, 0, 0): '05 25 36 51 61 01', datetime.datetime(2022, 9, 19, 0, 0): '07 15 36 46 67 07', datetime.datetime(2022, 9, 21, 0, 0): '06 33 34 45 54 07', datetime.datetime(2022, 9, 24, 0, 0): '03 09 21 24 29 14', datetime.datetime(2022, 9, 26, 0, 0): '13 20 31 33 59 20', datetime.datetime(2022, 9, 28, 0, 0): '06 10 24 33 67 11', datetime.datetime(2022, 10, 1, 0, 0): '08 21 22 65 69 26', datetime.datetime(2022, 10, 3, 0, 0): '02 16 22 55 63 22', datetime.datetime(2022, 10, 5, 0, 0): '26 30 33 37 62 06', datetime.datetime(2022, 10, 8, 0, 0): '13 43 53 60 68 05', datetime.datetime(2022, 10, 10, 0, 0): '03 06 11 17 22 11', datetime.datetime(2022, 10, 12, 0, 0): '14 30 41 42 59 06', datetime.datetime(2022, 10, 15, 0, 0): '32 37 40 58 62 15', datetime.datetime(2022, 10, 17, 0, 0): '19 30 36 46 60 25', datetime.datetime(2022, 10, 19, 0, 0): '06 08 15 27 42 10', datetime.datetime(2022, 10, 22, 0, 0): '19 25 48 55 60 18', datetime.datetime(2022, 10, 24, 0, 0): '18 23 35 45 54 16', datetime.datetime(2022, 10, 26, 0, 0): '19 36 37 46 56 24', datetime.datetime(2022, 10, 29, 0, 0): '19 31 40 46 57 23', datetime.datetime(2022, 10, 31, 0, 0): '13 19 36 39 59 13', datetime.datetime(2022, 11, 2, 0, 0): '02 11 22 35 60 23', datetime.datetime(2022, 11, 5, 0, 0): '28 45 53 56 69 20', datetime.datetime(2022, 11, 9, 0, 0): '07 14 24 30 56 07', datetime.datetime(2022, 11, 12, 0, 0): '16 20 44 57 58 06', datetime.datetime(2022, 11, 14, 0, 0): '19 35 53 54 67 21', datetime.datetime(2022, 11, 16, 0, 0): '28 34 51 53 56 11', datetime.datetime(2022, 11, 19, 0, 0): '07 28 62 63 64 10', datetime.datetime(2022, 11, 21, 0, 0): '01 06 40 51 67 02', datetime.datetime(2022, 11, 23, 0, 0): '01 02 31 39 66 25', datetime.datetime(2022, 11, 26, 0, 0): '15 30 47 50 51 03', datetime.datetime(2022, 11, 28, 0, 0): '29 30 32 48 50 20', datetime.datetime(2022, 11, 30, 0, 0): '04 19 24 47 66 10', datetime.datetime(2022, 12, 3, 0, 0): '06 13 33 36 37 07', datetime.datetime(2022, 12, 5, 0, 0): '35 45 47 54 55 14', datetime.datetime(2022, 12, 7, 0, 0): '06 28 44 59 61 21', datetime.datetime(2022, 12, 10, 0, 0): '09 23 47 49 68 19', datetime.datetime(2022, 12, 12, 0, 0): '16 31 50 55 61 09', datetime.datetime(2022, 12, 14, 0, 0): '36 51 59 66 68 25', datetime.datetime(2022, 12, 17, 0, 0): '33 56 64 66 68 12', datetime.datetime(2022, 12, 19, 0, 0): '07 37 55 65 67 12', datetime.datetime(2022, 12, 21, 0, 0): '12 15 24 34 59 14', datetime.datetime(2022, 12, 24, 0, 0): '17 37 46 54 67 08', datetime.datetime(2022, 12, 26, 0, 0): '17 41 47 60 61 17', datetime.datetime(2022, 12, 28, 0, 0): '26 32 38 45 56 01', datetime.datetime(2022, 12, 31, 0, 0): '18 37 44 50 64 11', datetime.datetime(2023, 1, 2, 0, 0): '07 09 12 31 62 22', datetime.datetime(2023, 1, 4, 0, 0): '12 32 56 67 68 26', datetime.datetime(2023, 1, 7, 0, 0): '35 36 44 45 67 14', datetime.datetime(2023, 1, 9, 0, 0): '18 43 48 60 69 14', datetime.datetime(2023, 1, 11, 0, 0): '04 08 46 47 48 05', datetime.datetime(2023, 1, 14, 0, 0): '24 26 39 47 57 23', datetime.datetime(2023, 1, 16, 0, 0): '04 14 33 39 61 03', datetime.datetime(2023, 1, 18, 0, 0): '06 15 22 42 47 26', datetime.datetime(2023, 1, 21, 0, 0): '05 14 19 46 64 22', datetime.datetime(2023, 1, 23, 0, 0): '12 31 47 58 60 23', datetime.datetime(2023, 1, 25, 0, 0): '09 17 20 38 40 18', datetime.datetime(2023, 1, 28, 0, 0): '02 18 23 27 47 15', datetime.datetime(2023, 1, 30, 0, 0): '01 04 12 36 49 05', datetime.datetime(2023, 2, 1, 0, 0): '31 43 58 59 66 09', datetime.datetime(2023, 2, 4, 0, 0): '02 08 15 19 58 10', datetime.datetime(2023, 2, 6, 0, 0): '05 11 22 23 69 07', datetime.datetime(2023, 2, 8, 0, 0): '52 58 59 64 66 09', datetime.datetime(2023, 2, 11, 0, 0): '10 23 30 54 65 11', datetime.datetime(2023, 2, 13, 0, 0): '17 26 37 61 65 02', datetime.datetime(2023, 2, 15, 0, 0): '31 32 54 60 63 12', datetime.datetime(2023, 2, 18, 0, 0): '08 21 31 32 37 23', datetime.datetime(2023, 2, 20, 0, 0): '03 17 26 38 54 15', datetime.datetime(2023, 2, 22, 0, 0): '11 19 39 44 65 07', datetime.datetime(2023, 2, 25, 0, 0): '11 24 58 66 67 26', datetime.datetime(2023, 2, 27, 0, 0): '16 28 49 51 55 23', datetime.datetime(2023, 3, 1, 0, 0): '02 09 28 36 53 04', datetime.datetime(2023, 3, 4, 0, 0): '10 16 18 40 66 16', datetime.datetime(2023, 3, 6, 0, 0): '02 13 29 58 69 04', datetime.datetime(2023, 3, 8, 0, 0): '26 27 43 61 69 04', datetime.datetime(2023, 3, 11, 0, 0): '11 20 33 43 58 24', datetime.datetime(2023, 3, 13, 0, 0): '03 10 24 46 63 04', datetime.datetime(2023, 3, 15, 0, 0): '16 18 33 37 50 08', datetime.datetime(2023, 3, 18, 0, 0): '14 20 30 54 69 11', datetime.datetime(2023, 3, 20, 0, 0): '01 27 32 47 67 14', datetime.datetime(2023, 3, 22, 0, 0): '27 28 37 50 57 05', datetime.datetime(2023, 3, 25, 0, 0): '15 17 18 47 57 19', datetime.datetime(2023, 3, 27, 0, 0): '19 26 36 43 58 14', datetime.datetime(2023, 3, 29, 0, 0): '04 09 24 46 66 07', datetime.datetime(2023, 4, 1, 0, 0): '11 19 21 29 52 17', datetime.datetime(2023, 4, 3, 0, 0): '16 30 31 54 68 01', datetime.datetime(2023, 4, 5, 0, 0): '03 05 09 42 52 11', datetime.datetime(2023, 4, 8, 0, 0): '11 22 24 51 60 18', datetime.datetime(2023, 4, 10, 0, 0): '09 10 36 46 52 14', datetime.datetime(2023, 4, 12, 0, 0): '09 36 41 44 59 04', datetime.datetime(2023, 4, 15, 0, 0): '01 33 34 56 59 18', datetime.datetime(2023, 4, 17, 0, 0): '23 25 35 63 64 25', datetime.datetime(2023, 4, 19, 0, 0): '04 11 21 38 64 11', datetime.datetime(2023, 4, 22, 0, 0): '17 36 47 63 68 25', datetime.datetime(2023, 4, 24, 0, 0): '19 21 55 66 68 03', datetime.datetime(2023, 4, 26, 0, 0): '02 15 30 35 49 06', datetime.datetime(2023, 4, 29, 0, 0): '16 53 54 57 65 08', datetime.datetime(2023, 5, 1, 0, 0): '03 38 55 61 66 01', datetime.datetime(2023, 5, 3, 0, 0): '21 26 30 45 47 23', datetime.datetime(2023, 5, 6, 0, 0): '31 39 47 51 53 06', datetime.datetime(2023, 5, 8, 0, 0): '15 20 33 36 43 12', datetime.datetime(2023, 5, 10, 0, 0): '21 24 33 55 69 03', datetime.datetime(2023, 5, 13, 0, 0): '03 15 20 23 46 11', datetime.datetime(2023, 5, 15, 0, 0): '01 26 28 55 58 25', datetime.datetime(2023, 5, 17, 0, 0): '18 34 37 45 51 14', datetime.datetime(2023, 5, 20, 0, 0): '17 23 32 38 63 23', datetime.datetime(2023, 5, 22, 0, 0): '09 38 48 52 68 25', datetime.datetime(2023, 5, 24, 0, 0): '12 21 44 50 58 26', datetime.datetime(2023, 5, 27, 0, 0): '24 38 39 48 56 04', datetime.datetime(2023, 5, 29, 0, 0): '21 33 35 62 64 24', datetime.datetime(2023, 5, 31, 0, 0): '02 04 54 61 62 14', datetime.datetime(2023, 6, 3, 0, 0): '15 45 64 67 68 18', datetime.datetime(2023, 6, 5, 0, 0): '02 31 45 46 49 20', datetime.datetime(2023, 6, 7, 0, 0): '16 21 29 53 66 02', datetime.datetime(2023, 6, 10, 0, 0): '21 32 42 46 50 04', datetime.datetime(2023, 6, 12, 0, 0): '02 03 16 23 68 07', datetime.datetime(2023, 6, 14, 0, 0): '03 20 36 42 64 04', datetime.datetime(2023, 6, 17, 0, 0): '02 12 45 61 64 26', datetime.datetime(2023, 6, 19, 0, 0): '36 39 52 57 69 01', datetime.datetime(2023, 6, 21, 0, 0): '05 11 33 35 63 14', datetime.datetime(2023, 6, 24, 0, 0): '02 38 44 50 62 19', datetime.datetime(2023, 6, 26, 0, 0): '06 28 39 43 54 12', datetime.datetime(2023, 6, 28, 0, 0): '19 25 34 57 68 04', datetime.datetime(2023, 7, 1, 0, 0): '04 17 35 49 61 08', datetime.datetime(2023, 7, 3, 0, 0): '15 26 31 38 61 03', datetime.datetime(2023, 7, 5, 0, 0): '17 24 48 62 68 23', datetime.datetime(2023, 7, 8, 0, 0): '07 23 24 32 43 18', datetime.datetime(2023, 7, 10, 0, 0): '02 24 34 53 58 13'}\n"
          ]
        }
      ],
      "source": [
        "from dateutil.parser import parse\n",
        "from datetime import datetime\n",
        "import json\n",
        "stats_file = \"./data_sources/Lottery_Powerball_Winning_Numbers__Beginning_2010.json\"\n",
        "powerball = {}\n",
        "lines = []\n",
        "with open(stats_file, 'r') as f:\n",
        "    stats = json.load(f)\n",
        "    for data in stats:\n",
        "        dt = parse(data['Draw Date'])\n",
        "        powerball[dt] = data['Winning Numbers']\n",
        "\n",
        "res = {key: val for key, val in sorted(powerball.items(), key = lambda ele: ele[0])}\n",
        "print(res)\n",
        "\n",
        "pre_numbers = None\n",
        "for dt in powerball:\n",
        "    if pre_numbers is not None:\n",
        "        lines.append(f\"{pre_numbers} : {powerball[dt]}\\n\")\n",
        "    pre_numbers = powerball[dt]\n",
        "with open(f'./models/powerball2/prompts.txt', 'w', encoding='utf-8') as f:\n",
        "    f.writelines(lines)\n",
        "    f.close()"
      ]
    },
    {
      "cell_type": "code",
      "execution_count": 7,
      "metadata": {},
      "outputs": [],
      "source": [
        "\n",
        "stats_file = \"./data_sources/Lottery_Powerball_Winning_Numbers__Beginning_2010.json\"\n",
        "powerball = []\n",
        "test = []\n",
        "lines = []\n",
        "with open(stats_file, 'r') as f:\n",
        "    stats = json.load(f)\n",
        "    for data in stats:\n",
        "        powerball.append(\n",
        "            {\n",
        "            'instruction':f\"what are the powerball numbers from {data['Draw Date']}\",\n",
        "            \"output\":data['Winning Numbers']\n",
        "            }\n",
        "        )\n",
        "        lines.append(f\"{data['Draw Date']} : {data['Winning Numbers']}\\n\")\n",
        "    with open(f'./models/powerball/prompts.json', 'w', encoding='utf-8') as f:\n",
        "        json.dump(powerball, f, ensure_ascii=True, indent=4, allow_nan=True)\n",
        "        f.close()\n",
        "    with open(f'./models/powerball/prompts.txt', 'w', encoding='utf-8') as f:\n",
        "        f.writelines(lines)\n",
        "        f.close()"
      ]
    },
    {
      "cell_type": "markdown",
      "metadata": {
        "colab_type": "text",
        "id": "gI1Tp54IiVBj"
      },
      "source": [
        "## Train a custom tokenizer\n",
        "I have used a ByteLevelBPETokenizer just to prevent \\<unk> tokens entirely.\n",
        "Furthermore, the function used to train the tokenizer assumes that each sample is stored in a different text file."
      ]
    },
    {
      "cell_type": "code",
      "execution_count": 1,
      "metadata": {},
      "outputs": [
        {
          "data": {
            "text/plain": [
              "True"
            ]
          },
          "execution_count": 1,
          "metadata": {},
          "output_type": "execute_result"
        }
      ],
      "source": [
        "import torch\n",
        "torch.cuda.is_available()"
      ]
    },
    {
      "cell_type": "code",
      "execution_count": 277,
      "metadata": {},
      "outputs": [
        {
          "name": "stdout",
          "output_type": "stream",
          "text": [
            "['02', '04', '54', '61', '62', '14', ':', '15', '45', '64', '67', '68', '18']\n"
          ]
        }
      ],
      "source": [
        "from tokenizers import Tokenizer\n",
        "from tokenizers.models import BPE\n",
        "from pathlib import Path\n",
        "\n",
        "# txt_files_dir = \"./models/baseball/tokenizer/raw_3\"\n",
        "\n",
        "# paths = [str(x) for x in Path(txt_files_dir).glob(\"**/*.txt\")]\n",
        "\n",
        "tokenizer = Tokenizer(BPE())\n",
        "\n",
        "from tokenizers.pre_tokenizers import Whitespace\n",
        "\n",
        "tokenizer.pre_tokenizer = Whitespace()\n",
        "\n",
        "from tokenizers.trainers import BpeTrainer\n",
        "\n",
        "trainer = BpeTrainer(special_tokens=[    \n",
        "    \"<s>\",\n",
        "    \"<pad>\",\n",
        "    \"</s>\",\n",
        "    \"<unk>\",\n",
        "    \"<mask>\"\n",
        "    ])\n",
        "tokenizer.train(files=[\"./models/powerball/prompts.txt\"], trainer=trainer)\n",
        "tokenizer.save(\"./models/powerball/tokenizer/powerball.json\")\n",
        "\n",
        "output = tokenizer.encode(\"02 04 54 61 62 14 : 15 45 64 67 68 18\")\n",
        "print(output.tokens)\n"
      ]
    },
    {
      "attachments": {},
      "cell_type": "markdown",
      "metadata": {},
      "source": [
        "## Train a Transformer Model"
      ]
    },
    {
      "cell_type": "code",
      "execution_count": 1,
      "metadata": {},
      "outputs": [],
      "source": [
        "from transformers import RobertaConfig\n",
        "\n",
        "config = RobertaConfig(\n",
        "    vocab_size=128,\n",
        "    max_position_embeddings=514,\n",
        "    num_attention_heads=12,\n",
        "    num_hidden_layers=6,\n",
        "    type_vocab_size=1,\n",
        ")"
      ]
    },
    {
      "cell_type": "code",
      "execution_count": 2,
      "metadata": {},
      "outputs": [],
      "source": [
        "from transformers import RobertaTokenizerFast\n",
        "\n",
        "tokenizer = RobertaTokenizerFast(tokenizer_file=\"./models/powerball/tokenizer/powerball.json\")"
      ]
    },
    {
      "cell_type": "code",
      "execution_count": 3,
      "metadata": {},
      "outputs": [],
      "source": [
        "from transformers import RobertaForMaskedLM\n",
        "\n",
        "model = RobertaForMaskedLM(config=config)"
      ]
    },
    {
      "cell_type": "code",
      "execution_count": 4,
      "metadata": {},
      "outputs": [
        {
          "data": {
            "text/plain": [
              "43614848"
            ]
          },
          "execution_count": 4,
          "metadata": {},
          "output_type": "execute_result"
        }
      ],
      "source": [
        "model.num_parameters()"
      ]
    },
    {
      "cell_type": "code",
      "execution_count": 5,
      "metadata": {},
      "outputs": [
        {
          "name": "stderr",
          "output_type": "stream",
          "text": [
            "c:\\Users\\danm\\Downloads\\oobabooga_windows\\installer_files\\env\\lib\\site-packages\\transformers\\data\\datasets\\language_modeling.py:119: FutureWarning: This dataset will be removed from the library soon, preprocessing should be handled with the 🤗 Datasets library. You can have a look at this example script for pointers: https://github.com/huggingface/transformers/blob/main/examples/pytorch/language-modeling/run_mlm.py\n",
            "  warnings.warn(\n"
          ]
        }
      ],
      "source": [
        "from transformers import LineByLineTextDataset\n",
        "\n",
        "dataset = LineByLineTextDataset(\n",
        "    tokenizer=tokenizer,\n",
        "    file_path=\"./models/powerball2/prompts.txt\",\n",
        "    block_size=128,\n",
        ")"
      ]
    },
    {
      "cell_type": "code",
      "execution_count": 6,
      "metadata": {},
      "outputs": [],
      "source": [
        "from transformers import DataCollatorForLanguageModeling\n",
        "\n",
        "data_collator = DataCollatorForLanguageModeling(\n",
        "    tokenizer=tokenizer, mlm=True, mlm_probability=0.15\n",
        ")"
      ]
    },
    {
      "cell_type": "code",
      "execution_count": 7,
      "metadata": {},
      "outputs": [],
      "source": [
        "from transformers import Trainer, TrainingArguments\n",
        "\n",
        "training_args = TrainingArguments(\n",
        "    output_dir=\"./models/powerball2\",\n",
        "    overwrite_output_dir=True,\n",
        "    num_train_epochs=30000,\n",
        "    per_device_train_batch_size=768,\n",
        "    save_steps=1000,\n",
        "    save_total_limit=2,\n",
        "    prediction_loss_only=True,\n",
        ")\n",
        "\n",
        "trainer = Trainer(\n",
        "    model=model,\n",
        "    args=training_args,\n",
        "    data_collator=data_collator,\n",
        "    train_dataset=dataset,\n",
        ")"
      ]
    },
    {
      "cell_type": "code",
      "execution_count": 9,
      "metadata": {},
      "outputs": [
        {
          "name": "stderr",
          "output_type": "stream",
          "text": [
            "c:\\Users\\danm\\Downloads\\oobabooga_windows\\installer_files\\env\\lib\\site-packages\\transformers\\optimization.py:391: FutureWarning: This implementation of AdamW is deprecated and will be removed in a future version. Use the PyTorch implementation torch.optim.AdamW instead, or set `no_deprecation_warning=True` to disable this warning\n",
            "  warnings.warn(\n"
          ]
        },
        {
          "data": {
            "application/vnd.jupyter.widget-view+json": {
              "model_id": "6afdc81d160d4bc9bd0e3ddb1d10ed1f",
              "version_major": 2,
              "version_minor": 0
            },
            "text/plain": [
              "  0%|          | 0/90000 [00:00<?, ?it/s]"
            ]
          },
          "metadata": {},
          "output_type": "display_data"
        },
        {
          "name": "stderr",
          "output_type": "stream",
          "text": [
            "You're using a RobertaTokenizerFast tokenizer. Please note that with a fast tokenizer, using the `__call__` method is faster than using a method to encode the text followed by a call to the `pad` method to get a padded encoding.\n"
          ]
        },
        {
          "name": "stdout",
          "output_type": "stream",
          "text": [
            "{'loss': 2.9996, 'learning_rate': 4.972222222222223e-05, 'epoch': 83.33}\n",
            "{'loss': 2.1674, 'learning_rate': 4.9444444444444446e-05, 'epoch': 166.67}\n",
            "{'loss': 1.2984, 'learning_rate': 4.9166666666666665e-05, 'epoch': 250.0}\n",
            "{'loss': 0.6697, 'learning_rate': 4.888888888888889e-05, 'epoch': 333.33}\n",
            "{'loss': 0.3969, 'learning_rate': 4.8611111111111115e-05, 'epoch': 416.67}\n",
            "{'loss': 0.2755, 'learning_rate': 4.8333333333333334e-05, 'epoch': 500.0}\n",
            "{'loss': 0.2156, 'learning_rate': 4.805555555555556e-05, 'epoch': 583.33}\n",
            "{'loss': 0.1762, 'learning_rate': 4.7777777777777784e-05, 'epoch': 666.67}\n",
            "{'loss': 0.1528, 'learning_rate': 4.75e-05, 'epoch': 750.0}\n",
            "{'loss': 0.1308, 'learning_rate': 4.722222222222222e-05, 'epoch': 833.33}\n",
            "{'loss': 0.1176, 'learning_rate': 4.6944444444444446e-05, 'epoch': 916.67}\n",
            "{'loss': 0.1039, 'learning_rate': 4.666666666666667e-05, 'epoch': 1000.0}\n",
            "{'loss': 0.0971, 'learning_rate': 4.638888888888889e-05, 'epoch': 1083.33}\n",
            "{'loss': 0.0884, 'learning_rate': 4.6111111111111115e-05, 'epoch': 1166.67}\n",
            "{'loss': 0.082, 'learning_rate': 4.5833333333333334e-05, 'epoch': 1250.0}\n",
            "{'loss': 0.0761, 'learning_rate': 4.555555555555556e-05, 'epoch': 1333.33}\n",
            "{'loss': 0.0705, 'learning_rate': 4.527777777777778e-05, 'epoch': 1416.67}\n",
            "{'loss': 0.0675, 'learning_rate': 4.5e-05, 'epoch': 1500.0}\n",
            "{'loss': 0.0632, 'learning_rate': 4.472222222222223e-05, 'epoch': 1583.33}\n",
            "{'loss': 0.0589, 'learning_rate': 4.4444444444444447e-05, 'epoch': 1666.67}\n",
            "{'loss': 0.0569, 'learning_rate': 4.4166666666666665e-05, 'epoch': 1750.0}\n",
            "{'loss': 0.055, 'learning_rate': 4.388888888888889e-05, 'epoch': 1833.33}\n",
            "{'loss': 0.0529, 'learning_rate': 4.3611111111111116e-05, 'epoch': 1916.67}\n",
            "{'loss': 0.0492, 'learning_rate': 4.3333333333333334e-05, 'epoch': 2000.0}\n",
            "{'loss': 0.0494, 'learning_rate': 4.305555555555556e-05, 'epoch': 2083.33}\n",
            "{'loss': 0.0471, 'learning_rate': 4.277777777777778e-05, 'epoch': 2166.67}\n",
            "{'loss': 0.0442, 'learning_rate': 4.25e-05, 'epoch': 2250.0}\n",
            "{'loss': 0.0432, 'learning_rate': 4.222222222222222e-05, 'epoch': 2333.33}\n",
            "{'loss': 0.0425, 'learning_rate': 4.194444444444445e-05, 'epoch': 2416.67}\n",
            "{'loss': 0.0415, 'learning_rate': 4.166666666666667e-05, 'epoch': 2500.0}\n",
            "{'loss': 0.038, 'learning_rate': 4.138888888888889e-05, 'epoch': 2583.33}\n",
            "{'loss': 0.0372, 'learning_rate': 4.111111111111111e-05, 'epoch': 2666.67}\n",
            "{'loss': 0.0367, 'learning_rate': 4.0833333333333334e-05, 'epoch': 2750.0}\n",
            "{'loss': 0.0351, 'learning_rate': 4.055555555555556e-05, 'epoch': 2833.33}\n",
            "{'loss': 0.0355, 'learning_rate': 4.027777777777778e-05, 'epoch': 2916.67}\n",
            "{'loss': 0.0343, 'learning_rate': 4e-05, 'epoch': 3000.0}\n",
            "{'loss': 0.0346, 'learning_rate': 3.972222222222222e-05, 'epoch': 3083.33}\n",
            "{'loss': 0.0329, 'learning_rate': 3.944444444444445e-05, 'epoch': 3166.67}\n",
            "{'loss': 0.0308, 'learning_rate': 3.9166666666666665e-05, 'epoch': 3250.0}\n",
            "{'loss': 0.0313, 'learning_rate': 3.888888888888889e-05, 'epoch': 3333.33}\n",
            "{'loss': 0.0311, 'learning_rate': 3.8611111111111116e-05, 'epoch': 3416.67}\n",
            "{'loss': 0.0276, 'learning_rate': 3.8333333333333334e-05, 'epoch': 3500.0}\n",
            "{'loss': 0.0281, 'learning_rate': 3.805555555555555e-05, 'epoch': 3583.33}\n",
            "{'loss': 0.0285, 'learning_rate': 3.777777777777778e-05, 'epoch': 3666.67}\n",
            "{'loss': 0.0279, 'learning_rate': 3.7500000000000003e-05, 'epoch': 3750.0}\n",
            "{'loss': 0.0272, 'learning_rate': 3.722222222222222e-05, 'epoch': 3833.33}\n",
            "{'loss': 0.026, 'learning_rate': 3.694444444444445e-05, 'epoch': 3916.67}\n",
            "{'loss': 0.0263, 'learning_rate': 3.6666666666666666e-05, 'epoch': 4000.0}\n",
            "{'loss': 0.0255, 'learning_rate': 3.638888888888889e-05, 'epoch': 4083.33}\n",
            "{'loss': 0.0256, 'learning_rate': 3.611111111111111e-05, 'epoch': 4166.67}\n",
            "{'loss': 0.0238, 'learning_rate': 3.5833333333333335e-05, 'epoch': 4250.0}\n",
            "{'loss': 0.025, 'learning_rate': 3.555555555555556e-05, 'epoch': 4333.33}\n",
            "{'loss': 0.0239, 'learning_rate': 3.527777777777778e-05, 'epoch': 4416.67}\n",
            "{'loss': 0.0237, 'learning_rate': 3.5e-05, 'epoch': 4500.0}\n",
            "{'loss': 0.0229, 'learning_rate': 3.472222222222222e-05, 'epoch': 4583.33}\n",
            "{'loss': 0.0224, 'learning_rate': 3.444444444444445e-05, 'epoch': 4666.67}\n",
            "{'loss': 0.0231, 'learning_rate': 3.4166666666666666e-05, 'epoch': 4750.0}\n",
            "{'loss': 0.0221, 'learning_rate': 3.388888888888889e-05, 'epoch': 4833.33}\n",
            "{'loss': 0.0214, 'learning_rate': 3.3611111111111116e-05, 'epoch': 4916.67}\n",
            "{'loss': 0.0208, 'learning_rate': 3.3333333333333335e-05, 'epoch': 5000.0}\n",
            "{'loss': 0.0205, 'learning_rate': 3.3055555555555553e-05, 'epoch': 5083.33}\n",
            "{'loss': 0.0192, 'learning_rate': 3.277777777777778e-05, 'epoch': 5166.67}\n",
            "{'loss': 0.0183, 'learning_rate': 3.2500000000000004e-05, 'epoch': 5250.0}\n",
            "{'loss': 0.0209, 'learning_rate': 3.222222222222223e-05, 'epoch': 5333.33}\n",
            "{'loss': 0.0208, 'learning_rate': 3.194444444444444e-05, 'epoch': 5416.67}\n",
            "{'loss': 0.0187, 'learning_rate': 3.1666666666666666e-05, 'epoch': 5500.0}\n",
            "{'loss': 0.0175, 'learning_rate': 3.138888888888889e-05, 'epoch': 5583.33}\n",
            "{'loss': 0.0186, 'learning_rate': 3.111111111111111e-05, 'epoch': 5666.67}\n",
            "{'loss': 0.0185, 'learning_rate': 3.0833333333333335e-05, 'epoch': 5750.0}\n",
            "{'loss': 0.0181, 'learning_rate': 3.055555555555556e-05, 'epoch': 5833.33}\n",
            "{'loss': 0.0172, 'learning_rate': 3.0277777777777776e-05, 'epoch': 5916.67}\n",
            "{'loss': 0.016, 'learning_rate': 3e-05, 'epoch': 6000.0}\n",
            "{'loss': 0.0171, 'learning_rate': 2.9722222222222223e-05, 'epoch': 6083.33}\n",
            "{'loss': 0.0166, 'learning_rate': 2.9444444444444448e-05, 'epoch': 6166.67}\n",
            "{'loss': 0.0163, 'learning_rate': 2.916666666666667e-05, 'epoch': 6250.0}\n",
            "{'loss': 0.0148, 'learning_rate': 2.8888888888888888e-05, 'epoch': 6333.33}\n",
            "{'loss': 0.017, 'learning_rate': 2.861111111111111e-05, 'epoch': 6416.67}\n",
            "{'loss': 0.016, 'learning_rate': 2.8333333333333335e-05, 'epoch': 6500.0}\n",
            "{'loss': 0.0151, 'learning_rate': 2.8055555555555557e-05, 'epoch': 6583.33}\n",
            "{'loss': 0.0151, 'learning_rate': 2.777777777777778e-05, 'epoch': 6666.67}\n",
            "{'loss': 0.015, 'learning_rate': 2.7500000000000004e-05, 'epoch': 6750.0}\n",
            "{'loss': 0.0159, 'learning_rate': 2.7222222222222223e-05, 'epoch': 6833.33}\n",
            "{'loss': 0.0138, 'learning_rate': 2.6944444444444445e-05, 'epoch': 6916.67}\n",
            "{'loss': 0.014, 'learning_rate': 2.6666666666666667e-05, 'epoch': 7000.0}\n",
            "{'loss': 0.014, 'learning_rate': 2.6388888888888892e-05, 'epoch': 7083.33}\n",
            "{'loss': 0.0137, 'learning_rate': 2.6111111111111114e-05, 'epoch': 7166.67}\n",
            "{'loss': 0.0138, 'learning_rate': 2.5833333333333336e-05, 'epoch': 7250.0}\n",
            "{'loss': 0.0128, 'learning_rate': 2.5555555555555554e-05, 'epoch': 7333.33}\n",
            "{'loss': 0.0121, 'learning_rate': 2.527777777777778e-05, 'epoch': 7416.67}\n",
            "{'loss': 0.0125, 'learning_rate': 2.5e-05, 'epoch': 7500.0}\n",
            "{'loss': 0.0124, 'learning_rate': 2.4722222222222223e-05, 'epoch': 7583.33}\n",
            "{'loss': 0.0131, 'learning_rate': 2.4444444444444445e-05, 'epoch': 7666.67}\n",
            "{'loss': 0.0124, 'learning_rate': 2.4166666666666667e-05, 'epoch': 7750.0}\n",
            "{'loss': 0.0126, 'learning_rate': 2.3888888888888892e-05, 'epoch': 7833.33}\n",
            "{'loss': 0.0112, 'learning_rate': 2.361111111111111e-05, 'epoch': 7916.67}\n",
            "{'loss': 0.0115, 'learning_rate': 2.3333333333333336e-05, 'epoch': 8000.0}\n",
            "{'loss': 0.0119, 'learning_rate': 2.3055555555555558e-05, 'epoch': 8083.33}\n",
            "{'loss': 0.0107, 'learning_rate': 2.277777777777778e-05, 'epoch': 8166.67}\n",
            "{'loss': 0.0095, 'learning_rate': 2.25e-05, 'epoch': 8250.0}\n",
            "{'loss': 0.0107, 'learning_rate': 2.2222222222222223e-05, 'epoch': 8333.33}\n",
            "{'loss': 0.0112, 'learning_rate': 2.1944444444444445e-05, 'epoch': 8416.67}\n",
            "{'loss': 0.0107, 'learning_rate': 2.1666666666666667e-05, 'epoch': 8500.0}\n",
            "{'loss': 0.0099, 'learning_rate': 2.138888888888889e-05, 'epoch': 8583.33}\n",
            "{'loss': 0.0109, 'learning_rate': 2.111111111111111e-05, 'epoch': 8666.67}\n",
            "{'loss': 0.0105, 'learning_rate': 2.0833333333333336e-05, 'epoch': 8750.0}\n",
            "{'loss': 0.0106, 'learning_rate': 2.0555555555555555e-05, 'epoch': 8833.33}\n",
            "{'loss': 0.0099, 'learning_rate': 2.027777777777778e-05, 'epoch': 8916.67}\n",
            "{'loss': 0.0111, 'learning_rate': 2e-05, 'epoch': 9000.0}\n",
            "{'loss': 0.0097, 'learning_rate': 1.9722222222222224e-05, 'epoch': 9083.33}\n",
            "{'loss': 0.0101, 'learning_rate': 1.9444444444444445e-05, 'epoch': 9166.67}\n",
            "{'loss': 0.0101, 'learning_rate': 1.9166666666666667e-05, 'epoch': 9250.0}\n",
            "{'loss': 0.0105, 'learning_rate': 1.888888888888889e-05, 'epoch': 9333.33}\n",
            "{'loss': 0.0092, 'learning_rate': 1.861111111111111e-05, 'epoch': 9416.67}\n",
            "{'loss': 0.0091, 'learning_rate': 1.8333333333333333e-05, 'epoch': 9500.0}\n",
            "{'loss': 0.009, 'learning_rate': 1.8055555555555555e-05, 'epoch': 9583.33}\n",
            "{'loss': 0.0106, 'learning_rate': 1.777777777777778e-05, 'epoch': 9666.67}\n",
            "{'loss': 0.009, 'learning_rate': 1.75e-05, 'epoch': 9750.0}\n",
            "{'loss': 0.0106, 'learning_rate': 1.7222222222222224e-05, 'epoch': 9833.33}\n",
            "{'loss': 0.008, 'learning_rate': 1.6944444444444446e-05, 'epoch': 9916.67}\n",
            "{'loss': 0.0087, 'learning_rate': 1.6666666666666667e-05, 'epoch': 10000.0}\n",
            "{'loss': 0.0084, 'learning_rate': 1.638888888888889e-05, 'epoch': 10083.33}\n",
            "{'loss': 0.0081, 'learning_rate': 1.6111111111111115e-05, 'epoch': 10166.67}\n",
            "{'loss': 0.0078, 'learning_rate': 1.5833333333333333e-05, 'epoch': 10250.0}\n",
            "{'loss': 0.0084, 'learning_rate': 1.5555555555555555e-05, 'epoch': 10333.33}\n",
            "{'loss': 0.0079, 'learning_rate': 1.527777777777778e-05, 'epoch': 10416.67}\n",
            "{'loss': 0.0086, 'learning_rate': 1.5e-05, 'epoch': 10500.0}\n",
            "{'loss': 0.0076, 'learning_rate': 1.4722222222222224e-05, 'epoch': 10583.33}\n",
            "{'loss': 0.0083, 'learning_rate': 1.4444444444444444e-05, 'epoch': 10666.67}\n",
            "{'loss': 0.0077, 'learning_rate': 1.4166666666666668e-05, 'epoch': 10750.0}\n",
            "{'loss': 0.0085, 'learning_rate': 1.388888888888889e-05, 'epoch': 10833.33}\n",
            "{'loss': 0.0083, 'learning_rate': 1.3611111111111111e-05, 'epoch': 10916.67}\n",
            "{'loss': 0.0066, 'learning_rate': 1.3333333333333333e-05, 'epoch': 11000.0}\n",
            "{'loss': 0.0068, 'learning_rate': 1.3055555555555557e-05, 'epoch': 11083.33}\n",
            "{'loss': 0.007, 'learning_rate': 1.2777777777777777e-05, 'epoch': 11166.67}\n",
            "{'loss': 0.0075, 'learning_rate': 1.25e-05, 'epoch': 11250.0}\n",
            "{'loss': 0.0073, 'learning_rate': 1.2222222222222222e-05, 'epoch': 11333.33}\n",
            "{'loss': 0.0072, 'learning_rate': 1.1944444444444446e-05, 'epoch': 11416.67}\n",
            "{'loss': 0.0067, 'learning_rate': 1.1666666666666668e-05, 'epoch': 11500.0}\n",
            "{'loss': 0.007, 'learning_rate': 1.138888888888889e-05, 'epoch': 11583.33}\n",
            "{'loss': 0.0071, 'learning_rate': 1.1111111111111112e-05, 'epoch': 11666.67}\n",
            "{'loss': 0.0067, 'learning_rate': 1.0833333333333334e-05, 'epoch': 11750.0}\n",
            "{'loss': 0.0065, 'learning_rate': 1.0555555555555555e-05, 'epoch': 11833.33}\n",
            "{'loss': 0.006, 'learning_rate': 1.0277777777777777e-05, 'epoch': 11916.67}\n",
            "{'loss': 0.0066, 'learning_rate': 1e-05, 'epoch': 12000.0}\n",
            "{'loss': 0.0059, 'learning_rate': 9.722222222222223e-06, 'epoch': 12083.33}\n",
            "{'loss': 0.0064, 'learning_rate': 9.444444444444445e-06, 'epoch': 12166.67}\n",
            "{'loss': 0.0066, 'learning_rate': 9.166666666666666e-06, 'epoch': 12250.0}\n",
            "{'loss': 0.0064, 'learning_rate': 8.88888888888889e-06, 'epoch': 12333.33}\n",
            "{'loss': 0.0069, 'learning_rate': 8.611111111111112e-06, 'epoch': 12416.67}\n",
            "{'loss': 0.0057, 'learning_rate': 8.333333333333334e-06, 'epoch': 12500.0}\n",
            "{'loss': 0.0059, 'learning_rate': 8.055555555555557e-06, 'epoch': 12583.33}\n",
            "{'loss': 0.0062, 'learning_rate': 7.777777777777777e-06, 'epoch': 12666.67}\n",
            "{'loss': 0.0056, 'learning_rate': 7.5e-06, 'epoch': 12750.0}\n",
            "{'loss': 0.0058, 'learning_rate': 7.222222222222222e-06, 'epoch': 12833.33}\n",
            "{'loss': 0.0056, 'learning_rate': 6.944444444444445e-06, 'epoch': 12916.67}\n",
            "{'loss': 0.0058, 'learning_rate': 6.666666666666667e-06, 'epoch': 13000.0}\n",
            "{'loss': 0.0052, 'learning_rate': 6.3888888888888885e-06, 'epoch': 13083.33}\n",
            "{'loss': 0.0054, 'learning_rate': 6.111111111111111e-06, 'epoch': 13166.67}\n",
            "{'loss': 0.0051, 'learning_rate': 5.833333333333334e-06, 'epoch': 13250.0}\n",
            "{'loss': 0.005, 'learning_rate': 5.555555555555556e-06, 'epoch': 13333.33}\n",
            "{'loss': 0.0063, 'learning_rate': 5.277777777777778e-06, 'epoch': 13416.67}\n",
            "{'loss': 0.0054, 'learning_rate': 5e-06, 'epoch': 13500.0}\n",
            "{'loss': 0.0053, 'learning_rate': 4.722222222222222e-06, 'epoch': 13583.33}\n",
            "{'loss': 0.0053, 'learning_rate': 4.444444444444445e-06, 'epoch': 13666.67}\n",
            "{'loss': 0.0052, 'learning_rate': 4.166666666666667e-06, 'epoch': 13750.0}\n",
            "{'loss': 0.0051, 'learning_rate': 3.888888888888889e-06, 'epoch': 13833.33}\n",
            "{'loss': 0.0059, 'learning_rate': 3.611111111111111e-06, 'epoch': 13916.67}\n",
            "{'loss': 0.005, 'learning_rate': 3.3333333333333333e-06, 'epoch': 14000.0}\n",
            "{'loss': 0.0051, 'learning_rate': 3.0555555555555556e-06, 'epoch': 14083.33}\n",
            "{'loss': 0.0049, 'learning_rate': 2.777777777777778e-06, 'epoch': 14166.67}\n",
            "{'loss': 0.005, 'learning_rate': 2.5e-06, 'epoch': 14250.0}\n",
            "{'loss': 0.0052, 'learning_rate': 2.2222222222222225e-06, 'epoch': 14333.33}\n",
            "{'loss': 0.0053, 'learning_rate': 1.9444444444444444e-06, 'epoch': 14416.67}\n",
            "{'loss': 0.0053, 'learning_rate': 1.6666666666666667e-06, 'epoch': 14500.0}\n",
            "{'loss': 0.0044, 'learning_rate': 1.388888888888889e-06, 'epoch': 14583.33}\n",
            "{'loss': 0.0047, 'learning_rate': 1.1111111111111112e-06, 'epoch': 14666.67}\n",
            "{'loss': 0.005, 'learning_rate': 8.333333333333333e-07, 'epoch': 14750.0}\n",
            "{'loss': 0.0044, 'learning_rate': 5.555555555555556e-07, 'epoch': 14833.33}\n",
            "{'loss': 0.0044, 'learning_rate': 2.777777777777778e-07, 'epoch': 14916.67}\n",
            "{'loss': 0.0048, 'learning_rate': 0.0, 'epoch': 15000.0}\n",
            "{'train_runtime': 5734.1458, 'train_samples_per_second': 3905.551, 'train_steps_per_second': 15.695, 'train_loss': 0.06566297795772552, 'epoch': 15000.0}\n"
          ]
        },
        {
          "data": {
            "text/plain": [
              "TrainOutput(global_step=90000, training_loss=0.06566297795772552, metrics={'train_runtime': 5734.1458, 'train_samples_per_second': 3905.551, 'train_steps_per_second': 15.695, 'train_loss': 0.06566297795772552, 'epoch': 15000.0})"
            ]
          },
          "execution_count": 9,
          "metadata": {},
          "output_type": "execute_result"
        }
      ],
      "source": [
        "trainer.train()"
      ]
    },
    {
      "cell_type": "code",
      "execution_count": 8,
      "metadata": {},
      "outputs": [
        {
          "name": "stderr",
          "output_type": "stream",
          "text": [
            "c:\\Users\\danm\\Downloads\\oobabooga_windows\\installer_files\\env\\lib\\site-packages\\transformers\\optimization.py:391: FutureWarning: This implementation of AdamW is deprecated and will be removed in a future version. Use the PyTorch implementation torch.optim.AdamW instead, or set `no_deprecation_warning=True` to disable this warning\n",
            "  warnings.warn(\n"
          ]
        },
        {
          "data": {
            "application/vnd.jupyter.widget-view+json": {
              "model_id": "bb0f973e00854b74b0e35adf494a94e3",
              "version_major": 2,
              "version_minor": 0
            },
            "text/plain": [
              "  0%|          | 0/60000 [00:00<?, ?it/s]"
            ]
          },
          "metadata": {},
          "output_type": "display_data"
        },
        {
          "name": "stderr",
          "output_type": "stream",
          "text": [
            "You're using a RobertaTokenizerFast tokenizer. Please note that with a fast tokenizer, using the `__call__` method is faster than using a method to encode the text followed by a call to the `pad` method to get a padded encoding.\n"
          ]
        },
        {
          "name": "stdout",
          "output_type": "stream",
          "text": [
            "{'loss': 0.008, 'learning_rate': 4.958333333333334e-05, 'epoch': 250.0}\n",
            "{'loss': 0.0101, 'learning_rate': 4.9166666666666665e-05, 'epoch': 500.0}\n",
            "{'loss': 0.0097, 'learning_rate': 4.875e-05, 'epoch': 750.0}\n",
            "{'loss': 0.01, 'learning_rate': 4.8333333333333334e-05, 'epoch': 1000.0}\n",
            "{'loss': 0.0099, 'learning_rate': 4.791666666666667e-05, 'epoch': 1250.0}\n",
            "{'loss': 0.009, 'learning_rate': 4.75e-05, 'epoch': 1500.0}\n",
            "{'loss': 0.009, 'learning_rate': 4.708333333333334e-05, 'epoch': 1750.0}\n",
            "{'loss': 0.0094, 'learning_rate': 4.666666666666667e-05, 'epoch': 2000.0}\n",
            "{'loss': 0.0088, 'learning_rate': 4.6250000000000006e-05, 'epoch': 2250.0}\n",
            "{'loss': 0.0082, 'learning_rate': 4.5833333333333334e-05, 'epoch': 2500.0}\n",
            "{'loss': 0.0083, 'learning_rate': 4.541666666666667e-05, 'epoch': 2750.0}\n",
            "{'loss': 0.0087, 'learning_rate': 4.5e-05, 'epoch': 3000.0}\n",
            "{'loss': 0.0085, 'learning_rate': 4.458333333333334e-05, 'epoch': 3250.0}\n",
            "{'loss': 0.0085, 'learning_rate': 4.4166666666666665e-05, 'epoch': 3500.0}\n",
            "{'loss': 0.0082, 'learning_rate': 4.375e-05, 'epoch': 3750.0}\n",
            "{'loss': 0.008, 'learning_rate': 4.3333333333333334e-05, 'epoch': 4000.0}\n",
            "{'loss': 0.0078, 'learning_rate': 4.291666666666667e-05, 'epoch': 4250.0}\n",
            "{'loss': 0.0078, 'learning_rate': 4.25e-05, 'epoch': 4500.0}\n",
            "{'loss': 0.0075, 'learning_rate': 4.208333333333334e-05, 'epoch': 4750.0}\n",
            "{'loss': 0.0076, 'learning_rate': 4.166666666666667e-05, 'epoch': 5000.0}\n",
            "{'loss': 0.0076, 'learning_rate': 4.125e-05, 'epoch': 5250.0}\n",
            "{'loss': 0.0073, 'learning_rate': 4.0833333333333334e-05, 'epoch': 5500.0}\n",
            "{'loss': 0.0079, 'learning_rate': 4.041666666666667e-05, 'epoch': 5750.0}\n",
            "{'loss': 0.0067, 'learning_rate': 4e-05, 'epoch': 6000.0}\n",
            "{'loss': 0.0071, 'learning_rate': 3.958333333333333e-05, 'epoch': 6250.0}\n",
            "{'loss': 0.007, 'learning_rate': 3.9166666666666665e-05, 'epoch': 6500.0}\n",
            "{'loss': 0.0064, 'learning_rate': 3.875e-05, 'epoch': 6750.0}\n",
            "{'loss': 0.0063, 'learning_rate': 3.8333333333333334e-05, 'epoch': 7000.0}\n",
            "{'loss': 0.0067, 'learning_rate': 3.791666666666667e-05, 'epoch': 7250.0}\n",
            "{'loss': 0.0066, 'learning_rate': 3.7500000000000003e-05, 'epoch': 7500.0}\n",
            "{'loss': 0.0066, 'learning_rate': 3.708333333333334e-05, 'epoch': 7750.0}\n",
            "{'loss': 0.0062, 'learning_rate': 3.6666666666666666e-05, 'epoch': 8000.0}\n",
            "{'loss': 0.0059, 'learning_rate': 3.625e-05, 'epoch': 8250.0}\n",
            "{'loss': 0.0059, 'learning_rate': 3.5833333333333335e-05, 'epoch': 8500.0}\n",
            "{'loss': 0.0057, 'learning_rate': 3.541666666666667e-05, 'epoch': 8750.0}\n",
            "{'loss': 0.0057, 'learning_rate': 3.5e-05, 'epoch': 9000.0}\n",
            "{'loss': 0.0058, 'learning_rate': 3.458333333333333e-05, 'epoch': 9250.0}\n",
            "{'loss': 0.0059, 'learning_rate': 3.4166666666666666e-05, 'epoch': 9500.0}\n",
            "{'loss': 0.0057, 'learning_rate': 3.375000000000001e-05, 'epoch': 9750.0}\n",
            "{'loss': 0.0057, 'learning_rate': 3.3333333333333335e-05, 'epoch': 10000.0}\n",
            "{'loss': 0.0054, 'learning_rate': 3.291666666666667e-05, 'epoch': 10250.0}\n",
            "{'loss': 0.0058, 'learning_rate': 3.2500000000000004e-05, 'epoch': 10500.0}\n",
            "{'loss': 0.0054, 'learning_rate': 3.208333333333334e-05, 'epoch': 10750.0}\n",
            "{'loss': 0.0051, 'learning_rate': 3.1666666666666666e-05, 'epoch': 11000.0}\n",
            "{'loss': 0.0053, 'learning_rate': 3.125e-05, 'epoch': 11250.0}\n",
            "{'loss': 0.0051, 'learning_rate': 3.0833333333333335e-05, 'epoch': 11500.0}\n",
            "{'loss': 0.005, 'learning_rate': 3.0416666666666666e-05, 'epoch': 11750.0}\n",
            "{'loss': 0.0051, 'learning_rate': 3e-05, 'epoch': 12000.0}\n",
            "{'loss': 0.0054, 'learning_rate': 2.9583333333333335e-05, 'epoch': 12250.0}\n",
            "{'loss': 0.005, 'learning_rate': 2.916666666666667e-05, 'epoch': 12500.0}\n",
            "{'loss': 0.0047, 'learning_rate': 2.8749999999999997e-05, 'epoch': 12750.0}\n",
            "{'loss': 0.0046, 'learning_rate': 2.8333333333333335e-05, 'epoch': 13000.0}\n",
            "{'loss': 0.0046, 'learning_rate': 2.791666666666667e-05, 'epoch': 13250.0}\n",
            "{'loss': 0.0049, 'learning_rate': 2.7500000000000004e-05, 'epoch': 13500.0}\n",
            "{'loss': 0.0049, 'learning_rate': 2.7083333333333332e-05, 'epoch': 13750.0}\n",
            "{'loss': 0.0044, 'learning_rate': 2.6666666666666667e-05, 'epoch': 14000.0}\n",
            "{'loss': 0.0042, 'learning_rate': 2.625e-05, 'epoch': 14250.0}\n",
            "{'loss': 0.0044, 'learning_rate': 2.5833333333333336e-05, 'epoch': 14500.0}\n",
            "{'loss': 0.0043, 'learning_rate': 2.5416666666666667e-05, 'epoch': 14750.0}\n",
            "{'loss': 0.0044, 'learning_rate': 2.5e-05, 'epoch': 15000.0}\n",
            "{'loss': 0.0037, 'learning_rate': 2.4583333333333332e-05, 'epoch': 15250.0}\n",
            "{'loss': 0.0041, 'learning_rate': 2.4166666666666667e-05, 'epoch': 15500.0}\n",
            "{'loss': 0.004, 'learning_rate': 2.375e-05, 'epoch': 15750.0}\n",
            "{'loss': 0.0042, 'learning_rate': 2.3333333333333336e-05, 'epoch': 16000.0}\n",
            "{'loss': 0.0039, 'learning_rate': 2.2916666666666667e-05, 'epoch': 16250.0}\n",
            "{'loss': 0.004, 'learning_rate': 2.25e-05, 'epoch': 16500.0}\n",
            "{'loss': 0.0039, 'learning_rate': 2.2083333333333333e-05, 'epoch': 16750.0}\n",
            "{'loss': 0.0039, 'learning_rate': 2.1666666666666667e-05, 'epoch': 17000.0}\n",
            "{'loss': 0.0038, 'learning_rate': 2.125e-05, 'epoch': 17250.0}\n",
            "{'loss': 0.0041, 'learning_rate': 2.0833333333333336e-05, 'epoch': 17500.0}\n",
            "{'loss': 0.0037, 'learning_rate': 2.0416666666666667e-05, 'epoch': 17750.0}\n",
            "{'loss': 0.0034, 'learning_rate': 2e-05, 'epoch': 18000.0}\n",
            "{'loss': 0.0036, 'learning_rate': 1.9583333333333333e-05, 'epoch': 18250.0}\n",
            "{'loss': 0.0037, 'learning_rate': 1.9166666666666667e-05, 'epoch': 18500.0}\n",
            "{'loss': 0.0041, 'learning_rate': 1.8750000000000002e-05, 'epoch': 18750.0}\n",
            "{'loss': 0.0033, 'learning_rate': 1.8333333333333333e-05, 'epoch': 19000.0}\n",
            "{'loss': 0.0032, 'learning_rate': 1.7916666666666667e-05, 'epoch': 19250.0}\n",
            "{'loss': 0.0038, 'learning_rate': 1.75e-05, 'epoch': 19500.0}\n",
            "{'loss': 0.0034, 'learning_rate': 1.7083333333333333e-05, 'epoch': 19750.0}\n",
            "{'loss': 0.0036, 'learning_rate': 1.6666666666666667e-05, 'epoch': 20000.0}\n",
            "{'loss': 0.0036, 'learning_rate': 1.6250000000000002e-05, 'epoch': 20250.0}\n",
            "{'loss': 0.0032, 'learning_rate': 1.5833333333333333e-05, 'epoch': 20500.0}\n",
            "{'loss': 0.0033, 'learning_rate': 1.5416666666666668e-05, 'epoch': 20750.0}\n",
            "{'loss': 0.003, 'learning_rate': 1.5e-05, 'epoch': 21000.0}\n",
            "{'loss': 0.0036, 'learning_rate': 1.4583333333333335e-05, 'epoch': 21250.0}\n",
            "{'loss': 0.0032, 'learning_rate': 1.4166666666666668e-05, 'epoch': 21500.0}\n",
            "{'loss': 0.0034, 'learning_rate': 1.3750000000000002e-05, 'epoch': 21750.0}\n",
            "{'loss': 0.0031, 'learning_rate': 1.3333333333333333e-05, 'epoch': 22000.0}\n",
            "{'loss': 0.0027, 'learning_rate': 1.2916666666666668e-05, 'epoch': 22250.0}\n",
            "{'loss': 0.0032, 'learning_rate': 1.25e-05, 'epoch': 22500.0}\n",
            "{'loss': 0.0028, 'learning_rate': 1.2083333333333333e-05, 'epoch': 22750.0}\n",
            "{'loss': 0.0028, 'learning_rate': 1.1666666666666668e-05, 'epoch': 23000.0}\n",
            "{'loss': 0.0028, 'learning_rate': 1.125e-05, 'epoch': 23250.0}\n",
            "{'loss': 0.003, 'learning_rate': 1.0833333333333334e-05, 'epoch': 23500.0}\n",
            "{'loss': 0.0027, 'learning_rate': 1.0416666666666668e-05, 'epoch': 23750.0}\n",
            "{'loss': 0.0025, 'learning_rate': 1e-05, 'epoch': 24000.0}\n",
            "{'loss': 0.0027, 'learning_rate': 9.583333333333334e-06, 'epoch': 24250.0}\n",
            "{'loss': 0.0025, 'learning_rate': 9.166666666666666e-06, 'epoch': 24500.0}\n",
            "{'loss': 0.0028, 'learning_rate': 8.75e-06, 'epoch': 24750.0}\n",
            "{'loss': 0.0027, 'learning_rate': 8.333333333333334e-06, 'epoch': 25000.0}\n",
            "{'loss': 0.0028, 'learning_rate': 7.916666666666667e-06, 'epoch': 25250.0}\n",
            "{'loss': 0.0026, 'learning_rate': 7.5e-06, 'epoch': 25500.0}\n",
            "{'loss': 0.0026, 'learning_rate': 7.083333333333334e-06, 'epoch': 25750.0}\n",
            "{'loss': 0.0024, 'learning_rate': 6.666666666666667e-06, 'epoch': 26000.0}\n",
            "{'loss': 0.0026, 'learning_rate': 6.25e-06, 'epoch': 26250.0}\n",
            "{'loss': 0.0023, 'learning_rate': 5.833333333333334e-06, 'epoch': 26500.0}\n",
            "{'loss': 0.0026, 'learning_rate': 5.416666666666667e-06, 'epoch': 26750.0}\n",
            "{'loss': 0.0024, 'learning_rate': 5e-06, 'epoch': 27000.0}\n",
            "{'loss': 0.0024, 'learning_rate': 4.583333333333333e-06, 'epoch': 27250.0}\n",
            "{'loss': 0.0022, 'learning_rate': 4.166666666666667e-06, 'epoch': 27500.0}\n",
            "{'loss': 0.0025, 'learning_rate': 3.75e-06, 'epoch': 27750.0}\n",
            "{'loss': 0.0022, 'learning_rate': 3.3333333333333333e-06, 'epoch': 28000.0}\n",
            "{'loss': 0.0023, 'learning_rate': 2.916666666666667e-06, 'epoch': 28250.0}\n",
            "{'loss': 0.0023, 'learning_rate': 2.5e-06, 'epoch': 28500.0}\n",
            "{'loss': 0.0022, 'learning_rate': 2.0833333333333334e-06, 'epoch': 28750.0}\n",
            "{'loss': 0.0024, 'learning_rate': 1.6666666666666667e-06, 'epoch': 29000.0}\n",
            "{'loss': 0.0023, 'learning_rate': 1.25e-06, 'epoch': 29250.0}\n",
            "{'loss': 0.0024, 'learning_rate': 8.333333333333333e-07, 'epoch': 29500.0}\n",
            "{'loss': 0.0022, 'learning_rate': 4.1666666666666667e-07, 'epoch': 29750.0}\n",
            "{'loss': 0.0022, 'learning_rate': 0.0, 'epoch': 30000.0}\n",
            "{'train_runtime': 13436.8858, 'train_samples_per_second': 3333.362, 'train_steps_per_second': 4.465, 'train_loss': 0.004855013785759608, 'epoch': 30000.0}\n"
          ]
        },
        {
          "data": {
            "text/plain": [
              "TrainOutput(global_step=60000, training_loss=0.004855013785759608, metrics={'train_runtime': 13436.8858, 'train_samples_per_second': 3333.362, 'train_steps_per_second': 4.465, 'train_loss': 0.004855013785759608, 'epoch': 30000.0})"
            ]
          },
          "execution_count": 8,
          "metadata": {},
          "output_type": "execute_result"
        }
      ],
      "source": [
        "trainer.train(resume_from_checkpoint=\"./models/powerball2\")"
      ]
    },
    {
      "cell_type": "code",
      "execution_count": 10,
      "metadata": {},
      "outputs": [],
      "source": [
        "trainer.save_model(\"./models/powerball2/\")"
      ]
    },
    {
      "cell_type": "code",
      "execution_count": 10,
      "metadata": {},
      "outputs": [
        {
          "name": "stderr",
          "output_type": "stream",
          "text": [
            "If you want to use `RobertaLMHeadModel` as a standalone, add `is_decoder=True.`\n"
          ]
        }
      ],
      "source": [
        "from transformers import pipeline\n",
        "\n",
        "fill_mask = pipeline(\n",
        "    \"fill-mask\",\n",
        "    model=\"./models/powerball2/checkpoint-60000/\",\n",
        "    tokenizer=tokenizer,\n",
        "    top_k=20,\n",
        ")\n",
        "\n",
        "fill_text = pipeline(\n",
        "    \"text-generation\",\n",
        "    model=\"./models/powerball2/checkpoint-60000/\",\n",
        "    tokenizer=tokenizer\n",
        ")"
      ]
    },
    {
      "cell_type": "code",
      "execution_count": 11,
      "metadata": {},
      "outputs": [
        {
          "data": {
            "text/plain": [
              "[{'score': 1.0,\n",
              "  'token': 53,\n",
              "  'token_str': '31',\n",
              "  'sequence': '03 09 21 24 29 14 : 13 20 31 33 59 20'},\n",
              " {'score': 4.1560990204914106e-09,\n",
              "  'token': 22,\n",
              "  'token_str': '20',\n",
              "  'sequence': '03 09 21 24 29 14 : 13 20 20 33 59 20'},\n",
              " {'score': 1.878857736059558e-09,\n",
              "  'token': 54,\n",
              "  'token_str': '41',\n",
              "  'sequence': '03 09 21 24 29 14 : 13 20 41 33 59 20'},\n",
              " {'score': 7.333026963429745e-10,\n",
              "  'token': 68,\n",
              "  'token_str': '34',\n",
              "  'sequence': '03 09 21 24 29 14 : 13 20 34 33 59 20'},\n",
              " {'score': 3.692351702166974e-10,\n",
              "  'token': 37,\n",
              "  'token_str': '13',\n",
              "  'sequence': '03 09 21 24 29 14 : 13 20 13 33 59 20'},\n",
              " {'score': 1.3290527012266296e-10,\n",
              "  'token': 24,\n",
              "  'token_str': '21',\n",
              "  'sequence': '03 09 21 24 29 14 : 13 20 21 33 59 20'},\n",
              " {'score': 1.1891779228001553e-10,\n",
              "  'token': 16,\n",
              "  'token_str': '23',\n",
              "  'sequence': '03 09 21 24 29 14 : 13 20 23 33 59 20'},\n",
              " {'score': 1.185737619202598e-10,\n",
              "  'token': 58,\n",
              "  'token_str': '38',\n",
              "  'sequence': '03 09 21 24 29 14 : 13 20 38 33 59 20'},\n",
              " {'score': 1.0389657884024572e-10,\n",
              "  'token': 44,\n",
              "  'token_str': '28',\n",
              "  'sequence': '03 09 21 24 29 14 : 13 20 28 33 59 20'},\n",
              " {'score': 8.794946715351415e-11,\n",
              "  'token': 19,\n",
              "  'token_str': '14',\n",
              "  'sequence': '03 09 21 24 29 14 : 13 20 14 33 59 20'},\n",
              " {'score': 8.571178489180653e-11,\n",
              "  'token': 50,\n",
              "  'token_str': '30',\n",
              "  'sequence': '03 09 21 24 29 14 : 13 20 30 33 59 20'},\n",
              " {'score': 8.050694139116743e-11,\n",
              "  'token': 15,\n",
              "  'token_str': ':',\n",
              "  'sequence': '03 09 21 24 29 14 : 13 20 : 33 59 20'},\n",
              " {'score': 7.091363607436563e-11,\n",
              "  'token': 59,\n",
              "  'token_str': '40',\n",
              "  'sequence': '03 09 21 24 29 14 : 13 20 40 33 59 20'},\n",
              " {'score': 4.812197168524435e-11,\n",
              "  'token': 29,\n",
              "  'token_str': '07',\n",
              "  'sequence': '03 09 21 24 29 14 : 13 20 07 33 59 20'},\n",
              " {'score': 4.50343755342697e-11,\n",
              "  'token': 66,\n",
              "  'token_str': '35',\n",
              "  'sequence': '03 09 21 24 29 14 : 13 20 35 33 59 20'},\n",
              " {'score': 4.244611259696107e-11,\n",
              "  'token': 51,\n",
              "  'token_str': '45',\n",
              "  'sequence': '03 09 21 24 29 14 : 13 20 45 33 59 20'},\n",
              " {'score': 3.236276177598363e-11,\n",
              "  'token': 30,\n",
              "  'token_str': '22',\n",
              "  'sequence': '03 09 21 24 29 14 : 13 20 22 33 59 20'},\n",
              " {'score': 2.569453677603306e-11,\n",
              "  'token': 84,\n",
              "  'token_str': '60',\n",
              "  'sequence': '03 09 21 24 29 14 : 13 20 60 33 59 20'},\n",
              " {'score': 2.537576919425799e-11,\n",
              "  'token': 69,\n",
              "  'token_str': '49',\n",
              "  'sequence': '03 09 21 24 29 14 : 13 20 49 33 59 20'},\n",
              " {'score': 2.4402009926594026e-11,\n",
              "  'token': 46,\n",
              "  'token_str': '33',\n",
              "  'sequence': '03 09 21 24 29 14 : 13 20 33 33 59 20'}]"
            ]
          },
          "execution_count": 11,
          "metadata": {},
          "output_type": "execute_result"
        }
      ],
      "source": [
        "fill_mask(\"03 09 21 24 29 14 : 13 20 <mask> 33 59 20\") #03 09 21 24 29 14 : 13 20 31 33 59 20"
      ]
    },
    {
      "cell_type": "code",
      "execution_count": 12,
      "metadata": {},
      "outputs": [
        {
          "data": {
            "text/plain": [
              "[{'score': 1.0,\n",
              "  'token': 22,\n",
              "  'token_str': '20',\n",
              "  'sequence': '03 09 21 24 29 14 : 13 20 31 33 59 20'},\n",
              " {'score': 3.03060826434276e-10,\n",
              "  'token': 19,\n",
              "  'token_str': '14',\n",
              "  'sequence': '03 09 21 24 29 14 : 13 20 31 33 59 14'},\n",
              " {'score': 2.696455836392886e-10,\n",
              "  'token': 17,\n",
              "  'token_str': '11',\n",
              "  'sequence': '03 09 21 24 29 14 : 13 20 31 33 59 11'},\n",
              " {'score': 2.1602752919847035e-10,\n",
              "  'token': 39,\n",
              "  'token_str': '25',\n",
              "  'sequence': '03 09 21 24 29 14 : 13 20 31 33 59 25'},\n",
              " {'score': 1.8838196280679398e-10,\n",
              "  'token': 41,\n",
              "  'token_str': '09',\n",
              "  'sequence': '03 09 21 24 29 14 : 13 20 31 33 59 09'},\n",
              " {'score': 1.2831595508355775e-10,\n",
              "  'token': 70,\n",
              "  'token_str': '50',\n",
              "  'sequence': '03 09 21 24 29 14 : 13 20 31 33 59 50'},\n",
              " {'score': 5.391965346435157e-11,\n",
              "  'token': 53,\n",
              "  'token_str': '31',\n",
              "  'sequence': '03 09 21 24 29 14 : 13 20 31 33 59 31'},\n",
              " {'score': 5.096429181450368e-11,\n",
              "  'token': 37,\n",
              "  'token_str': '13',\n",
              "  'sequence': '03 09 21 24 29 14 : 13 20 31 33 59 13'},\n",
              " {'score': 5.00802767311459e-11,\n",
              "  'token': 49,\n",
              "  'token_str': '59',\n",
              "  'sequence': '03 09 21 24 29 14 : 13 20 31 33 59 59'},\n",
              " {'score': 4.786702631487394e-11,\n",
              "  'token': 24,\n",
              "  'token_str': '21',\n",
              "  'sequence': '03 09 21 24 29 14 : 13 20 31 33 59 21'},\n",
              " {'score': 4.1987222726413975e-11,\n",
              "  'token': 65,\n",
              "  'token_str': '57',\n",
              "  'sequence': '03 09 21 24 29 14 : 13 20 31 33 59 57'},\n",
              " {'score': 4.112676518785996e-11,\n",
              "  'token': 67,\n",
              "  'token_str': '48',\n",
              "  'sequence': '03 09 21 24 29 14 : 13 20 31 33 59 48'},\n",
              " {'score': 3.704878764887454e-11,\n",
              "  'token': 21,\n",
              "  'token_str': '24',\n",
              "  'sequence': '03 09 21 24 29 14 : 13 20 31 33 59 24'},\n",
              " {'score': 3.671625503631759e-11,\n",
              "  'token': 32,\n",
              "  'token_str': '16',\n",
              "  'sequence': '03 09 21 24 29 14 : 13 20 31 33 59 16'},\n",
              " {'score': 3.37988040333137e-11,\n",
              "  'token': 16,\n",
              "  'token_str': '23',\n",
              "  'sequence': '03 09 21 24 29 14 : 13 20 31 33 59 23'},\n",
              " {'score': 2.3595412082522138e-11,\n",
              "  'token': 55,\n",
              "  'token_str': '52',\n",
              "  'sequence': '03 09 21 24 29 14 : 13 20 31 33 59 52'},\n",
              " {'score': 2.356649250745413e-11,\n",
              "  'token': 47,\n",
              "  'token_str': '27',\n",
              "  'sequence': '03 09 21 24 29 14 : 13 20 31 33 59 27'},\n",
              " {'score': 2.1177757464352354e-11,\n",
              "  'token': 25,\n",
              "  'token_str': '03',\n",
              "  'sequence': '03 09 21 24 29 14 : 13 20 31 33 59 03'},\n",
              " {'score': 2.0421647012325295e-11,\n",
              "  'token': 35,\n",
              "  'token_str': '02',\n",
              "  'sequence': '03 09 21 24 29 14 : 13 20 31 33 59 02'},\n",
              " {'score': 1.9718090008002953e-11,\n",
              "  'token': 42,\n",
              "  'token_str': '26',\n",
              "  'sequence': '03 09 21 24 29 14 : 13 20 31 33 59 26'}]"
            ]
          },
          "execution_count": 12,
          "metadata": {},
          "output_type": "execute_result"
        }
      ],
      "source": [
        "fill_mask(\"03 09 21 24 29 14 : 13 20 31 33 59 <mask>\")"
      ]
    },
    {
      "cell_type": "code",
      "execution_count": 13,
      "metadata": {},
      "outputs": [
        {
          "data": {
            "text/plain": [
              "[{'generated_text': '03 09 21 24 29 14 :: 13 20 31 33 59 20'}]"
            ]
          },
          "execution_count": 13,
          "metadata": {},
          "output_type": "execute_result"
        }
      ],
      "source": [
        "fill_text(\"03 09 21 24 29 14 ::\", max_new_tokens=6)"
      ]
    },
    {
      "cell_type": "code",
      "execution_count": 15,
      "metadata": {},
      "outputs": [
        {
          "data": {
            "text/plain": [
              "[{'generated_text': '03 09 21 24 29 14 :: 13 20 31 33 59 20'}]"
            ]
          },
          "execution_count": 15,
          "metadata": {},
          "output_type": "execute_result"
        }
      ],
      "source": [
        "fill_text(\"03 09 21 24 29 14 :: 13 20\", max_new_tokens=4)\n"
      ]
    },
    {
      "cell_type": "code",
      "execution_count": 124,
      "metadata": {},
      "outputs": [
        {
          "data": {
            "text/plain": [
              "[{'generated_text': '03 09 21 24 29 14 :: 13 20 31 31 33 20 20'}]"
            ]
          },
          "execution_count": 124,
          "metadata": {},
          "output_type": "execute_result"
        }
      ],
      "source": [
        "fill_text(\"03 09 21 24 29 14 :: 13 20 31\", max_new_tokens=4)\n"
      ]
    },
    {
      "cell_type": "code",
      "execution_count": 123,
      "metadata": {},
      "outputs": [
        {
          "data": {
            "text/plain": [
              "[{'generated_text': '03 09 21 24 29 14 :: 13 20 31 33 33 20 20'}]"
            ]
          },
          "execution_count": 123,
          "metadata": {},
          "output_type": "execute_result"
        }
      ],
      "source": [
        "fill_text(\"03 09 21 24 29 14 :: 13 20 31 33\", max_new_tokens=3)\n"
      ]
    },
    {
      "cell_type": "code",
      "execution_count": 17,
      "metadata": {},
      "outputs": [
        {
          "data": {
            "text/plain": [
              "[{'generated_text': '03 09 21 24 29 14 :: 13 20 31 33 59 20'}]"
            ]
          },
          "execution_count": 17,
          "metadata": {},
          "output_type": "execute_result"
        }
      ],
      "source": [
        "fill_text(\"03 09 21 24 29 14 :: 13 20 31 33 59\", max_new_tokens=1)"
      ]
    },
    {
      "cell_type": "code",
      "execution_count": 38,
      "metadata": {},
      "outputs": [
        {
          "name": "stdout",
          "output_type": "stream",
          "text": [
            " 21 21 21 24 69 16 2 percetange 0.001\n",
            " 05 26 67 54 69 16 2 percetange 0.002\n",
            " 10 15 15 54 58 01 2 percetange 0.003\n",
            " 21 59 25 28 15 01 2 percetange 0.004\n",
            " 10 21 21 51 32 14 2 percetange 0.005\n",
            " 03 21 21 24 08 14 2 percetange 0.006\n",
            " 13 14 10 52 52 21 2 percetange 0.007\n",
            " 07 21 21 41 69 16 2 percetange 0.008\n",
            " 21 21 39 16 69 23 2 percetange 0.009\n",
            " 05 10 10 28 15 18 2 percetange 0.01\n",
            " 34 21 46 25 69 06 2 percetange 0.011\n",
            " 21 16 27 58 69 34 2 percetange 0.012\n",
            " 16 16 15 48 : 21 2 percetange 0.013\n",
            " 07 07 15 30 69 43 2 percetange 0.014\n",
            " 21 21 56 28 69 11 2 percetange 0.015\n",
            " 07 15 40 41 69 16 2 percetange 0.016\n",
            " 12 12 15 16 21 23 2 percetange 0.017\n",
            " 08 21 21 34 40 10 2 percetange 0.018\n",
            " 57 25 03 21 01 16 2 percetange 0.019\n",
            " 34 34 49 58 69 15 2 percetange 0.02\n",
            " 08 08 10 30 69 01 2 percetange 0.021\n",
            " 10 04 21 36 27 16 2 percetange 0.022\n",
            " 21 45 15 44 58 14 2 percetange 0.023\n",
            " 65 54 67 59 69 05 2 percetange 0.024\n",
            " 15 11 21 55 27 14 2 percetange 0.025\n",
            " 16 21 54 24 69 30 2 percetange 0.026\n",
            " 10 15 21 65 14 14 2 percetange 0.027\n",
            " 10 15 21 65 14 14 3 percetange 0.027\n",
            " 08 55 10 59 69 01 2 percetange 0.028\n",
            " 10 17 24 41 52 15 2 percetange 0.029\n",
            " 23 21 21 33 47 10 2 percetange 0.03\n",
            " 21 21 25 54 69 16 2 percetange 0.031\n",
            " 10 15 37 57 57 11 2 percetange 0.032\n",
            " 21 18 60 22 69 21 2 percetange 0.033\n",
            " 54 25 58 64 69 15 2 percetange 0.034\n",
            " 12 34 15 27 69 02 2 percetange 0.035\n",
            " 03 16 16 23 23 10 2 percetange 0.036\n",
            " 21 45 54 54 69 14 2 percetange 0.037\n",
            " 21 21 13 40 69 16 2 percetange 0.038\n",
            " 44 21 54 10 28 14 2 percetange 0.039\n",
            " 54 15 54 16 69 23 2 percetange 0.04\n",
            " 54 25 25 21 69 28 2 percetange 0.041\n",
            " 21 07 07 07 69 19 2 percetange 0.042\n",
            " : 15 19 14 69 02 2 percetange 0.043\n",
            " 21 15 57 13 66 26 2 percetange 0.044\n",
            " 10 16 54 52 56 15 2 percetange 0.045\n",
            " 11 16 21 32 49 10 2 percetange 0.046\n",
            " 10 15 64 16 28 23 2 percetange 0.047\n",
            " 40 15 49 44 69 02 2 percetange 0.048\n",
            " 16 15 23 23 69 29 2 percetange 0.049\n",
            " 10 15 21 55 26 14 2 percetange 0.05\n",
            " 10 15 21 55 26 14 3 percetange 0.05\n",
            " 27 21 04 17 69 16 2 percetange 0.051\n",
            " 07 07 10 23 69 23 2 percetange 0.052\n",
            " 10 15 28 68 12 19 2 percetange 0.053\n",
            " 10 15 28 23 46 01 2 percetange 0.054\n",
            " 21 07 07 28 69 03 2 percetange 0.055\n",
            " 21 07 07 28 69 03 3 percetange 0.055\n",
            " 05 10 10 67 32 07 2 percetange 0.056\n",
            " 21 21 54 10 48 21 2 percetange 0.057\n",
            " 21 44 48 67 34 34 2 percetange 0.058\n",
            " 11 17 19 23 21 10 2 percetange 0.059\n",
            " 03 21 21 34 53 05 2 percetange 0.06\n",
            " 21 21 27 57 59 15 2 percetange 0.061\n",
            " 03 49 15 62 58 23 2 percetange 0.062\n",
            " 03 41 15 10 05 23 2 percetange 0.063\n",
            " 03 41 15 10 05 23 3 percetange 0.063\n",
            " 54 21 59 25 69 14 2 percetange 0.064\n",
            " 15 15 46 58 69 14 2 percetange 0.065\n",
            " 21 24 57 30 69 18 2 percetange 0.066\n",
            " 54 33 33 69 69 21 2 percetange 0.067\n",
            " 27 43 25 15 69 14 2 percetange 0.068\n",
            " 10 16 64 57 52 15 2 percetange 0.069\n",
            " 10 15 11 28 28 12 2 percetange 0.07\n",
            " 21 24 60 69 69 04 2 percetange 0.071\n",
            " 03 54 07 61 69 21 2 percetange 0.072\n",
            " 03 54 07 61 69 21 3 percetange 0.072\n",
            " 21 21 27 25 69 19 2 percetange 0.073\n",
            " : 15 19 54 69 18 2 percetange 0.074\n",
            " 05 45 67 15 54 08 2 percetange 0.075\n",
            " 21 15 25 29 69 16 2 percetange 0.076\n",
            " 21 15 25 29 69 16 3 percetange 0.076\n",
            " 54 04 68 68 69 21 2 percetange 0.077\n",
            " 23 21 34 52 69 08 2 percetange 0.078\n",
            " 21 21 39 69 29 23 2 percetange 0.079\n",
            " 57 15 21 28 28 14 2 percetange 0.08\n",
            " 57 15 15 10 69 01 2 percetange 0.081\n",
            " 57 15 15 10 69 01 3 percetange 0.081\n",
            " 16 15 10 54 69 25 2 percetange 0.082\n",
            " 16 15 10 54 69 25 3 percetange 0.082\n",
            " 44 39 55 54 69 21 2 percetange 0.083\n",
            " 21 45 29 58 69 14 2 percetange 0.084\n",
            " 21 07 32 31 07 67 2 percetange 0.085\n",
            " 21 28 58 07 69 34 2 percetange 0.086\n",
            " 23 21 21 67 50 29 2 percetange 0.087\n",
            " 54 26 59 62 69 21 2 percetange 0.088\n",
            " 21 21 53 10 27 04 2 percetange 0.089\n",
            " 08 21 15 24 14 14 2 percetange 0.09\n",
            " 10 15 65 28 28 14 2 percetange 0.091\n",
            " 16 34 48 58 69 15 2 percetange 0.092\n",
            " 21 21 07 07 69 16 2 percetange 0.093\n",
            " 21 45 24 44 69 14 2 percetange 0.094\n",
            " 57 15 54 54 69 28 2 percetange 0.095\n",
            " 21 07 57 28 69 01 2 percetange 0.096\n",
            " 03 05 46 34 69 14 2 percetange 0.097\n",
            " 15 08 03 69 69 18 2 percetange 0.098\n",
            " 15 08 03 69 69 18 3 percetange 0.098\n",
            " 34 15 15 28 69 14 2 percetange 0.099\n",
            " 21 21 10 27 57 04 2 percetange 0.1\n",
            " 11 21 21 18 69 16 2 percetange 0.101\n",
            " 21 15 09 62 66 01 2 percetange 0.102\n",
            " 15 21 11 17 10 23 2 percetange 0.103\n",
            " 15 21 11 17 10 23 3 percetange 0.103\n",
            " 11 65 21 69 03 14 2 percetange 0.104\n",
            " 11 65 21 69 03 14 3 percetange 0.104\n",
            " 07 45 15 30 69 01 2 percetange 0.105\n",
            " 12 34 15 27 44 69 2 percetange 0.106\n",
            " 21 18 28 27 69 16 2 percetange 0.107\n",
            " 10 15 48 28 21 14 2 percetange 0.108\n",
            " 10 15 48 28 21 14 3 percetange 0.108\n",
            " 57 15 54 69 69 21 2 percetange 0.109\n",
            " 57 15 54 69 69 21 3 percetange 0.109\n",
            " 03 54 13 65 69 69 2 percetange 0.11\n",
            " 21 21 65 14 69 16 2 percetange 0.111\n",
            " 54 21 39 39 69 16 2 percetange 0.112\n",
            " 21 54 65 58 69 14 2 percetange 0.113\n",
            " 21 15 49 49 69 69 2 percetange 0.114\n",
            " 21 15 49 49 69 69 3 percetange 0.114\n",
            " 05 10 10 15 32 07 2 percetange 0.115\n",
            " 55 15 54 69 69 23 2 percetange 0.116\n",
            " 07 15 15 14 69 25 2 percetange 0.117\n",
            " 19 21 21 69 69 34 2 percetange 0.118\n",
            " 21 45 01 67 67 14 2 percetange 0.119\n",
            " 21 15 14 28 69 11 2 percetange 0.12\n",
            " 21 15 14 28 69 11 3 percetange 0.12\n",
            " 05 05 10 67 48 19 2 percetange 0.121\n",
            " : 16 68 68 69 21 2 percetange 0.122\n",
            " 21 09 49 51 69 15 2 percetange 0.123\n",
            " 21 09 49 51 69 15 3 percetange 0.123\n"
          ]
        }
      ],
      "source": [
        "import json\n",
        "f = open(\"./07-12-08-10.json\")\n",
        "winner = \"10 15 21 67 69 03\"\n",
        "winner = winner.split(\" \")\n",
        "numbers = json.load(f)\n",
        "for drawing in numbers:\n",
        "    winning_numbers = drawing[\"Winning Numbers\"]\n",
        "    prompt = f\"{winning_numbers} ::\"\n",
        "    winning_picks = []\n",
        "    for i in range(0, 1000):\n",
        "        prediction = fill_text(prompt, max_new_tokens=6, do_sample=True, temperature=1.7)[0][\"generated_text\"]\n",
        "        prediction = prediction.replace(prompt, \"\")\n",
        "        count = 0\n",
        "        for w in winner:\n",
        "            if w in prediction:\n",
        "                count+=1\n",
        "                if count > 1:\n",
        "                    if prediction not in winning_picks:\n",
        "                        winning_picks.append(prediction)\n",
        "                    print(f\"{prediction} {count} percetange {len(winning_picks)/1000}\")"
      ]
    }
  ],
  "metadata": {
    "accelerator": "GPU",
    "colab": {
      "authorship_tag": "ABX9TyPqbqeA0VB70ho26cHWVp02",
      "collapsed_sections": [],
      "include_colab_link": true,
      "name": "smallBERTa_Pretraining.ipynb",
      "provenance": [],
      "toc_visible": true
    },
    "kernelspec": {
      "display_name": "Python 3",
      "name": "python3"
    },
    "language_info": {
      "codemirror_mode": {
        "name": "ipython",
        "version": 3
      },
      "file_extension": ".py",
      "mimetype": "text/x-python",
      "name": "python",
      "nbconvert_exporter": "python",
      "pygments_lexer": "ipython3",
      "version": "3.10.11"
    }
  },
  "nbformat": 4,
  "nbformat_minor": 0
}
